{
 "cells": [
  {
   "cell_type": "code",
   "execution_count": 1,
   "id": "31428a80",
   "metadata": {},
   "outputs": [],
   "source": [
    "#Importez les librairies\n",
    "import pandas as pd\n",
    "import numpy as np\n",
    "import seaborn as csv\n",
    "import matplotlib.pyplot as plt\n",
    "\n",
    "import seaborn as sns"
   ]
  },
  {
   "cell_type": "code",
   "execution_count": 2,
   "id": "61beef63",
   "metadata": {},
   "outputs": [],
   "source": [
    "#Importez les fichiers csv\n",
    "population = pd.read_csv('Population_2000_2018.csv')\n",
    "dispoAlimentaire = pd.read_csv('DisponibiliteAlimentaire_2017.csv')\n",
    "\n",
    "#Pestel Analysis\n",
    "#Politique - Stabilité Politique\n",
    "stab_pol = pd.read_csv('Political Stability.csv')\n",
    "\n",
    "#Economique - PIB\n",
    "GDP = pd.read_csv('GDP.csv')\n",
    "\n",
    "#Socioculturel - Pourcentage de viande consommée qui est du poulet\n",
    "appro_aliment = pd.read_csv('Food Supply.csv')\n",
    "\n",
    "#Ecologique - Emissions provenant des élévages de poulets\n",
    "émissions = pd.read_csv('Chicken Emissions.csv')\n",
    "\n",
    "#Technologique - Crédit à l'agriculture\n",
    "crédit = pd.read_csv('Credit agriculture.csv')\n",
    "\n",
    "#Légal - Investissements gouvernmental dans l'agriculture\n",
    "invest_govt = pd.read_csv('Government Investment.csv')"
   ]
  },
  {
   "cell_type": "markdown",
   "id": "7f02541b",
   "metadata": {},
   "source": [
    "## Population"
   ]
  },
  {
   "cell_type": "code",
   "execution_count": 3,
   "id": "746006ae",
   "metadata": {},
   "outputs": [
    {
     "data": {
      "text/plain": [
       "(4411, 15)"
      ]
     },
     "execution_count": 3,
     "metadata": {},
     "output_type": "execute_result"
    }
   ],
   "source": [
    "#Verifiez le shape\n",
    "population.shape"
   ]
  },
  {
   "cell_type": "code",
   "execution_count": 4,
   "id": "826ecb15",
   "metadata": {},
   "outputs": [
    {
     "data": {
      "text/html": [
       "<div>\n",
       "<style scoped>\n",
       "    .dataframe tbody tr th:only-of-type {\n",
       "        vertical-align: middle;\n",
       "    }\n",
       "\n",
       "    .dataframe tbody tr th {\n",
       "        vertical-align: top;\n",
       "    }\n",
       "\n",
       "    .dataframe thead th {\n",
       "        text-align: right;\n",
       "    }\n",
       "</style>\n",
       "<table border=\"1\" class=\"dataframe\">\n",
       "  <thead>\n",
       "    <tr style=\"text-align: right;\">\n",
       "      <th></th>\n",
       "      <th>Code Domaine</th>\n",
       "      <th>Domaine</th>\n",
       "      <th>Code zone</th>\n",
       "      <th>Zone</th>\n",
       "      <th>Code Élément</th>\n",
       "      <th>Élément</th>\n",
       "      <th>Code Produit</th>\n",
       "      <th>Produit</th>\n",
       "      <th>Code année</th>\n",
       "      <th>Année</th>\n",
       "      <th>Unité</th>\n",
       "      <th>Valeur</th>\n",
       "      <th>Symbole</th>\n",
       "      <th>Description du Symbole</th>\n",
       "      <th>Note</th>\n",
       "    </tr>\n",
       "  </thead>\n",
       "  <tbody>\n",
       "    <tr>\n",
       "      <th>0</th>\n",
       "      <td>OA</td>\n",
       "      <td>Séries temporelles annuelles</td>\n",
       "      <td>2</td>\n",
       "      <td>Afghanistan</td>\n",
       "      <td>511</td>\n",
       "      <td>Population totale</td>\n",
       "      <td>3010</td>\n",
       "      <td>Population-Estimations</td>\n",
       "      <td>2000</td>\n",
       "      <td>2000</td>\n",
       "      <td>1000 personnes</td>\n",
       "      <td>20779.953</td>\n",
       "      <td>X</td>\n",
       "      <td>Sources internationales sûres</td>\n",
       "      <td>NaN</td>\n",
       "    </tr>\n",
       "    <tr>\n",
       "      <th>1</th>\n",
       "      <td>OA</td>\n",
       "      <td>Séries temporelles annuelles</td>\n",
       "      <td>2</td>\n",
       "      <td>Afghanistan</td>\n",
       "      <td>511</td>\n",
       "      <td>Population totale</td>\n",
       "      <td>3010</td>\n",
       "      <td>Population-Estimations</td>\n",
       "      <td>2001</td>\n",
       "      <td>2001</td>\n",
       "      <td>1000 personnes</td>\n",
       "      <td>21606.988</td>\n",
       "      <td>X</td>\n",
       "      <td>Sources internationales sûres</td>\n",
       "      <td>NaN</td>\n",
       "    </tr>\n",
       "    <tr>\n",
       "      <th>2</th>\n",
       "      <td>OA</td>\n",
       "      <td>Séries temporelles annuelles</td>\n",
       "      <td>2</td>\n",
       "      <td>Afghanistan</td>\n",
       "      <td>511</td>\n",
       "      <td>Population totale</td>\n",
       "      <td>3010</td>\n",
       "      <td>Population-Estimations</td>\n",
       "      <td>2002</td>\n",
       "      <td>2002</td>\n",
       "      <td>1000 personnes</td>\n",
       "      <td>22600.770</td>\n",
       "      <td>X</td>\n",
       "      <td>Sources internationales sûres</td>\n",
       "      <td>NaN</td>\n",
       "    </tr>\n",
       "    <tr>\n",
       "      <th>3</th>\n",
       "      <td>OA</td>\n",
       "      <td>Séries temporelles annuelles</td>\n",
       "      <td>2</td>\n",
       "      <td>Afghanistan</td>\n",
       "      <td>511</td>\n",
       "      <td>Population totale</td>\n",
       "      <td>3010</td>\n",
       "      <td>Population-Estimations</td>\n",
       "      <td>2003</td>\n",
       "      <td>2003</td>\n",
       "      <td>1000 personnes</td>\n",
       "      <td>23680.871</td>\n",
       "      <td>X</td>\n",
       "      <td>Sources internationales sûres</td>\n",
       "      <td>NaN</td>\n",
       "    </tr>\n",
       "    <tr>\n",
       "      <th>4</th>\n",
       "      <td>OA</td>\n",
       "      <td>Séries temporelles annuelles</td>\n",
       "      <td>2</td>\n",
       "      <td>Afghanistan</td>\n",
       "      <td>511</td>\n",
       "      <td>Population totale</td>\n",
       "      <td>3010</td>\n",
       "      <td>Population-Estimations</td>\n",
       "      <td>2004</td>\n",
       "      <td>2004</td>\n",
       "      <td>1000 personnes</td>\n",
       "      <td>24726.684</td>\n",
       "      <td>X</td>\n",
       "      <td>Sources internationales sûres</td>\n",
       "      <td>NaN</td>\n",
       "    </tr>\n",
       "  </tbody>\n",
       "</table>\n",
       "</div>"
      ],
      "text/plain": [
       "  Code Domaine                       Domaine  Code zone         Zone  \\\n",
       "0           OA  Séries temporelles annuelles          2  Afghanistan   \n",
       "1           OA  Séries temporelles annuelles          2  Afghanistan   \n",
       "2           OA  Séries temporelles annuelles          2  Afghanistan   \n",
       "3           OA  Séries temporelles annuelles          2  Afghanistan   \n",
       "4           OA  Séries temporelles annuelles          2  Afghanistan   \n",
       "\n",
       "   Code Élément            Élément  Code Produit                 Produit  \\\n",
       "0           511  Population totale          3010  Population-Estimations   \n",
       "1           511  Population totale          3010  Population-Estimations   \n",
       "2           511  Population totale          3010  Population-Estimations   \n",
       "3           511  Population totale          3010  Population-Estimations   \n",
       "4           511  Population totale          3010  Population-Estimations   \n",
       "\n",
       "   Code année  Année           Unité     Valeur Symbole  \\\n",
       "0        2000   2000  1000 personnes  20779.953       X   \n",
       "1        2001   2001  1000 personnes  21606.988       X   \n",
       "2        2002   2002  1000 personnes  22600.770       X   \n",
       "3        2003   2003  1000 personnes  23680.871       X   \n",
       "4        2004   2004  1000 personnes  24726.684       X   \n",
       "\n",
       "          Description du Symbole Note  \n",
       "0  Sources internationales sûres  NaN  \n",
       "1  Sources internationales sûres  NaN  \n",
       "2  Sources internationales sûres  NaN  \n",
       "3  Sources internationales sûres  NaN  \n",
       "4  Sources internationales sûres  NaN  "
      ]
     },
     "execution_count": 4,
     "metadata": {},
     "output_type": "execute_result"
    }
   ],
   "source": [
    "#Verifiez le head\n",
    "population.head()"
   ]
  },
  {
   "cell_type": "code",
   "execution_count": 5,
   "id": "2aab58d5",
   "metadata": {},
   "outputs": [
    {
     "data": {
      "text/plain": [
       "Code Domaine               object\n",
       "Domaine                    object\n",
       "Code zone                   int64\n",
       "Zone                       object\n",
       "Code Élément                int64\n",
       "Élément                    object\n",
       "Code Produit                int64\n",
       "Produit                    object\n",
       "Code année                  int64\n",
       "Année                       int64\n",
       "Unité                      object\n",
       "Valeur                    float64\n",
       "Symbole                    object\n",
       "Description du Symbole     object\n",
       "Note                       object\n",
       "dtype: object"
      ]
     },
     "execution_count": 5,
     "metadata": {},
     "output_type": "execute_result"
    }
   ],
   "source": [
    "#Verifiez les types des données\n",
    "population.dtypes"
   ]
  },
  {
   "cell_type": "code",
   "execution_count": 6,
   "id": "ef68402a",
   "metadata": {},
   "outputs": [
    {
     "data": {
      "text/plain": [
       "array([2000, 2001, 2002, 2003, 2004, 2005, 2006, 2007, 2008, 2009, 2010,\n",
       "       2011, 2012, 2013, 2014, 2015, 2016, 2017, 2018], dtype=int64)"
      ]
     },
     "metadata": {},
     "output_type": "display_data"
    }
   ],
   "source": [
    "#Voir les années\n",
    "display(population['Année'].unique())"
   ]
  },
  {
   "cell_type": "code",
   "execution_count": 7,
   "id": "a19a8dc6",
   "metadata": {},
   "outputs": [
    {
     "data": {
      "text/plain": [
       "True"
      ]
     },
     "execution_count": 7,
     "metadata": {},
     "output_type": "execute_result"
    }
   ],
   "source": [
    "#Verifiez si 'Code Année' a les memes valeurs que 'Année'\n",
    "population['Code année'].equals(population['Année'])"
   ]
  },
  {
   "cell_type": "code",
   "execution_count": 8,
   "id": "92e2798d",
   "metadata": {},
   "outputs": [],
   "source": [
    "# Supprimez toutes les données sauf les données de 2017 (le ficher DisponibiliteAlimentaire_2017.csv a seulement données pour 2017)\n",
    "population = population[population['Année']==2017]\n",
    "\n",
    "# Supprimez la colonne 'Année'\n",
    "population.drop(columns=['Année', 'Code année'], inplace=True)"
   ]
  },
  {
   "cell_type": "code",
   "execution_count": 9,
   "id": "06cb54e4",
   "metadata": {},
   "outputs": [
    {
     "name": "stdout",
     "output_type": "stream",
     "text": [
      "Note    235\n",
      "dtype: int64\n"
     ]
    }
   ],
   "source": [
    "#Verifiez si il y a des valeurs 'nulls'\n",
    "pop_na = population.isnull().sum()\n",
    "print(pop_na[pop_na>0])"
   ]
  },
  {
   "cell_type": "code",
   "execution_count": 10,
   "id": "571e0ff4",
   "metadata": {},
   "outputs": [
    {
     "name": "stdout",
     "output_type": "stream",
     "text": [
      "Valeur de la colonne Note = [nan\n",
      " 'UNDESA, Population Division – World Population Prospects, the 2017 Revision']\n"
     ]
    }
   ],
   "source": [
    "#Trouvez les valeurs dans la colonne 'Note'\n",
    "print(\"Valeur de la colonne Note =\", population['Note'].unique())"
   ]
  },
  {
   "cell_type": "code",
   "execution_count": 11,
   "id": "459c084e",
   "metadata": {},
   "outputs": [],
   "source": [
    "#Supprimez la colonne 'Note' parce que c'est pas important pour l'analyse.\n",
    "population.drop(columns='Note', inplace=True)"
   ]
  },
  {
   "cell_type": "code",
   "execution_count": 12,
   "id": "f9690006",
   "metadata": {},
   "outputs": [],
   "source": [
    "#Multipliez 'Valeur' par 1000 et changez nom à Population - valeurs des colonnes 'Unité' et 'Élément'\n",
    "population['Valeur'] = population['Valeur']*1000\n",
    "population = population.rename(columns={'Valeur': 'Population'})\n",
    "\n",
    "#Supprimez les colonnes 'Unité' et 'Elément'\n",
    "population.drop(columns=['Élément','Unité'], inplace=True)"
   ]
  },
  {
   "cell_type": "code",
   "execution_count": 13,
   "id": "2d3d6af9",
   "metadata": {},
   "outputs": [
    {
     "name": "stdout",
     "output_type": "stream",
     "text": [
      "Code Domaine                1\n",
      "Domaine                     1\n",
      "Code zone                 236\n",
      "Zone                      236\n",
      "Code Élément                1\n",
      "Code Produit                1\n",
      "Produit                     1\n",
      "Population                236\n",
      "Symbole                     2\n",
      "Description du Symbole      2\n",
      "dtype: int64\n"
     ]
    }
   ],
   "source": [
    "#Trouvez les colonnes où il y a seulement une valeur\n",
    "print(population.nunique())"
   ]
  },
  {
   "cell_type": "code",
   "execution_count": 14,
   "id": "0145404d",
   "metadata": {},
   "outputs": [
    {
     "name": "stdout",
     "output_type": "stream",
     "text": [
      "Valeurs dans la colonne 'Symbole' = ['X' 'A']\n",
      "Valeurs dans la colonne 'Description du Symbole' = ['Sources internationales sûres'\n",
      " 'Agrégat, peut inclure des données officielles, semi-officielles, estimées ou calculées']\n"
     ]
    }
   ],
   "source": [
    "#Trouvez les valeurs dans les colonnes 'Symbole' et 'Description du Symbole'\n",
    "print(\"Valeurs dans la colonne 'Symbole' =\", population['Symbole'].unique())\n",
    "print(\"Valeurs dans la colonne 'Description du Symbole' =\", population['Description du Symbole'].unique())"
   ]
  },
  {
   "cell_type": "markdown",
   "id": "2351caf6",
   "metadata": {},
   "source": [
    "- Les colonnes 'Code Domaine', 'Domaine', 'Code élément', 'Code Produit' et 'Code Année' ne sont pas important  - je peux les supprimer.\n",
    "- De plus, les colonnes 'Symbole' et 'Description du Symbole' ne sont pas important. Je peux donc les supprimer.\n",
    "- Les valuers dans 'Code Zone' correspond à les pays dans 'Zone' et ont la meme quantité des valeurs. Pour éviter la duplication des données, je vais supprimer « Code Zone ». "
   ]
  },
  {
   "cell_type": "code",
   "execution_count": 15,
   "id": "226c6305",
   "metadata": {},
   "outputs": [],
   "source": [
    "#Supprimez les colonnes Code Domaine, Domaine, Code Element, Element, Code Produit, Produit, et Unité\n",
    "population = population.drop(columns=['Code Domaine','Domaine','Code Élément','Code Produit','Produit', 'Code zone', 'Symbole', 'Description du Symbole'])"
   ]
  },
  {
   "cell_type": "code",
   "execution_count": 16,
   "id": "c6d3db9f",
   "metadata": {},
   "outputs": [
    {
     "data": {
      "text/html": [
       "<div>\n",
       "<style scoped>\n",
       "    .dataframe tbody tr th:only-of-type {\n",
       "        vertical-align: middle;\n",
       "    }\n",
       "\n",
       "    .dataframe tbody tr th {\n",
       "        vertical-align: top;\n",
       "    }\n",
       "\n",
       "    .dataframe thead th {\n",
       "        text-align: right;\n",
       "    }\n",
       "</style>\n",
       "<table border=\"1\" class=\"dataframe\">\n",
       "  <thead>\n",
       "    <tr style=\"text-align: right;\">\n",
       "      <th></th>\n",
       "      <th>Zone</th>\n",
       "      <th>Population</th>\n",
       "    </tr>\n",
       "  </thead>\n",
       "  <tbody>\n",
       "    <tr>\n",
       "      <th>17</th>\n",
       "      <td>Afghanistan</td>\n",
       "      <td>36296113.0</td>\n",
       "    </tr>\n",
       "    <tr>\n",
       "      <th>36</th>\n",
       "      <td>Afrique du Sud</td>\n",
       "      <td>57009756.0</td>\n",
       "    </tr>\n",
       "    <tr>\n",
       "      <th>55</th>\n",
       "      <td>Albanie</td>\n",
       "      <td>2884169.0</td>\n",
       "    </tr>\n",
       "    <tr>\n",
       "      <th>74</th>\n",
       "      <td>Algérie</td>\n",
       "      <td>41389189.0</td>\n",
       "    </tr>\n",
       "    <tr>\n",
       "      <th>93</th>\n",
       "      <td>Allemagne</td>\n",
       "      <td>82658409.0</td>\n",
       "    </tr>\n",
       "  </tbody>\n",
       "</table>\n",
       "</div>"
      ],
      "text/plain": [
       "              Zone  Population\n",
       "17     Afghanistan  36296113.0\n",
       "36  Afrique du Sud  57009756.0\n",
       "55         Albanie   2884169.0\n",
       "74         Algérie  41389189.0\n",
       "93       Allemagne  82658409.0"
      ]
     },
     "execution_count": 16,
     "metadata": {},
     "output_type": "execute_result"
    }
   ],
   "source": [
    "population.head()"
   ]
  },
  {
   "cell_type": "code",
   "execution_count": 17,
   "id": "5925b1ce",
   "metadata": {},
   "outputs": [
    {
     "data": {
      "text/html": [
       "<div>\n",
       "<style scoped>\n",
       "    .dataframe tbody tr th:only-of-type {\n",
       "        vertical-align: middle;\n",
       "    }\n",
       "\n",
       "    .dataframe tbody tr th {\n",
       "        vertical-align: top;\n",
       "    }\n",
       "\n",
       "    .dataframe thead th {\n",
       "        text-align: right;\n",
       "    }\n",
       "</style>\n",
       "<table border=\"1\" class=\"dataframe\">\n",
       "  <thead>\n",
       "    <tr style=\"text-align: right;\">\n",
       "      <th></th>\n",
       "      <th>Population</th>\n",
       "    </tr>\n",
       "  </thead>\n",
       "  <tbody>\n",
       "    <tr>\n",
       "      <th>count</th>\n",
       "      <td>2.360000e+02</td>\n",
       "    </tr>\n",
       "    <tr>\n",
       "      <th>mean</th>\n",
       "      <td>3.198362e+07</td>\n",
       "    </tr>\n",
       "    <tr>\n",
       "      <th>std</th>\n",
       "      <td>1.318949e+08</td>\n",
       "    </tr>\n",
       "    <tr>\n",
       "      <th>min</th>\n",
       "      <td>7.930000e+02</td>\n",
       "    </tr>\n",
       "    <tr>\n",
       "      <th>25%</th>\n",
       "      <td>3.803032e+05</td>\n",
       "    </tr>\n",
       "    <tr>\n",
       "      <th>50%</th>\n",
       "      <td>5.203510e+06</td>\n",
       "    </tr>\n",
       "    <tr>\n",
       "      <th>75%</th>\n",
       "      <td>1.930842e+07</td>\n",
       "    </tr>\n",
       "    <tr>\n",
       "      <th>max</th>\n",
       "      <td>1.421022e+09</td>\n",
       "    </tr>\n",
       "  </tbody>\n",
       "</table>\n",
       "</div>"
      ],
      "text/plain": [
       "         Population\n",
       "count  2.360000e+02\n",
       "mean   3.198362e+07\n",
       "std    1.318949e+08\n",
       "min    7.930000e+02\n",
       "25%    3.803032e+05\n",
       "50%    5.203510e+06\n",
       "75%    1.930842e+07\n",
       "max    1.421022e+09"
      ]
     },
     "execution_count": 17,
     "metadata": {},
     "output_type": "execute_result"
    }
   ],
   "source": [
    "#Verifiez s'il y a des outliers\n",
    "population.describe()"
   ]
  },
  {
   "cell_type": "code",
   "execution_count": 18,
   "id": "b1efc410",
   "metadata": {},
   "outputs": [
    {
     "name": "stdout",
     "output_type": "stream",
     "text": [
      "Shape du fichier 'Population' -  (236, 2)\n",
      "-----\n",
      "Nombre de lignes unique dans la colonne 'Zone' -  236\n"
     ]
    }
   ],
   "source": [
    "#Verifiez que 'Zone' peut être utilisé comme la clé primaire\n",
    "print(\"Shape du fichier 'Population' - \", population.shape)\n",
    "print('-----')\n",
    "print(\"Nombre de lignes unique dans la colonne 'Zone' - \", population['Zone'].nunique())"
   ]
  },
  {
   "cell_type": "markdown",
   "id": "d80a54d2",
   "metadata": {},
   "source": [
    "## Disponibilité Alimentaire"
   ]
  },
  {
   "cell_type": "code",
   "execution_count": 19,
   "id": "c812110f",
   "metadata": {},
   "outputs": [
    {
     "data": {
      "text/plain": [
       "(176600, 14)"
      ]
     },
     "execution_count": 19,
     "metadata": {},
     "output_type": "execute_result"
    }
   ],
   "source": [
    "#Verifiez le shape\n",
    "dispoAlimentaire.shape"
   ]
  },
  {
   "cell_type": "code",
   "execution_count": 20,
   "id": "f17e133a",
   "metadata": {},
   "outputs": [
    {
     "data": {
      "text/html": [
       "<div>\n",
       "<style scoped>\n",
       "    .dataframe tbody tr th:only-of-type {\n",
       "        vertical-align: middle;\n",
       "    }\n",
       "\n",
       "    .dataframe tbody tr th {\n",
       "        vertical-align: top;\n",
       "    }\n",
       "\n",
       "    .dataframe thead th {\n",
       "        text-align: right;\n",
       "    }\n",
       "</style>\n",
       "<table border=\"1\" class=\"dataframe\">\n",
       "  <thead>\n",
       "    <tr style=\"text-align: right;\">\n",
       "      <th></th>\n",
       "      <th>Code Domaine</th>\n",
       "      <th>Domaine</th>\n",
       "      <th>Code zone</th>\n",
       "      <th>Zone</th>\n",
       "      <th>Code Élément</th>\n",
       "      <th>Élément</th>\n",
       "      <th>Code Produit</th>\n",
       "      <th>Produit</th>\n",
       "      <th>Code année</th>\n",
       "      <th>Année</th>\n",
       "      <th>Unité</th>\n",
       "      <th>Valeur</th>\n",
       "      <th>Symbole</th>\n",
       "      <th>Description du Symbole</th>\n",
       "    </tr>\n",
       "  </thead>\n",
       "  <tbody>\n",
       "    <tr>\n",
       "      <th>0</th>\n",
       "      <td>FBS</td>\n",
       "      <td>Nouveaux Bilans Alimentaire</td>\n",
       "      <td>2</td>\n",
       "      <td>Afghanistan</td>\n",
       "      <td>5511</td>\n",
       "      <td>Production</td>\n",
       "      <td>2511</td>\n",
       "      <td>Blé et produits</td>\n",
       "      <td>2017</td>\n",
       "      <td>2017</td>\n",
       "      <td>Milliers de tonnes</td>\n",
       "      <td>4281.0</td>\n",
       "      <td>S</td>\n",
       "      <td>Données standardisées</td>\n",
       "    </tr>\n",
       "    <tr>\n",
       "      <th>1</th>\n",
       "      <td>FBS</td>\n",
       "      <td>Nouveaux Bilans Alimentaire</td>\n",
       "      <td>2</td>\n",
       "      <td>Afghanistan</td>\n",
       "      <td>5611</td>\n",
       "      <td>Importations - Quantité</td>\n",
       "      <td>2511</td>\n",
       "      <td>Blé et produits</td>\n",
       "      <td>2017</td>\n",
       "      <td>2017</td>\n",
       "      <td>Milliers de tonnes</td>\n",
       "      <td>2302.0</td>\n",
       "      <td>S</td>\n",
       "      <td>Données standardisées</td>\n",
       "    </tr>\n",
       "    <tr>\n",
       "      <th>2</th>\n",
       "      <td>FBS</td>\n",
       "      <td>Nouveaux Bilans Alimentaire</td>\n",
       "      <td>2</td>\n",
       "      <td>Afghanistan</td>\n",
       "      <td>5072</td>\n",
       "      <td>Variation de stock</td>\n",
       "      <td>2511</td>\n",
       "      <td>Blé et produits</td>\n",
       "      <td>2017</td>\n",
       "      <td>2017</td>\n",
       "      <td>Milliers de tonnes</td>\n",
       "      <td>-119.0</td>\n",
       "      <td>S</td>\n",
       "      <td>Données standardisées</td>\n",
       "    </tr>\n",
       "    <tr>\n",
       "      <th>3</th>\n",
       "      <td>FBS</td>\n",
       "      <td>Nouveaux Bilans Alimentaire</td>\n",
       "      <td>2</td>\n",
       "      <td>Afghanistan</td>\n",
       "      <td>5911</td>\n",
       "      <td>Exportations - Quantité</td>\n",
       "      <td>2511</td>\n",
       "      <td>Blé et produits</td>\n",
       "      <td>2017</td>\n",
       "      <td>2017</td>\n",
       "      <td>Milliers de tonnes</td>\n",
       "      <td>0.0</td>\n",
       "      <td>S</td>\n",
       "      <td>Données standardisées</td>\n",
       "    </tr>\n",
       "    <tr>\n",
       "      <th>4</th>\n",
       "      <td>FBS</td>\n",
       "      <td>Nouveaux Bilans Alimentaire</td>\n",
       "      <td>2</td>\n",
       "      <td>Afghanistan</td>\n",
       "      <td>5301</td>\n",
       "      <td>Disponibilité intérieure</td>\n",
       "      <td>2511</td>\n",
       "      <td>Blé et produits</td>\n",
       "      <td>2017</td>\n",
       "      <td>2017</td>\n",
       "      <td>Milliers de tonnes</td>\n",
       "      <td>6701.0</td>\n",
       "      <td>S</td>\n",
       "      <td>Données standardisées</td>\n",
       "    </tr>\n",
       "  </tbody>\n",
       "</table>\n",
       "</div>"
      ],
      "text/plain": [
       "  Code Domaine                      Domaine  Code zone         Zone  \\\n",
       "0          FBS  Nouveaux Bilans Alimentaire          2  Afghanistan   \n",
       "1          FBS  Nouveaux Bilans Alimentaire          2  Afghanistan   \n",
       "2          FBS  Nouveaux Bilans Alimentaire          2  Afghanistan   \n",
       "3          FBS  Nouveaux Bilans Alimentaire          2  Afghanistan   \n",
       "4          FBS  Nouveaux Bilans Alimentaire          2  Afghanistan   \n",
       "\n",
       "   Code Élément                   Élément  Code Produit          Produit  \\\n",
       "0          5511                Production          2511  Blé et produits   \n",
       "1          5611   Importations - Quantité          2511  Blé et produits   \n",
       "2          5072        Variation de stock          2511  Blé et produits   \n",
       "3          5911   Exportations - Quantité          2511  Blé et produits   \n",
       "4          5301  Disponibilité intérieure          2511  Blé et produits   \n",
       "\n",
       "   Code année  Année               Unité  Valeur Symbole  \\\n",
       "0        2017   2017  Milliers de tonnes  4281.0       S   \n",
       "1        2017   2017  Milliers de tonnes  2302.0       S   \n",
       "2        2017   2017  Milliers de tonnes  -119.0       S   \n",
       "3        2017   2017  Milliers de tonnes     0.0       S   \n",
       "4        2017   2017  Milliers de tonnes  6701.0       S   \n",
       "\n",
       "  Description du Symbole  \n",
       "0  Données standardisées  \n",
       "1  Données standardisées  \n",
       "2  Données standardisées  \n",
       "3  Données standardisées  \n",
       "4  Données standardisées  "
      ]
     },
     "execution_count": 20,
     "metadata": {},
     "output_type": "execute_result"
    }
   ],
   "source": [
    "#Verifiez le head\n",
    "dispoAlimentaire.head()"
   ]
  },
  {
   "cell_type": "code",
   "execution_count": 21,
   "id": "79fb1ef9",
   "metadata": {},
   "outputs": [
    {
     "data": {
      "text/plain": [
       "Code Domaine               object\n",
       "Domaine                    object\n",
       "Code zone                   int64\n",
       "Zone                       object\n",
       "Code Élément                int64\n",
       "Élément                    object\n",
       "Code Produit                int64\n",
       "Produit                    object\n",
       "Code année                  int64\n",
       "Année                       int64\n",
       "Unité                      object\n",
       "Valeur                    float64\n",
       "Symbole                    object\n",
       "Description du Symbole     object\n",
       "dtype: object"
      ]
     },
     "execution_count": 21,
     "metadata": {},
     "output_type": "execute_result"
    }
   ],
   "source": [
    "#Verifiez les types des données\n",
    "dispoAlimentaire.dtypes"
   ]
  },
  {
   "cell_type": "code",
   "execution_count": 22,
   "id": "f0edfe5b",
   "metadata": {},
   "outputs": [
    {
     "name": "stdout",
     "output_type": "stream",
     "text": [
      "Series([], dtype: int64)\n"
     ]
    }
   ],
   "source": [
    "#Verifiez si il y a des valeurs 'nulls'\n",
    "dispo_ali_na = dispoAlimentaire.isnull().sum()\n",
    "print(dispo_ali_na[dispo_ali_na>0])"
   ]
  },
  {
   "cell_type": "code",
   "execution_count": 23,
   "id": "b0ea8977",
   "metadata": {},
   "outputs": [
    {
     "name": "stdout",
     "output_type": "stream",
     "text": [
      "Code Domaine                 1\n",
      "Domaine                      1\n",
      "Code zone                  174\n",
      "Zone                       174\n",
      "Code Élément                17\n",
      "Élément                     17\n",
      "Code Produit                98\n",
      "Produit                     98\n",
      "Code année                   1\n",
      "Année                        1\n",
      "Unité                        4\n",
      "Valeur                    7250\n",
      "Symbole                      2\n",
      "Description du Symbole       2\n",
      "dtype: int64\n"
     ]
    }
   ],
   "source": [
    "#Trouvez les colonnes où il y a seulement une valeur\n",
    "print(dispoAlimentaire.nunique())"
   ]
  },
  {
   "cell_type": "code",
   "execution_count": 24,
   "id": "1bf0f206",
   "metadata": {},
   "outputs": [
    {
     "name": "stdout",
     "output_type": "stream",
     "text": [
      "Valeurs dans la colonne 'Symbole' = ['S' 'Fc']\n",
      "Valeurs dans la colonne 'Description du Symbole' = ['Données standardisées' 'Donnée calculée']\n"
     ]
    }
   ],
   "source": [
    "#Trouvez les valeurs dans les colonnes 'Symbole' et 'Description du Symbole'\n",
    "print(\"Valeurs dans la colonne 'Symbole' =\", dispoAlimentaire['Symbole'].unique())\n",
    "print(\"Valeurs dans la colonne 'Description du Symbole' =\", dispoAlimentaire['Description du Symbole'].unique())"
   ]
  },
  {
   "cell_type": "markdown",
   "id": "901b34bd",
   "metadata": {},
   "source": [
    "- Les valeurs dans les colonnes 'Symbole' et 'Description du Symbole' ne sont pas importants - je peux suprimmer les deux colonnes.\n",
    "- Je peux également supprimer les colonnes 'Code Domaine','Domaine', 'Année' et 'Code année' parce que je n'ai pas besoin d'eux pour l'analyse.\n",
    "- Les valuers dans 'Code Zone' correspond à les pays dans 'Zone' et ont la meme quantité des valeurs. Pour éviter la duplication des données, je vais supprimer « Code Zone ». \n",
    "- De la même manière, je peux supprimer les colonnes 'Code Élément' et 'Code Produit' parce qu'elles correspondent à les colonnes 'Élément' et 'Produit' respectivement. "
   ]
  },
  {
   "cell_type": "code",
   "execution_count": 25,
   "id": "abd278df",
   "metadata": {},
   "outputs": [],
   "source": [
    "#Supprimez des colonnes\n",
    "drop_columns = ['Code Domaine','Domaine','Code zone', 'Code année', 'Année','Code Élément', 'Code Produit','Symbole','Description du Symbole']\n",
    "\n",
    "dispoAlimentaire.drop(columns=drop_columns, inplace=True)"
   ]
  },
  {
   "cell_type": "code",
   "execution_count": 26,
   "id": "3a86bdcd",
   "metadata": {},
   "outputs": [
    {
     "data": {
      "text/plain": [
       "array(['Milliers de tonnes', 'kg', 'Kcal/personne/jour',\n",
       "       'g/personne/jour'], dtype=object)"
      ]
     },
     "execution_count": 26,
     "metadata": {},
     "output_type": "execute_result"
    }
   ],
   "source": [
    "#Trouvez les valeurs dans la colonne 'Unité'\n",
    "dispoAlimentaire['Unité'].unique()"
   ]
  },
  {
   "cell_type": "code",
   "execution_count": 27,
   "id": "71515b85",
   "metadata": {},
   "outputs": [
    {
     "data": {
      "text/plain": [
       "array(['Production', 'Importations - Quantité', 'Variation de stock',\n",
       "       'Exportations - Quantité', 'Disponibilité intérieure',\n",
       "       'Aliments pour animaux', 'Semences', 'Pertes', 'Résidus',\n",
       "       'Nourriture',\n",
       "       'Disponibilité alimentaire en quantité (kg/personne/an)',\n",
       "       'Disponibilité alimentaire (Kcal/personne/jour)',\n",
       "       'Disponibilité de protéines en quantité (g/personne/jour)',\n",
       "       'Disponibilité de matière grasse en quantité (g/personne/jour)',\n",
       "       'Traitement', 'Autres utilisations (non alimentaire)',\n",
       "       'Alimentation pour touristes'], dtype=object)"
      ]
     },
     "execution_count": 27,
     "metadata": {},
     "output_type": "execute_result"
    }
   ],
   "source": [
    "#Trouvez les valeurs dans la colonne 'Élément'\n",
    "dispoAlimentaire['Élément'].unique()"
   ]
  },
  {
   "cell_type": "markdown",
   "id": "9158791a",
   "metadata": {},
   "source": [
    "Les unités pour 'kg', 'Kcal/personne/jour' et 'g/personne/jour' sont déjà dans les noms de titres, mais les unités pour les éléments avec 'Milliers de tonnes' ne le sont pas."
   ]
  },
  {
   "cell_type": "code",
   "execution_count": 28,
   "id": "e01ef22a",
   "metadata": {},
   "outputs": [],
   "source": [
    "#Multipliez les valeurs de la colonne 'Valeur' par 1000 lorsque la valeur de la colonne 'Unité' est égale à 'Milliers de tonnes'\n",
    "dispoAlimentaire.loc[dispoAlimentaire['Unité']=='Milliers de tonnes', 'Valeur']*=1000"
   ]
  },
  {
   "cell_type": "code",
   "execution_count": 29,
   "id": "60a972f4",
   "metadata": {},
   "outputs": [
    {
     "data": {
      "text/plain": [
       "array(['Production', 'Importations - Quantité', 'Variation de stock',\n",
       "       'Exportations - Quantité', 'Disponibilité intérieure',\n",
       "       'Aliments pour animaux', 'Semences', 'Pertes', 'Résidus',\n",
       "       'Nourriture', 'Traitement',\n",
       "       'Autres utilisations (non alimentaire)',\n",
       "       'Alimentation pour touristes'], dtype=object)"
      ]
     },
     "execution_count": 29,
     "metadata": {},
     "output_type": "execute_result"
    }
   ],
   "source": [
    "#Trouvez les valeurs dans la colonne 'Element' où leurs unités sont 'Milliers de tonnes'\n",
    "Tonnes = dispoAlimentaire.loc[dispoAlimentaire['Unité']=='Milliers de tonnes',:]\n",
    "\n",
    "# Afficher les valeurs dans la colonne 'Element' où leurs unités sont 'Milliers de tonnes'\n",
    "Tonnes['Élément'].unique()"
   ]
  },
  {
   "cell_type": "code",
   "execution_count": 30,
   "id": "4f4f8b38",
   "metadata": {},
   "outputs": [],
   "source": [
    "# Ajoutez la phrase « (Tonnes) » pour les articles dont l'unité est « Milliers de tonnes ».\n",
    "list_tonnes = ['Production', 'Importations - Quantité', 'Variation de stock',\n",
    "       'Exportations - Quantité', 'Disponibilité intérieure',\n",
    "       'Aliments pour animaux', 'Semences', 'Pertes', 'Résidus',\n",
    "       'Nourriture', 'Traitement',\n",
    "       'Autres utilisations (non alimentaire)',\n",
    "       'Alimentation pour touristes']\n",
    "\n",
    "ajoute_tonnes = dispoAlimentaire['Élément'].isin(list_tonnes)\n",
    "\n",
    "dispoAlimentaire.loc[ajoute_tonnes, 'Élément'] = dispoAlimentaire.loc[ajoute_tonnes, 'Élément'].astype(str) + ' (Tonnes)'"
   ]
  },
  {
   "cell_type": "code",
   "execution_count": 31,
   "id": "2ba5123a",
   "metadata": {},
   "outputs": [],
   "source": [
    "#Supprimez la colonne 'Unité'\n",
    "dispoAlimentaire = dispoAlimentaire.drop(columns='Unité')"
   ]
  },
  {
   "cell_type": "code",
   "execution_count": 32,
   "id": "f52687df",
   "metadata": {},
   "outputs": [
    {
     "data": {
      "text/html": [
       "<div>\n",
       "<style scoped>\n",
       "    .dataframe tbody tr th:only-of-type {\n",
       "        vertical-align: middle;\n",
       "    }\n",
       "\n",
       "    .dataframe tbody tr th {\n",
       "        vertical-align: top;\n",
       "    }\n",
       "\n",
       "    .dataframe thead th {\n",
       "        text-align: right;\n",
       "    }\n",
       "</style>\n",
       "<table border=\"1\" class=\"dataframe\">\n",
       "  <thead>\n",
       "    <tr style=\"text-align: right;\">\n",
       "      <th></th>\n",
       "      <th>Valeur</th>\n",
       "    </tr>\n",
       "  </thead>\n",
       "  <tbody>\n",
       "    <tr>\n",
       "      <th>count</th>\n",
       "      <td>1.766000e+05</td>\n",
       "    </tr>\n",
       "    <tr>\n",
       "      <th>mean</th>\n",
       "      <td>2.069351e+05</td>\n",
       "    </tr>\n",
       "    <tr>\n",
       "      <th>std</th>\n",
       "      <td>4.762093e+06</td>\n",
       "    </tr>\n",
       "    <tr>\n",
       "      <th>min</th>\n",
       "      <td>-1.038800e+07</td>\n",
       "    </tr>\n",
       "    <tr>\n",
       "      <th>25%</th>\n",
       "      <td>0.000000e+00</td>\n",
       "    </tr>\n",
       "    <tr>\n",
       "      <th>50%</th>\n",
       "      <td>1.200000e-01</td>\n",
       "    </tr>\n",
       "    <tr>\n",
       "      <th>75%</th>\n",
       "      <td>3.000000e+03</td>\n",
       "    </tr>\n",
       "    <tr>\n",
       "      <th>max</th>\n",
       "      <td>7.585480e+08</td>\n",
       "    </tr>\n",
       "  </tbody>\n",
       "</table>\n",
       "</div>"
      ],
      "text/plain": [
       "             Valeur\n",
       "count  1.766000e+05\n",
       "mean   2.069351e+05\n",
       "std    4.762093e+06\n",
       "min   -1.038800e+07\n",
       "25%    0.000000e+00\n",
       "50%    1.200000e-01\n",
       "75%    3.000000e+03\n",
       "max    7.585480e+08"
      ]
     },
     "execution_count": 32,
     "metadata": {},
     "output_type": "execute_result"
    }
   ],
   "source": [
    "#Verifiez s'il y a des outliers\n",
    "dispoAlimentaire.describe()"
   ]
  },
  {
   "cell_type": "code",
   "execution_count": 33,
   "id": "4434f279",
   "metadata": {},
   "outputs": [
    {
     "data": {
      "text/plain": [
       "Zone       2544\n",
       "Élément    2544\n",
       "Produit    2544\n",
       "Valeur     2544\n",
       "dtype: int64"
      ]
     },
     "execution_count": 33,
     "metadata": {},
     "output_type": "execute_result"
    }
   ],
   "source": [
    "# Il y a des valeurs negatifs - Trouvez le nombre des lignes où Valeur est moins que zéro\n",
    "négatif_da = dispoAlimentaire.loc[dispoAlimentaire['Valeur']<0]\n",
    "négatif_da.count()"
   ]
  },
  {
   "cell_type": "code",
   "execution_count": 34,
   "id": "abd9596b",
   "metadata": {},
   "outputs": [
    {
     "data": {
      "text/plain": [
       "Variation de stock (Tonnes)                       1385\n",
       "Résidus (Tonnes)                                   913\n",
       "Disponibilité intérieure (Tonnes)                  187\n",
       "Alimentation pour touristes (Tonnes)                57\n",
       "Aliments pour animaux (Tonnes)                       1\n",
       "Autres utilisations (non alimentaire) (Tonnes)       1\n",
       "Name: Élément, dtype: int64"
      ]
     },
     "execution_count": 34,
     "metadata": {},
     "output_type": "execute_result"
    }
   ],
   "source": [
    "#Trouvez les valeurs dans la colonne 'Element' où la valeur est négative\n",
    "négatif_da[\"Élément\"].value_counts()"
   ]
  },
  {
   "cell_type": "markdown",
   "id": "d3a01ec6",
   "metadata": {},
   "source": [
    "Après avoir vérifié les données de la FAO, j'ai découvert que toutes ces colonnes peuvent avoir des valeurs négatives (par exemple, l'offre de produit moins la demande de produit) - il n'est pas nécessaire de faire quoi que ce soit avec ces cellules."
   ]
  },
  {
   "cell_type": "code",
   "execution_count": 35,
   "id": "0521a8e4",
   "metadata": {},
   "outputs": [],
   "source": [
    "# Pivoter le tableau\n",
    "dispoAlimentaire = dispoAlimentaire.pivot_table(index=['Zone', 'Produit'], columns = 'Élément', values='Valeur').reset_index()"
   ]
  },
  {
   "cell_type": "markdown",
   "id": "0c8c6eaf",
   "metadata": {},
   "source": [
    "Comme \"La poule qui chante\" ne s'intéresse qu'aux produits à base de poulet, je supprimerai les autres types d'aliments."
   ]
  },
  {
   "cell_type": "code",
   "execution_count": 36,
   "id": "b1848c52",
   "metadata": {},
   "outputs": [],
   "source": [
    "# Supprimez toutes les lignes sauf si elles contiennent \"Viande de volaille\".\n",
    "dispoAlimentaire = dispoAlimentaire.loc[dispoAlimentaire['Produit']=='Viande de Volailles']\n",
    "\n",
    "# Supprimez la colonne 'Produit'\n",
    "dispoAlimentaire = dispoAlimentaire.drop(columns = 'Produit')"
   ]
  },
  {
   "cell_type": "code",
   "execution_count": 37,
   "id": "b1532f37",
   "metadata": {},
   "outputs": [],
   "source": [
    "#Supprimez les colonnes je ne vais pas utiliser dans l'analyse\n",
    "dispoAlimentaire = dispoAlimentaire.drop(columns=['Alimentation pour touristes (Tonnes)',\n",
    " 'Aliments pour animaux (Tonnes)',\n",
    " 'Autres utilisations (non alimentaire) (Tonnes)',\n",
    " 'Disponibilité alimentaire (Kcal/personne/jour)',\n",
    " 'Disponibilité de matière grasse en quantité (g/personne/jour)',\n",
    " 'Disponibilité de protéines en quantité (g/personne/jour)',\n",
    " 'Disponibilité intérieure (Tonnes)',\n",
    " 'Exportations - Quantité (Tonnes)',\n",
    " 'Importations - Quantité (Tonnes)',\n",
    " 'Nourriture (Tonnes)',\n",
    " 'Pertes (Tonnes)',\n",
    " 'Production (Tonnes)',\n",
    " 'Résidus (Tonnes)',\n",
    " 'Semences (Tonnes)',\n",
    " 'Traitement (Tonnes)',\n",
    " 'Variation de stock (Tonnes)'])"
   ]
  },
  {
   "cell_type": "code",
   "execution_count": 38,
   "id": "f437bfe6",
   "metadata": {},
   "outputs": [],
   "source": [
    "# Ajouter la phrase 'Viande de volaille  - ' à la colonne 'Disponibilité alimentaire en quantité (kg/personne/an)'\n",
    "dispoAlimentaire.rename(columns={'Disponibilité alimentaire en quantité (kg/personne/an)': 'Viande de volaille - Disponibilité alimentaire en quantité (kg/personne/an)'}, inplace=True)"
   ]
  },
  {
   "cell_type": "code",
   "execution_count": 39,
   "id": "432b58a9",
   "metadata": {},
   "outputs": [
    {
     "data": {
      "text/plain": [
       "Élément\n",
       "Zone                                                                           0\n",
       "Viande de volaille - Disponibilité alimentaire en quantité (kg/personne/an)    0\n",
       "dtype: int64"
      ]
     },
     "execution_count": 39,
     "metadata": {},
     "output_type": "execute_result"
    }
   ],
   "source": [
    "#Cherchez les valeurs null\n",
    "dispoAlimentaire.isnull().sum()"
   ]
  },
  {
   "cell_type": "code",
   "execution_count": 40,
   "id": "327b31cc",
   "metadata": {},
   "outputs": [
    {
     "data": {
      "text/plain": [
       "(172, 2)"
      ]
     },
     "execution_count": 40,
     "metadata": {},
     "output_type": "execute_result"
    }
   ],
   "source": [
    "#Verifiez le shape\n",
    "dispoAlimentaire.shape"
   ]
  },
  {
   "cell_type": "code",
   "execution_count": 41,
   "id": "9d130235",
   "metadata": {},
   "outputs": [
    {
     "data": {
      "text/html": [
       "<div>\n",
       "<style scoped>\n",
       "    .dataframe tbody tr th:only-of-type {\n",
       "        vertical-align: middle;\n",
       "    }\n",
       "\n",
       "    .dataframe tbody tr th {\n",
       "        vertical-align: top;\n",
       "    }\n",
       "\n",
       "    .dataframe thead th {\n",
       "        text-align: right;\n",
       "    }\n",
       "</style>\n",
       "<table border=\"1\" class=\"dataframe\">\n",
       "  <thead>\n",
       "    <tr style=\"text-align: right;\">\n",
       "      <th>Élément</th>\n",
       "      <th>Zone</th>\n",
       "      <th>Viande de volaille - Disponibilité alimentaire en quantité (kg/personne/an)</th>\n",
       "    </tr>\n",
       "  </thead>\n",
       "  <tbody>\n",
       "    <tr>\n",
       "      <th>78</th>\n",
       "      <td>Afghanistan</td>\n",
       "      <td>1.53</td>\n",
       "    </tr>\n",
       "    <tr>\n",
       "      <th>173</th>\n",
       "      <td>Afrique du Sud</td>\n",
       "      <td>35.69</td>\n",
       "    </tr>\n",
       "    <tr>\n",
       "      <th>265</th>\n",
       "      <td>Albanie</td>\n",
       "      <td>16.36</td>\n",
       "    </tr>\n",
       "    <tr>\n",
       "      <th>357</th>\n",
       "      <td>Algérie</td>\n",
       "      <td>6.38</td>\n",
       "    </tr>\n",
       "    <tr>\n",
       "      <th>452</th>\n",
       "      <td>Allemagne</td>\n",
       "      <td>19.47</td>\n",
       "    </tr>\n",
       "  </tbody>\n",
       "</table>\n",
       "</div>"
      ],
      "text/plain": [
       "Élément            Zone  \\\n",
       "78          Afghanistan   \n",
       "173      Afrique du Sud   \n",
       "265             Albanie   \n",
       "357             Algérie   \n",
       "452           Allemagne   \n",
       "\n",
       "Élément  Viande de volaille - Disponibilité alimentaire en quantité (kg/personne/an)  \n",
       "78                                                    1.53                            \n",
       "173                                                  35.69                            \n",
       "265                                                  16.36                            \n",
       "357                                                   6.38                            \n",
       "452                                                  19.47                            "
      ]
     },
     "execution_count": 41,
     "metadata": {},
     "output_type": "execute_result"
    }
   ],
   "source": [
    "dispoAlimentaire.head()"
   ]
  },
  {
   "cell_type": "code",
   "execution_count": 42,
   "id": "3b48fc79",
   "metadata": {},
   "outputs": [
    {
     "data": {
      "text/html": [
       "<div>\n",
       "<style scoped>\n",
       "    .dataframe tbody tr th:only-of-type {\n",
       "        vertical-align: middle;\n",
       "    }\n",
       "\n",
       "    .dataframe tbody tr th {\n",
       "        vertical-align: top;\n",
       "    }\n",
       "\n",
       "    .dataframe thead th {\n",
       "        text-align: right;\n",
       "    }\n",
       "</style>\n",
       "<table border=\"1\" class=\"dataframe\">\n",
       "  <thead>\n",
       "    <tr style=\"text-align: right;\">\n",
       "      <th>Élément</th>\n",
       "      <th>Viande de volaille - Disponibilité alimentaire en quantité (kg/personne/an)</th>\n",
       "    </tr>\n",
       "  </thead>\n",
       "  <tbody>\n",
       "    <tr>\n",
       "      <th>count</th>\n",
       "      <td>172.000000</td>\n",
       "    </tr>\n",
       "    <tr>\n",
       "      <th>mean</th>\n",
       "      <td>20.213372</td>\n",
       "    </tr>\n",
       "    <tr>\n",
       "      <th>std</th>\n",
       "      <td>15.860311</td>\n",
       "    </tr>\n",
       "    <tr>\n",
       "      <th>min</th>\n",
       "      <td>0.130000</td>\n",
       "    </tr>\n",
       "    <tr>\n",
       "      <th>25%</th>\n",
       "      <td>6.440000</td>\n",
       "    </tr>\n",
       "    <tr>\n",
       "      <th>50%</th>\n",
       "      <td>18.090000</td>\n",
       "    </tr>\n",
       "    <tr>\n",
       "      <th>75%</th>\n",
       "      <td>30.037500</td>\n",
       "    </tr>\n",
       "    <tr>\n",
       "      <th>max</th>\n",
       "      <td>72.310000</td>\n",
       "    </tr>\n",
       "  </tbody>\n",
       "</table>\n",
       "</div>"
      ],
      "text/plain": [
       "Élément  Viande de volaille - Disponibilité alimentaire en quantité (kg/personne/an)\n",
       "count                                           172.000000                          \n",
       "mean                                             20.213372                          \n",
       "std                                              15.860311                          \n",
       "min                                               0.130000                          \n",
       "25%                                               6.440000                          \n",
       "50%                                              18.090000                          \n",
       "75%                                              30.037500                          \n",
       "max                                              72.310000                          "
      ]
     },
     "execution_count": 42,
     "metadata": {},
     "output_type": "execute_result"
    }
   ],
   "source": [
    "dispoAlimentaire.describe()"
   ]
  },
  {
   "cell_type": "code",
   "execution_count": 43,
   "id": "55b0ee20",
   "metadata": {},
   "outputs": [
    {
     "name": "stdout",
     "output_type": "stream",
     "text": [
      "Shape du fichier 'dispoAlimentaire' -  (172, 2)\n",
      "-----\n",
      "Nombre de lignes unique dans la colonne 'Zone' -  172\n"
     ]
    }
   ],
   "source": [
    "#Verifiez que 'Zone' peut être utilisé comme la clé primaire\n",
    "print(\"Shape du fichier 'dispoAlimentaire' - \", dispoAlimentaire.shape)\n",
    "print('-----')\n",
    "print(\"Nombre de lignes unique dans la colonne 'Zone' - \", dispoAlimentaire['Zone'].nunique())"
   ]
  },
  {
   "cell_type": "code",
   "execution_count": 44,
   "id": "8504fca9",
   "metadata": {},
   "outputs": [],
   "source": [
    "#Joignez les dataframes 'population' et 'dispoAlimentaire'\n",
    "dispoAlimentaire = pd.merge(dispoAlimentaire, population, on='Zone', how='left')"
   ]
  },
  {
   "cell_type": "markdown",
   "id": "243266a9",
   "metadata": {},
   "source": [
    "## PIB"
   ]
  },
  {
   "cell_type": "code",
   "execution_count": 45,
   "id": "89f60e58",
   "metadata": {},
   "outputs": [
    {
     "data": {
      "text/plain": [
       "(211, 7)"
      ]
     },
     "execution_count": 45,
     "metadata": {},
     "output_type": "execute_result"
    }
   ],
   "source": [
    "#Verifiez le shape\n",
    "GDP.shape"
   ]
  },
  {
   "cell_type": "code",
   "execution_count": 46,
   "id": "533716b2",
   "metadata": {},
   "outputs": [
    {
     "data": {
      "text/html": [
       "<div>\n",
       "<style scoped>\n",
       "    .dataframe tbody tr th:only-of-type {\n",
       "        vertical-align: middle;\n",
       "    }\n",
       "\n",
       "    .dataframe tbody tr th {\n",
       "        vertical-align: top;\n",
       "    }\n",
       "\n",
       "    .dataframe thead th {\n",
       "        text-align: right;\n",
       "    }\n",
       "</style>\n",
       "<table border=\"1\" class=\"dataframe\">\n",
       "  <thead>\n",
       "    <tr style=\"text-align: right;\">\n",
       "      <th></th>\n",
       "      <th>Domaine</th>\n",
       "      <th>Zone</th>\n",
       "      <th>Élément</th>\n",
       "      <th>Produit</th>\n",
       "      <th>Année</th>\n",
       "      <th>Unité</th>\n",
       "      <th>Valeur</th>\n",
       "    </tr>\n",
       "  </thead>\n",
       "  <tbody>\n",
       "    <tr>\n",
       "      <th>0</th>\n",
       "      <td>Indicateurs macro</td>\n",
       "      <td>Afghanistan</td>\n",
       "      <td>Valeur US $</td>\n",
       "      <td>Produit Intérieur Brut</td>\n",
       "      <td>2017</td>\n",
       "      <td>Millions d’USD</td>\n",
       "      <td>1.889635e+04</td>\n",
       "    </tr>\n",
       "    <tr>\n",
       "      <th>1</th>\n",
       "      <td>Indicateurs macro</td>\n",
       "      <td>Afrique du Sud</td>\n",
       "      <td>Valeur US $</td>\n",
       "      <td>Produit Intérieur Brut</td>\n",
       "      <td>2017</td>\n",
       "      <td>Millions d’USD</td>\n",
       "      <td>3.808514e+05</td>\n",
       "    </tr>\n",
       "    <tr>\n",
       "      <th>2</th>\n",
       "      <td>Indicateurs macro</td>\n",
       "      <td>Albanie</td>\n",
       "      <td>Valeur US $</td>\n",
       "      <td>Produit Intérieur Brut</td>\n",
       "      <td>2017</td>\n",
       "      <td>Millions d’USD</td>\n",
       "      <td>1.301973e+04</td>\n",
       "    </tr>\n",
       "    <tr>\n",
       "      <th>3</th>\n",
       "      <td>Indicateurs macro</td>\n",
       "      <td>Algérie</td>\n",
       "      <td>Valeur US $</td>\n",
       "      <td>Produit Intérieur Brut</td>\n",
       "      <td>2017</td>\n",
       "      <td>Millions d’USD</td>\n",
       "      <td>1.700970e+05</td>\n",
       "    </tr>\n",
       "    <tr>\n",
       "      <th>4</th>\n",
       "      <td>Indicateurs macro</td>\n",
       "      <td>Allemagne</td>\n",
       "      <td>Valeur US $</td>\n",
       "      <td>Produit Intérieur Brut</td>\n",
       "      <td>2017</td>\n",
       "      <td>Millions d’USD</td>\n",
       "      <td>3.690849e+06</td>\n",
       "    </tr>\n",
       "  </tbody>\n",
       "</table>\n",
       "</div>"
      ],
      "text/plain": [
       "             Domaine            Zone      Élément                 Produit  \\\n",
       "0  Indicateurs macro     Afghanistan  Valeur US $  Produit Intérieur Brut   \n",
       "1  Indicateurs macro  Afrique du Sud  Valeur US $  Produit Intérieur Brut   \n",
       "2  Indicateurs macro         Albanie  Valeur US $  Produit Intérieur Brut   \n",
       "3  Indicateurs macro         Algérie  Valeur US $  Produit Intérieur Brut   \n",
       "4  Indicateurs macro       Allemagne  Valeur US $  Produit Intérieur Brut   \n",
       "\n",
       "   Année           Unité        Valeur  \n",
       "0   2017  Millions d’USD  1.889635e+04  \n",
       "1   2017  Millions d’USD  3.808514e+05  \n",
       "2   2017  Millions d’USD  1.301973e+04  \n",
       "3   2017  Millions d’USD  1.700970e+05  \n",
       "4   2017  Millions d’USD  3.690849e+06  "
      ]
     },
     "execution_count": 46,
     "metadata": {},
     "output_type": "execute_result"
    }
   ],
   "source": [
    "#Verifiez le head\n",
    "GDP.head()"
   ]
  },
  {
   "cell_type": "code",
   "execution_count": 47,
   "id": "0611e247",
   "metadata": {},
   "outputs": [
    {
     "data": {
      "text/plain": [
       "Domaine     object\n",
       "Zone        object\n",
       "Élément     object\n",
       "Produit     object\n",
       "Année        int64\n",
       "Unité       object\n",
       "Valeur     float64\n",
       "dtype: object"
      ]
     },
     "execution_count": 47,
     "metadata": {},
     "output_type": "execute_result"
    }
   ],
   "source": [
    "#Verifiez les types des données\n",
    "GDP.dtypes"
   ]
  },
  {
   "cell_type": "code",
   "execution_count": 48,
   "id": "9f871a8a",
   "metadata": {},
   "outputs": [
    {
     "data": {
      "text/plain": [
       "Domaine    0\n",
       "Zone       0\n",
       "Élément    0\n",
       "Produit    0\n",
       "Année      0\n",
       "Unité      0\n",
       "Valeur     0\n",
       "dtype: int64"
      ]
     },
     "execution_count": 48,
     "metadata": {},
     "output_type": "execute_result"
    }
   ],
   "source": [
    "#Verifiez si il y a des valeurs 'nulls'\n",
    "GDP.isnull().sum()"
   ]
  },
  {
   "cell_type": "code",
   "execution_count": 49,
   "id": "eb3ac957",
   "metadata": {},
   "outputs": [
    {
     "name": "stdout",
     "output_type": "stream",
     "text": [
      "Domaine      1\n",
      "Zone       211\n",
      "Élément      1\n",
      "Produit      1\n",
      "Année        1\n",
      "Unité        1\n",
      "Valeur     211\n",
      "dtype: int64\n"
     ]
    }
   ],
   "source": [
    "# Trouvez les colonnes où il y a seulement une valeur\n",
    "print(GDP.nunique())"
   ]
  },
  {
   "cell_type": "code",
   "execution_count": 50,
   "id": "1aad4b31",
   "metadata": {},
   "outputs": [],
   "source": [
    "# Changez le nom de la colonne 'Valeur' à 'PIB (US$)'\n",
    "GDP = GDP.rename(columns = {'Valeur':'PIB (US$)'})\n",
    "\n",
    "# Multipliez PIB par un million\n",
    "GDP[\"PIB (US$)\"] = GDP[\"PIB (US$)\"]*1000000\n",
    "\n",
    "# Puis, je peux supprimer 'Unit' et 'Item'. Je peux également supprimer Domain Code, Domain, Area Code, Element Code, Element, et Item Code.\n",
    "GDP = GDP.drop(columns = ['Domaine','Produit','Élément', 'Année', 'Unité'])"
   ]
  },
  {
   "cell_type": "code",
   "execution_count": 51,
   "id": "a4e432db",
   "metadata": {},
   "outputs": [],
   "source": [
    "#Quand j'ai fait le final jointure de tous les fichiers, j'ai trouvé que quelque fichiers utilise le nom 'Pays-Bas (Royaume des)' et quelques fichiers utilise le noms 'Pays-Bas'\n",
    "#Je vais standardiser les nom.\n",
    "GDP.loc[GDP['Zone']=='Pays-Bas (Royaume des)', 'Zone'] = 'Pays-Bas'"
   ]
  },
  {
   "cell_type": "code",
   "execution_count": 52,
   "id": "f453db12",
   "metadata": {},
   "outputs": [
    {
     "name": "stdout",
     "output_type": "stream",
     "text": [
      "Shape du fichier 'GDP' -  (211, 2)\n",
      "-----\n",
      "Nombre de lignes unique dans la colonne 'Zone' -  211\n"
     ]
    }
   ],
   "source": [
    "#Verifiez que 'Zone' peut être utilisé comme la clé primaire\n",
    "print(\"Shape du fichier 'GDP' - \", GDP.shape)\n",
    "print('-----')\n",
    "print(\"Nombre de lignes unique dans la colonne 'Zone' - \", GDP['Zone'].nunique())"
   ]
  },
  {
   "cell_type": "code",
   "execution_count": 53,
   "id": "1fc1747b",
   "metadata": {},
   "outputs": [],
   "source": [
    "#Joignez les dataframes 'population' et 'dispoAlimentaire'\n",
    "dispoAlimentaire_PIB = pd.merge(dispoAlimentaire, GDP, on='Zone', how='left')"
   ]
  },
  {
   "cell_type": "code",
   "execution_count": 54,
   "id": "c1f1458b",
   "metadata": {},
   "outputs": [],
   "source": [
    "# Pour rendre le PIB plus facile à comparer entre les pays, j'analyserai le PIB par habitant\n",
    "dispoAlimentaire_PIB['PIB (US$) par habitant'] = dispoAlimentaire_PIB['PIB (US$)']/dispoAlimentaire_PIB['Population']\n",
    "\n",
    "dispoAlimentaire_PIB.drop(columns='PIB (US$)', inplace=True)"
   ]
  },
  {
   "cell_type": "markdown",
   "id": "1ace0bbf",
   "metadata": {},
   "source": [
    "## Stabilité Politique"
   ]
  },
  {
   "cell_type": "code",
   "execution_count": 55,
   "id": "11f5cd1c",
   "metadata": {},
   "outputs": [
    {
     "data": {
      "text/plain": [
       "(196, 6)"
      ]
     },
     "execution_count": 55,
     "metadata": {},
     "output_type": "execute_result"
    }
   ],
   "source": [
    "#Verifiez le shape\n",
    "stab_pol.shape"
   ]
  },
  {
   "cell_type": "code",
   "execution_count": 56,
   "id": "a33dafe4",
   "metadata": {},
   "outputs": [
    {
     "data": {
      "text/html": [
       "<div>\n",
       "<style scoped>\n",
       "    .dataframe tbody tr th:only-of-type {\n",
       "        vertical-align: middle;\n",
       "    }\n",
       "\n",
       "    .dataframe tbody tr th {\n",
       "        vertical-align: top;\n",
       "    }\n",
       "\n",
       "    .dataframe thead th {\n",
       "        text-align: right;\n",
       "    }\n",
       "</style>\n",
       "<table border=\"1\" class=\"dataframe\">\n",
       "  <thead>\n",
       "    <tr style=\"text-align: right;\">\n",
       "      <th></th>\n",
       "      <th>Domaine</th>\n",
       "      <th>Zone</th>\n",
       "      <th>Élément</th>\n",
       "      <th>Produit</th>\n",
       "      <th>Année</th>\n",
       "      <th>Valeur</th>\n",
       "    </tr>\n",
       "  </thead>\n",
       "  <tbody>\n",
       "    <tr>\n",
       "      <th>0</th>\n",
       "      <td>Données de la sécurité alimentaire</td>\n",
       "      <td>Pays-Bas (Royaume des)</td>\n",
       "      <td>Valeur</td>\n",
       "      <td>Stabilité politique et absence de violence/ter...</td>\n",
       "      <td>2017</td>\n",
       "      <td>0.92</td>\n",
       "    </tr>\n",
       "    <tr>\n",
       "      <th>1</th>\n",
       "      <td>Données de la sécurité alimentaire</td>\n",
       "      <td>Afghanistan</td>\n",
       "      <td>Valeur</td>\n",
       "      <td>Stabilité politique et absence de violence/ter...</td>\n",
       "      <td>2017</td>\n",
       "      <td>-2.80</td>\n",
       "    </tr>\n",
       "    <tr>\n",
       "      <th>2</th>\n",
       "      <td>Données de la sécurité alimentaire</td>\n",
       "      <td>Afrique du Sud</td>\n",
       "      <td>Valeur</td>\n",
       "      <td>Stabilité politique et absence de violence/ter...</td>\n",
       "      <td>2017</td>\n",
       "      <td>-0.28</td>\n",
       "    </tr>\n",
       "    <tr>\n",
       "      <th>3</th>\n",
       "      <td>Données de la sécurité alimentaire</td>\n",
       "      <td>Albanie</td>\n",
       "      <td>Valeur</td>\n",
       "      <td>Stabilité politique et absence de violence/ter...</td>\n",
       "      <td>2017</td>\n",
       "      <td>0.38</td>\n",
       "    </tr>\n",
       "    <tr>\n",
       "      <th>4</th>\n",
       "      <td>Données de la sécurité alimentaire</td>\n",
       "      <td>Algérie</td>\n",
       "      <td>Valeur</td>\n",
       "      <td>Stabilité politique et absence de violence/ter...</td>\n",
       "      <td>2017</td>\n",
       "      <td>-0.92</td>\n",
       "    </tr>\n",
       "  </tbody>\n",
       "</table>\n",
       "</div>"
      ],
      "text/plain": [
       "                              Domaine                    Zone Élément  \\\n",
       "0  Données de la sécurité alimentaire  Pays-Bas (Royaume des)  Valeur   \n",
       "1  Données de la sécurité alimentaire             Afghanistan  Valeur   \n",
       "2  Données de la sécurité alimentaire          Afrique du Sud  Valeur   \n",
       "3  Données de la sécurité alimentaire                 Albanie  Valeur   \n",
       "4  Données de la sécurité alimentaire                 Algérie  Valeur   \n",
       "\n",
       "                                             Produit  Année  Valeur  \n",
       "0  Stabilité politique et absence de violence/ter...   2017    0.92  \n",
       "1  Stabilité politique et absence de violence/ter...   2017   -2.80  \n",
       "2  Stabilité politique et absence de violence/ter...   2017   -0.28  \n",
       "3  Stabilité politique et absence de violence/ter...   2017    0.38  \n",
       "4  Stabilité politique et absence de violence/ter...   2017   -0.92  "
      ]
     },
     "execution_count": 56,
     "metadata": {},
     "output_type": "execute_result"
    }
   ],
   "source": [
    "#Verifiez le head\n",
    "stab_pol.head()"
   ]
  },
  {
   "cell_type": "code",
   "execution_count": 57,
   "id": "a6c88ba0",
   "metadata": {},
   "outputs": [
    {
     "data": {
      "text/plain": [
       "Domaine     object\n",
       "Zone        object\n",
       "Élément     object\n",
       "Produit     object\n",
       "Année        int64\n",
       "Valeur     float64\n",
       "dtype: object"
      ]
     },
     "execution_count": 57,
     "metadata": {},
     "output_type": "execute_result"
    }
   ],
   "source": [
    "#Verifiez les types des données\n",
    "stab_pol.dtypes"
   ]
  },
  {
   "cell_type": "code",
   "execution_count": 58,
   "id": "e1323b44",
   "metadata": {},
   "outputs": [
    {
     "data": {
      "text/plain": [
       "Domaine    0\n",
       "Zone       0\n",
       "Élément    0\n",
       "Produit    0\n",
       "Année      0\n",
       "Valeur     0\n",
       "dtype: int64"
      ]
     },
     "execution_count": 58,
     "metadata": {},
     "output_type": "execute_result"
    }
   ],
   "source": [
    "#Verifiez si il y a des valeurs 'nulls'\n",
    "stab_pol.isnull().sum()"
   ]
  },
  {
   "cell_type": "code",
   "execution_count": 59,
   "id": "1a352561",
   "metadata": {},
   "outputs": [
    {
     "name": "stdout",
     "output_type": "stream",
     "text": [
      "Domaine      1\n",
      "Zone       196\n",
      "Élément      1\n",
      "Produit      1\n",
      "Année        1\n",
      "Valeur     146\n",
      "dtype: int64\n"
     ]
    }
   ],
   "source": [
    "# Trouvez les colonnes où il y a seulement une valeur\n",
    "print(stab_pol.nunique())"
   ]
  },
  {
   "cell_type": "code",
   "execution_count": 60,
   "id": "3734a8ea",
   "metadata": {},
   "outputs": [],
   "source": [
    "#Changez le nom de 'Valeur' à 'Stabilité Politique'\n",
    "stab_pol = stab_pol.rename(columns = {'Valeur':'Stabilité Politique'})\n",
    "\n",
    "#Supprimez tous les colonnes avec seulement une valeur - pas besoin de ces valeurs\n",
    "stab_pol = stab_pol.drop(columns = ['Domaine','Élément', 'Produit', 'Année'])"
   ]
  },
  {
   "cell_type": "code",
   "execution_count": 61,
   "id": "79733631",
   "metadata": {},
   "outputs": [],
   "source": [
    "#Quand j'ai fait le final jointure de tous les fichiers, j'ai trouvé que quelque fichiers utilise le nom 'Pays-Bas (Royaume des)' et quelques fichiers utilise le noms 'Pays-Bas'\n",
    "#Je vais standardiser les nom.\n",
    "stab_pol.loc[stab_pol['Zone']=='Pays-Bas (Royaume des)', 'Zone'] = 'Pays-Bas'"
   ]
  },
  {
   "cell_type": "code",
   "execution_count": 62,
   "id": "e0da7efe",
   "metadata": {},
   "outputs": [
    {
     "name": "stdout",
     "output_type": "stream",
     "text": [
      "Shape du fichier 'stab_pol' -  (196, 2)\n",
      "-----\n",
      "Nombre de lignes unique dans la colonne 'Zone' -  196\n"
     ]
    }
   ],
   "source": [
    "#Verifiez que 'Zone' peut être utilisé comme la clé primaire\n",
    "print(\"Shape du fichier 'stab_pol' - \", stab_pol.shape)\n",
    "print('-----')\n",
    "print(\"Nombre de lignes unique dans la colonne 'Zone' - \", stab_pol['Zone'].nunique())"
   ]
  },
  {
   "cell_type": "code",
   "execution_count": 63,
   "id": "c696c580",
   "metadata": {},
   "outputs": [],
   "source": [
    "#Joignez les dataframes\n",
    "dispoAlimentaire_PIB_stabpol = pd.merge(dispoAlimentaire_PIB, stab_pol, on='Zone', how='left')"
   ]
  },
  {
   "cell_type": "markdown",
   "id": "df71f819",
   "metadata": {},
   "source": [
    "## Crédit à l'Agriculture, Sylviculture et Pêche\n",
    "\"Le crédit à l'agriculture mesure le montant des prêts et avances accordés par le secteur bancaire aux agriculteurs ou aux ménages ruraux\" - FAO"
   ]
  },
  {
   "cell_type": "code",
   "execution_count": 64,
   "id": "e6f69040",
   "metadata": {},
   "outputs": [
    {
     "data": {
      "text/plain": [
       "(121, 7)"
      ]
     },
     "execution_count": 64,
     "metadata": {},
     "output_type": "execute_result"
    }
   ],
   "source": [
    "#Verifiez le shape\n",
    "crédit.shape"
   ]
  },
  {
   "cell_type": "code",
   "execution_count": 65,
   "id": "e0971a9b",
   "metadata": {},
   "outputs": [
    {
     "data": {
      "text/html": [
       "<div>\n",
       "<style scoped>\n",
       "    .dataframe tbody tr th:only-of-type {\n",
       "        vertical-align: middle;\n",
       "    }\n",
       "\n",
       "    .dataframe tbody tr th {\n",
       "        vertical-align: top;\n",
       "    }\n",
       "\n",
       "    .dataframe thead th {\n",
       "        text-align: right;\n",
       "    }\n",
       "</style>\n",
       "<table border=\"1\" class=\"dataframe\">\n",
       "  <thead>\n",
       "    <tr style=\"text-align: right;\">\n",
       "      <th></th>\n",
       "      <th>Domaine</th>\n",
       "      <th>Zone</th>\n",
       "      <th>Élément</th>\n",
       "      <th>Produit</th>\n",
       "      <th>Année</th>\n",
       "      <th>Unité</th>\n",
       "      <th>Valeur</th>\n",
       "    </tr>\n",
       "  </thead>\n",
       "  <tbody>\n",
       "    <tr>\n",
       "      <th>0</th>\n",
       "      <td>Profil statistique national sur l’investissement</td>\n",
       "      <td>Afghanistan</td>\n",
       "      <td>Valeur US $</td>\n",
       "      <td>Crédit à l'Agriculture, Sylviculture et Pêche</td>\n",
       "      <td>2017</td>\n",
       "      <td>Millions d’USD</td>\n",
       "      <td>25.623698</td>\n",
       "    </tr>\n",
       "    <tr>\n",
       "      <th>1</th>\n",
       "      <td>Profil statistique national sur l’investissement</td>\n",
       "      <td>Albanie</td>\n",
       "      <td>Valeur US $</td>\n",
       "      <td>Crédit à l'Agriculture, Sylviculture et Pêche</td>\n",
       "      <td>2017</td>\n",
       "      <td>Millions d’USD</td>\n",
       "      <td>45.004324</td>\n",
       "    </tr>\n",
       "    <tr>\n",
       "      <th>2</th>\n",
       "      <td>Profil statistique national sur l’investissement</td>\n",
       "      <td>Allemagne</td>\n",
       "      <td>Valeur US $</td>\n",
       "      <td>Crédit à l'Agriculture, Sylviculture et Pêche</td>\n",
       "      <td>2017</td>\n",
       "      <td>Millions d’USD</td>\n",
       "      <td>56660.289090</td>\n",
       "    </tr>\n",
       "    <tr>\n",
       "      <th>3</th>\n",
       "      <td>Profil statistique national sur l’investissement</td>\n",
       "      <td>Angola</td>\n",
       "      <td>Valeur US $</td>\n",
       "      <td>Crédit à l'Agriculture, Sylviculture et Pêche</td>\n",
       "      <td>2017</td>\n",
       "      <td>Millions d’USD</td>\n",
       "      <td>1327.649363</td>\n",
       "    </tr>\n",
       "    <tr>\n",
       "      <th>4</th>\n",
       "      <td>Profil statistique national sur l’investissement</td>\n",
       "      <td>Anguilla</td>\n",
       "      <td>Valeur US $</td>\n",
       "      <td>Crédit à l'Agriculture, Sylviculture et Pêche</td>\n",
       "      <td>2017</td>\n",
       "      <td>Millions d’USD</td>\n",
       "      <td>0.210000</td>\n",
       "    </tr>\n",
       "  </tbody>\n",
       "</table>\n",
       "</div>"
      ],
      "text/plain": [
       "                                            Domaine         Zone      Élément  \\\n",
       "0  Profil statistique national sur l’investissement  Afghanistan  Valeur US $   \n",
       "1  Profil statistique national sur l’investissement      Albanie  Valeur US $   \n",
       "2  Profil statistique national sur l’investissement    Allemagne  Valeur US $   \n",
       "3  Profil statistique national sur l’investissement       Angola  Valeur US $   \n",
       "4  Profil statistique national sur l’investissement     Anguilla  Valeur US $   \n",
       "\n",
       "                                         Produit  Année           Unité  \\\n",
       "0  Crédit à l'Agriculture, Sylviculture et Pêche   2017  Millions d’USD   \n",
       "1  Crédit à l'Agriculture, Sylviculture et Pêche   2017  Millions d’USD   \n",
       "2  Crédit à l'Agriculture, Sylviculture et Pêche   2017  Millions d’USD   \n",
       "3  Crédit à l'Agriculture, Sylviculture et Pêche   2017  Millions d’USD   \n",
       "4  Crédit à l'Agriculture, Sylviculture et Pêche   2017  Millions d’USD   \n",
       "\n",
       "         Valeur  \n",
       "0     25.623698  \n",
       "1     45.004324  \n",
       "2  56660.289090  \n",
       "3   1327.649363  \n",
       "4      0.210000  "
      ]
     },
     "execution_count": 65,
     "metadata": {},
     "output_type": "execute_result"
    }
   ],
   "source": [
    "#Verifiez le head\n",
    "crédit.head()"
   ]
  },
  {
   "cell_type": "code",
   "execution_count": 66,
   "id": "6c1ea4a6",
   "metadata": {},
   "outputs": [
    {
     "data": {
      "text/plain": [
       "Domaine     object\n",
       "Zone        object\n",
       "Élément     object\n",
       "Produit     object\n",
       "Année        int64\n",
       "Unité       object\n",
       "Valeur     float64\n",
       "dtype: object"
      ]
     },
     "execution_count": 66,
     "metadata": {},
     "output_type": "execute_result"
    }
   ],
   "source": [
    "#Verifiez les types des données\n",
    "crédit.dtypes"
   ]
  },
  {
   "cell_type": "code",
   "execution_count": 67,
   "id": "bc2a085a",
   "metadata": {},
   "outputs": [
    {
     "data": {
      "text/plain": [
       "Domaine    0\n",
       "Zone       0\n",
       "Élément    0\n",
       "Produit    0\n",
       "Année      0\n",
       "Unité      0\n",
       "Valeur     0\n",
       "dtype: int64"
      ]
     },
     "execution_count": 67,
     "metadata": {},
     "output_type": "execute_result"
    }
   ],
   "source": [
    "#Verifiez si il y a des valeurs 'nulls'\n",
    "crédit.isnull().sum()"
   ]
  },
  {
   "cell_type": "code",
   "execution_count": 68,
   "id": "fccb5f5f",
   "metadata": {},
   "outputs": [
    {
     "data": {
      "text/plain": [
       "Domaine      1\n",
       "Zone       121\n",
       "Élément      1\n",
       "Produit      1\n",
       "Année        1\n",
       "Unité        1\n",
       "Valeur     120\n",
       "dtype: int64"
      ]
     },
     "execution_count": 68,
     "metadata": {},
     "output_type": "execute_result"
    }
   ],
   "source": [
    "#Trouvez les colonnes où il y a seulement une valeur\n",
    "crédit.nunique()"
   ]
  },
  {
   "cell_type": "code",
   "execution_count": 69,
   "id": "f930adb9",
   "metadata": {},
   "outputs": [],
   "source": [
    "#Renommez la colonne 'Valeur'\n",
    "crédit = crédit.rename(columns ={'Valeur':\"Crédit à l'Agriculture, Sylviculture et Pêche - (US$)\"} )\n",
    "\n",
    "#Multipliez la colonne par un million\n",
    "crédit[\"Crédit à l'Agriculture, Sylviculture et Pêche - (US$)\"] = crédit[\"Crédit à l'Agriculture, Sylviculture et Pêche - (US$)\"]*1000000"
   ]
  },
  {
   "cell_type": "code",
   "execution_count": 70,
   "id": "739c3b98",
   "metadata": {},
   "outputs": [],
   "source": [
    "#Supprimez les colonnes  inutile\n",
    "crédit = crédit.drop(columns = ['Domaine', 'Élément','Produit', 'Année', 'Unité'])"
   ]
  },
  {
   "cell_type": "code",
   "execution_count": 71,
   "id": "418885d1",
   "metadata": {},
   "outputs": [],
   "source": [
    "#Quand j'ai fait le final jointure de tous les fichiers, j'ai trouvé que quelque fichiers utilise le nom 'Pays-Bas (Royaume des)' et quelques fichiers utilise le noms 'Pays-Bas'\n",
    "#Je vais standardiser les nom.\n",
    "crédit.loc[crédit['Zone']=='Pays-Bas (Royaume des)', 'Zone'] = 'Pays-Bas'"
   ]
  },
  {
   "cell_type": "code",
   "execution_count": 72,
   "id": "54bfaf7a",
   "metadata": {},
   "outputs": [
    {
     "name": "stdout",
     "output_type": "stream",
     "text": [
      "Shape du fichier 'crédit' -  (121, 2)\n",
      "-----\n",
      "Nombre de lignes unique dans la colonne 'Zone' -  121\n"
     ]
    }
   ],
   "source": [
    "#Verifiez que 'Zone' peut être utilisé comme la clé primaire\n",
    "print(\"Shape du fichier 'crédit' - \", crédit.shape)\n",
    "print('-----')\n",
    "print(\"Nombre de lignes unique dans la colonne 'Zone' - \", crédit['Zone'].nunique())"
   ]
  },
  {
   "cell_type": "code",
   "execution_count": 73,
   "id": "2786ccb3",
   "metadata": {},
   "outputs": [],
   "source": [
    "#Joignez les fichiers\n",
    "dispoAlimentaire_PIB_stabpol_crédit = pd.merge(dispoAlimentaire_PIB_stabpol, crédit, on='Zone', how='left')"
   ]
  },
  {
   "cell_type": "code",
   "execution_count": 74,
   "id": "d3b5046e",
   "metadata": {},
   "outputs": [],
   "source": [
    "# Mettre à jour le chiffre par habitant\n",
    "dispoAlimentaire_PIB_stabpol_crédit[\"Crédit à l'Agriculture, Sylviculture et Pêche par habitant - (US$)\"] = dispoAlimentaire_PIB_stabpol_crédit[\"Crédit à l'Agriculture, Sylviculture et Pêche - (US$)\"]/dispoAlimentaire_PIB_stabpol_crédit[\"Population\"]\n",
    "\n",
    "#Supprimez la colonne avec le crédit total\n",
    "dispoAlimentaire_PIB_stabpol_crédit = dispoAlimentaire_PIB_stabpol_crédit.drop(columns=\"Crédit à l'Agriculture, Sylviculture et Pêche - (US$)\")"
   ]
  },
  {
   "cell_type": "markdown",
   "id": "8be75e45",
   "metadata": {},
   "source": [
    "## Émissions provenant des élevages de poulets"
   ]
  },
  {
   "cell_type": "code",
   "execution_count": 75,
   "id": "74ff2d5a",
   "metadata": {},
   "outputs": [
    {
     "data": {
      "text/plain": [
       "(194, 7)"
      ]
     },
     "execution_count": 75,
     "metadata": {},
     "output_type": "execute_result"
    }
   ],
   "source": [
    "#Verifiez le shape\n",
    "émissions.shape"
   ]
  },
  {
   "cell_type": "code",
   "execution_count": 76,
   "id": "af72c772",
   "metadata": {},
   "outputs": [
    {
     "data": {
      "text/html": [
       "<div>\n",
       "<style scoped>\n",
       "    .dataframe tbody tr th:only-of-type {\n",
       "        vertical-align: middle;\n",
       "    }\n",
       "\n",
       "    .dataframe tbody tr th {\n",
       "        vertical-align: top;\n",
       "    }\n",
       "\n",
       "    .dataframe thead th {\n",
       "        text-align: right;\n",
       "    }\n",
       "</style>\n",
       "<table border=\"1\" class=\"dataframe\">\n",
       "  <thead>\n",
       "    <tr style=\"text-align: right;\">\n",
       "      <th></th>\n",
       "      <th>Domaine</th>\n",
       "      <th>Zone</th>\n",
       "      <th>Élément</th>\n",
       "      <th>Produit</th>\n",
       "      <th>Année</th>\n",
       "      <th>Unité</th>\n",
       "      <th>Valeur</th>\n",
       "    </tr>\n",
       "  </thead>\n",
       "  <tbody>\n",
       "    <tr>\n",
       "      <th>0</th>\n",
       "      <td>Intensités des émissions</td>\n",
       "      <td>Afghanistan</td>\n",
       "      <td>Intensité des émissions</td>\n",
       "      <td>Viande, poulet, fraîche ou réfrigérée</td>\n",
       "      <td>2017</td>\n",
       "      <td>kg CO2eq/kg</td>\n",
       "      <td>0.3632</td>\n",
       "    </tr>\n",
       "    <tr>\n",
       "      <th>1</th>\n",
       "      <td>Intensités des émissions</td>\n",
       "      <td>Afrique du Sud</td>\n",
       "      <td>Intensité des émissions</td>\n",
       "      <td>Viande, poulet, fraîche ou réfrigérée</td>\n",
       "      <td>2017</td>\n",
       "      <td>kg CO2eq/kg</td>\n",
       "      <td>0.3164</td>\n",
       "    </tr>\n",
       "    <tr>\n",
       "      <th>2</th>\n",
       "      <td>Intensités des émissions</td>\n",
       "      <td>Albanie</td>\n",
       "      <td>Intensité des émissions</td>\n",
       "      <td>Viande, poulet, fraîche ou réfrigérée</td>\n",
       "      <td>2017</td>\n",
       "      <td>kg CO2eq/kg</td>\n",
       "      <td>0.8127</td>\n",
       "    </tr>\n",
       "    <tr>\n",
       "      <th>3</th>\n",
       "      <td>Intensités des émissions</td>\n",
       "      <td>Algérie</td>\n",
       "      <td>Intensité des émissions</td>\n",
       "      <td>Viande, poulet, fraîche ou réfrigérée</td>\n",
       "      <td>2017</td>\n",
       "      <td>kg CO2eq/kg</td>\n",
       "      <td>1.7491</td>\n",
       "    </tr>\n",
       "    <tr>\n",
       "      <th>4</th>\n",
       "      <td>Intensités des émissions</td>\n",
       "      <td>Allemagne</td>\n",
       "      <td>Intensité des émissions</td>\n",
       "      <td>Viande, poulet, fraîche ou réfrigérée</td>\n",
       "      <td>2017</td>\n",
       "      <td>kg CO2eq/kg</td>\n",
       "      <td>0.4118</td>\n",
       "    </tr>\n",
       "  </tbody>\n",
       "</table>\n",
       "</div>"
      ],
      "text/plain": [
       "                    Domaine            Zone                  Élément  \\\n",
       "0  Intensités des émissions     Afghanistan  Intensité des émissions   \n",
       "1  Intensités des émissions  Afrique du Sud  Intensité des émissions   \n",
       "2  Intensités des émissions         Albanie  Intensité des émissions   \n",
       "3  Intensités des émissions         Algérie  Intensité des émissions   \n",
       "4  Intensités des émissions       Allemagne  Intensité des émissions   \n",
       "\n",
       "                                 Produit  Année        Unité  Valeur  \n",
       "0  Viande, poulet, fraîche ou réfrigérée   2017  kg CO2eq/kg  0.3632  \n",
       "1  Viande, poulet, fraîche ou réfrigérée   2017  kg CO2eq/kg  0.3164  \n",
       "2  Viande, poulet, fraîche ou réfrigérée   2017  kg CO2eq/kg  0.8127  \n",
       "3  Viande, poulet, fraîche ou réfrigérée   2017  kg CO2eq/kg  1.7491  \n",
       "4  Viande, poulet, fraîche ou réfrigérée   2017  kg CO2eq/kg  0.4118  "
      ]
     },
     "execution_count": 76,
     "metadata": {},
     "output_type": "execute_result"
    }
   ],
   "source": [
    "#Verifiez le head\n",
    "émissions.head()"
   ]
  },
  {
   "cell_type": "code",
   "execution_count": 77,
   "id": "f57138ec",
   "metadata": {},
   "outputs": [
    {
     "data": {
      "text/plain": [
       "Domaine     object\n",
       "Zone        object\n",
       "Élément     object\n",
       "Produit     object\n",
       "Année        int64\n",
       "Unité       object\n",
       "Valeur     float64\n",
       "dtype: object"
      ]
     },
     "execution_count": 77,
     "metadata": {},
     "output_type": "execute_result"
    }
   ],
   "source": [
    "#Verifiez les types des données\n",
    "émissions.dtypes"
   ]
  },
  {
   "cell_type": "code",
   "execution_count": 78,
   "id": "7c8c3ed9",
   "metadata": {},
   "outputs": [
    {
     "data": {
      "text/plain": [
       "Domaine    0\n",
       "Zone       0\n",
       "Élément    0\n",
       "Produit    0\n",
       "Année      0\n",
       "Unité      0\n",
       "Valeur     0\n",
       "dtype: int64"
      ]
     },
     "execution_count": 78,
     "metadata": {},
     "output_type": "execute_result"
    }
   ],
   "source": [
    "#Verifiez si il y a des valeurs 'nulls'\n",
    "émissions.isnull().sum()"
   ]
  },
  {
   "cell_type": "code",
   "execution_count": 79,
   "id": "4cc4f5b9",
   "metadata": {},
   "outputs": [
    {
     "data": {
      "text/plain": [
       "Domaine      1\n",
       "Zone       194\n",
       "Élément      1\n",
       "Produit      1\n",
       "Année        1\n",
       "Unité        1\n",
       "Valeur     194\n",
       "dtype: int64"
      ]
     },
     "execution_count": 79,
     "metadata": {},
     "output_type": "execute_result"
    }
   ],
   "source": [
    "#Trouvez les colonnes où il y a seulement une valeur\n",
    "émissions.nunique()"
   ]
  },
  {
   "cell_type": "code",
   "execution_count": 80,
   "id": "d3e0722a",
   "metadata": {},
   "outputs": [],
   "source": [
    "#Renommez la colonne 'Valeur'\n",
    "émissions = émissions.rename(columns = {'Valeur':\"Viande, poulet – Intensité des émissions (Kilogrammes d'équivalent CO2 par kilogramme)\"})\n",
    "\n",
    "#Supprimez les colonnes inutile pour l'analyse\n",
    "émissions = émissions.drop(columns=['Domaine', 'Élément', 'Produit', 'Année', 'Unité'])"
   ]
  },
  {
   "cell_type": "code",
   "execution_count": 81,
   "id": "d271ca91",
   "metadata": {},
   "outputs": [
    {
     "data": {
      "text/html": [
       "<div>\n",
       "<style scoped>\n",
       "    .dataframe tbody tr th:only-of-type {\n",
       "        vertical-align: middle;\n",
       "    }\n",
       "\n",
       "    .dataframe tbody tr th {\n",
       "        vertical-align: top;\n",
       "    }\n",
       "\n",
       "    .dataframe thead th {\n",
       "        text-align: right;\n",
       "    }\n",
       "</style>\n",
       "<table border=\"1\" class=\"dataframe\">\n",
       "  <thead>\n",
       "    <tr style=\"text-align: right;\">\n",
       "      <th></th>\n",
       "      <th>Viande, poulet – Intensité des émissions (Kilogrammes d'équivalent CO2 par kilogramme)</th>\n",
       "    </tr>\n",
       "  </thead>\n",
       "  <tbody>\n",
       "    <tr>\n",
       "      <th>count</th>\n",
       "      <td>194.000000</td>\n",
       "    </tr>\n",
       "    <tr>\n",
       "      <th>mean</th>\n",
       "      <td>1.479567</td>\n",
       "    </tr>\n",
       "    <tr>\n",
       "      <th>std</th>\n",
       "      <td>1.850828</td>\n",
       "    </tr>\n",
       "    <tr>\n",
       "      <th>min</th>\n",
       "      <td>0.005000</td>\n",
       "    </tr>\n",
       "    <tr>\n",
       "      <th>25%</th>\n",
       "      <td>0.343500</td>\n",
       "    </tr>\n",
       "    <tr>\n",
       "      <th>50%</th>\n",
       "      <td>0.880300</td>\n",
       "    </tr>\n",
       "    <tr>\n",
       "      <th>75%</th>\n",
       "      <td>2.107925</td>\n",
       "    </tr>\n",
       "    <tr>\n",
       "      <th>max</th>\n",
       "      <td>15.767700</td>\n",
       "    </tr>\n",
       "  </tbody>\n",
       "</table>\n",
       "</div>"
      ],
      "text/plain": [
       "       Viande, poulet – Intensité des émissions (Kilogrammes d'équivalent CO2 par kilogramme)\n",
       "count                                         194.000000                                     \n",
       "mean                                            1.479567                                     \n",
       "std                                             1.850828                                     \n",
       "min                                             0.005000                                     \n",
       "25%                                             0.343500                                     \n",
       "50%                                             0.880300                                     \n",
       "75%                                             2.107925                                     \n",
       "max                                            15.767700                                     "
      ]
     },
     "execution_count": 81,
     "metadata": {},
     "output_type": "execute_result"
    }
   ],
   "source": [
    "#Verifiez s'il y a des outliers\n",
    "émissions.describe()"
   ]
  },
  {
   "cell_type": "code",
   "execution_count": 82,
   "id": "3aa6e5ce",
   "metadata": {},
   "outputs": [],
   "source": [
    "#Quand j'ai fait le final jointure de tous les fichiers, j'ai trouvé que quelque fichiers utilise le nom 'Pays-Bas (Royaume des)' et quelques fichiers utilise le noms 'Pays-Bas'\n",
    "#Je vais standardiser les nom.\n",
    "émissions.loc[émissions['Zone']=='Pays-Bas (Royaume des)', 'Zone'] = 'Pays-Bas'"
   ]
  },
  {
   "cell_type": "code",
   "execution_count": 83,
   "id": "9b0b1a16",
   "metadata": {},
   "outputs": [
    {
     "name": "stdout",
     "output_type": "stream",
     "text": [
      "Shape du fichier 'émissions' -  (194, 2)\n",
      "-----\n",
      "Nombre de lignes unique dans la colonne 'Zone' -  194\n"
     ]
    }
   ],
   "source": [
    "#Verifiez que 'Zone' peut être utilisé comme la clé primaire\n",
    "print(\"Shape du fichier 'émissions' - \", émissions.shape)\n",
    "print('-----')\n",
    "print(\"Nombre de lignes unique dans la colonne 'Zone' - \", émissions['Zone'].nunique())"
   ]
  },
  {
   "cell_type": "code",
   "execution_count": 84,
   "id": "4664c468",
   "metadata": {},
   "outputs": [],
   "source": [
    "#Joignez les fichiers\n",
    "dispoAlimentaire_PIB_stabpol_crédit_émissions = pd.merge(dispoAlimentaire_PIB_stabpol_crédit, émissions, on='Zone', how='left')"
   ]
  },
  {
   "cell_type": "markdown",
   "id": "b881d2bd",
   "metadata": {},
   "source": [
    "## Investissement gouvernemental dans l’agriculture"
   ]
  },
  {
   "cell_type": "code",
   "execution_count": 85,
   "id": "23149eec",
   "metadata": {},
   "outputs": [
    {
     "data": {
      "text/plain": [
       "(160, 7)"
      ]
     },
     "execution_count": 85,
     "metadata": {},
     "output_type": "execute_result"
    }
   ],
   "source": [
    "#Verifiez le shape\n",
    "invest_govt.shape"
   ]
  },
  {
   "cell_type": "code",
   "execution_count": 86,
   "id": "6d14f086",
   "metadata": {},
   "outputs": [
    {
     "data": {
      "text/html": [
       "<div>\n",
       "<style scoped>\n",
       "    .dataframe tbody tr th:only-of-type {\n",
       "        vertical-align: middle;\n",
       "    }\n",
       "\n",
       "    .dataframe tbody tr th {\n",
       "        vertical-align: top;\n",
       "    }\n",
       "\n",
       "    .dataframe thead th {\n",
       "        text-align: right;\n",
       "    }\n",
       "</style>\n",
       "<table border=\"1\" class=\"dataframe\">\n",
       "  <thead>\n",
       "    <tr style=\"text-align: right;\">\n",
       "      <th></th>\n",
       "      <th>Domaine</th>\n",
       "      <th>Zone</th>\n",
       "      <th>Élément</th>\n",
       "      <th>Produit</th>\n",
       "      <th>Année</th>\n",
       "      <th>Unité</th>\n",
       "      <th>Valeur</th>\n",
       "    </tr>\n",
       "  </thead>\n",
       "  <tbody>\n",
       "    <tr>\n",
       "      <th>0</th>\n",
       "      <td>Profil statistique national sur l’investissement</td>\n",
       "      <td>Afghanistan</td>\n",
       "      <td>Valeur US $</td>\n",
       "      <td>Agriculture, sylviculture, pêche (Administrati...</td>\n",
       "      <td>2017</td>\n",
       "      <td>Millions d’USD</td>\n",
       "      <td>288.42</td>\n",
       "    </tr>\n",
       "    <tr>\n",
       "      <th>1</th>\n",
       "      <td>Profil statistique national sur l’investissement</td>\n",
       "      <td>Afrique du Sud</td>\n",
       "      <td>Valeur US $</td>\n",
       "      <td>Agriculture, sylviculture, pêche (Administrati...</td>\n",
       "      <td>2017</td>\n",
       "      <td>Millions d’USD</td>\n",
       "      <td>923.67</td>\n",
       "    </tr>\n",
       "    <tr>\n",
       "      <th>2</th>\n",
       "      <td>Profil statistique national sur l’investissement</td>\n",
       "      <td>Albanie</td>\n",
       "      <td>Valeur US $</td>\n",
       "      <td>Agriculture, sylviculture, pêche (Administrati...</td>\n",
       "      <td>2017</td>\n",
       "      <td>Millions d’USD</td>\n",
       "      <td>68.52</td>\n",
       "    </tr>\n",
       "    <tr>\n",
       "      <th>3</th>\n",
       "      <td>Profil statistique national sur l’investissement</td>\n",
       "      <td>Algérie</td>\n",
       "      <td>Valeur US $</td>\n",
       "      <td>Agriculture, sylviculture, pêche (Administrati...</td>\n",
       "      <td>2017</td>\n",
       "      <td>Millions d’USD</td>\n",
       "      <td>1927.96</td>\n",
       "    </tr>\n",
       "    <tr>\n",
       "      <th>4</th>\n",
       "      <td>Profil statistique national sur l’investissement</td>\n",
       "      <td>Angola</td>\n",
       "      <td>Valeur US $</td>\n",
       "      <td>Agriculture, sylviculture, pêche (Administrati...</td>\n",
       "      <td>2017</td>\n",
       "      <td>Millions d’USD</td>\n",
       "      <td>197.60</td>\n",
       "    </tr>\n",
       "  </tbody>\n",
       "</table>\n",
       "</div>"
      ],
      "text/plain": [
       "                                            Domaine            Zone  \\\n",
       "0  Profil statistique national sur l’investissement     Afghanistan   \n",
       "1  Profil statistique national sur l’investissement  Afrique du Sud   \n",
       "2  Profil statistique national sur l’investissement         Albanie   \n",
       "3  Profil statistique national sur l’investissement         Algérie   \n",
       "4  Profil statistique national sur l’investissement          Angola   \n",
       "\n",
       "       Élément                                            Produit  Année  \\\n",
       "0  Valeur US $  Agriculture, sylviculture, pêche (Administrati...   2017   \n",
       "1  Valeur US $  Agriculture, sylviculture, pêche (Administrati...   2017   \n",
       "2  Valeur US $  Agriculture, sylviculture, pêche (Administrati...   2017   \n",
       "3  Valeur US $  Agriculture, sylviculture, pêche (Administrati...   2017   \n",
       "4  Valeur US $  Agriculture, sylviculture, pêche (Administrati...   2017   \n",
       "\n",
       "            Unité   Valeur  \n",
       "0  Millions d’USD   288.42  \n",
       "1  Millions d’USD   923.67  \n",
       "2  Millions d’USD    68.52  \n",
       "3  Millions d’USD  1927.96  \n",
       "4  Millions d’USD   197.60  "
      ]
     },
     "execution_count": 86,
     "metadata": {},
     "output_type": "execute_result"
    }
   ],
   "source": [
    "#Verifiez le head\n",
    "invest_govt.head()"
   ]
  },
  {
   "cell_type": "code",
   "execution_count": 87,
   "id": "da10c794",
   "metadata": {},
   "outputs": [
    {
     "data": {
      "text/plain": [
       "Domaine     object\n",
       "Zone        object\n",
       "Élément     object\n",
       "Produit     object\n",
       "Année        int64\n",
       "Unité       object\n",
       "Valeur     float64\n",
       "dtype: object"
      ]
     },
     "execution_count": 87,
     "metadata": {},
     "output_type": "execute_result"
    }
   ],
   "source": [
    "#Verifiez les types des données\n",
    "invest_govt.dtypes"
   ]
  },
  {
   "cell_type": "code",
   "execution_count": 88,
   "id": "30c3f42d",
   "metadata": {},
   "outputs": [
    {
     "data": {
      "text/plain": [
       "Domaine    0\n",
       "Zone       0\n",
       "Élément    0\n",
       "Produit    0\n",
       "Année      0\n",
       "Unité      0\n",
       "Valeur     0\n",
       "dtype: int64"
      ]
     },
     "execution_count": 88,
     "metadata": {},
     "output_type": "execute_result"
    }
   ],
   "source": [
    "#Verifiez si il y a des valeurs 'nulls'\n",
    "invest_govt.isnull().sum()"
   ]
  },
  {
   "cell_type": "code",
   "execution_count": 89,
   "id": "0a84e98c",
   "metadata": {},
   "outputs": [
    {
     "data": {
      "text/plain": [
       "Domaine      1\n",
       "Zone       160\n",
       "Élément      1\n",
       "Produit      1\n",
       "Année        1\n",
       "Unité        1\n",
       "Valeur     159\n",
       "dtype: int64"
      ]
     },
     "execution_count": 89,
     "metadata": {},
     "output_type": "execute_result"
    }
   ],
   "source": [
    "#Trouvez les colonnes où il y a seulement une valeur\n",
    "invest_govt.nunique()"
   ]
  },
  {
   "cell_type": "code",
   "execution_count": 90,
   "id": "034dbb38",
   "metadata": {},
   "outputs": [],
   "source": [
    "#Supprimez les colonnes inutiles pour l'analyse\n",
    "invest_govt = invest_govt.drop(columns=['Domaine', 'Élément', 'Produit', 'Année', 'Unité'])"
   ]
  },
  {
   "cell_type": "code",
   "execution_count": 91,
   "id": "ae7d04cc",
   "metadata": {},
   "outputs": [],
   "source": [
    "#Renommez la colonne 'Valeur'\n",
    "invest_govt = invest_govt.rename(columns={'Valeur':\"Investissements de l'administration centrale dans l’agriculture, sylviculture et peche (US$)\"})\n",
    "\n",
    "#Multipliez la colonne par un million\n",
    "invest_govt[\"Investissements de l'administration centrale dans l’agriculture, sylviculture et peche (US$)\"] = invest_govt[\"Investissements de l'administration centrale dans l’agriculture, sylviculture et peche (US$)\"]*1000000 "
   ]
  },
  {
   "cell_type": "code",
   "execution_count": 92,
   "id": "ed959bec",
   "metadata": {},
   "outputs": [
    {
     "data": {
      "text/html": [
       "<div>\n",
       "<style scoped>\n",
       "    .dataframe tbody tr th:only-of-type {\n",
       "        vertical-align: middle;\n",
       "    }\n",
       "\n",
       "    .dataframe tbody tr th {\n",
       "        vertical-align: top;\n",
       "    }\n",
       "\n",
       "    .dataframe thead th {\n",
       "        text-align: right;\n",
       "    }\n",
       "</style>\n",
       "<table border=\"1\" class=\"dataframe\">\n",
       "  <thead>\n",
       "    <tr style=\"text-align: right;\">\n",
       "      <th></th>\n",
       "      <th>Investissements de l'administration centrale dans l’agriculture, sylviculture et peche (US$)</th>\n",
       "    </tr>\n",
       "  </thead>\n",
       "  <tbody>\n",
       "    <tr>\n",
       "      <th>count</th>\n",
       "      <td>1.600000e+02</td>\n",
       "    </tr>\n",
       "    <tr>\n",
       "      <th>mean</th>\n",
       "      <td>9.984178e+08</td>\n",
       "    </tr>\n",
       "    <tr>\n",
       "      <th>std</th>\n",
       "      <td>2.788989e+09</td>\n",
       "    </tr>\n",
       "    <tr>\n",
       "      <th>min</th>\n",
       "      <td>0.000000e+00</td>\n",
       "    </tr>\n",
       "    <tr>\n",
       "      <th>25%</th>\n",
       "      <td>3.507750e+07</td>\n",
       "    </tr>\n",
       "    <tr>\n",
       "      <th>50%</th>\n",
       "      <td>1.623000e+08</td>\n",
       "    </tr>\n",
       "    <tr>\n",
       "      <th>75%</th>\n",
       "      <td>6.291350e+08</td>\n",
       "    </tr>\n",
       "    <tr>\n",
       "      <th>max</th>\n",
       "      <td>2.200000e+10</td>\n",
       "    </tr>\n",
       "  </tbody>\n",
       "</table>\n",
       "</div>"
      ],
      "text/plain": [
       "       Investissements de l'administration centrale dans l’agriculture, sylviculture et peche (US$)\n",
       "count                                       1.600000e+02                                           \n",
       "mean                                        9.984178e+08                                           \n",
       "std                                         2.788989e+09                                           \n",
       "min                                         0.000000e+00                                           \n",
       "25%                                         3.507750e+07                                           \n",
       "50%                                         1.623000e+08                                           \n",
       "75%                                         6.291350e+08                                           \n",
       "max                                         2.200000e+10                                           "
      ]
     },
     "execution_count": 92,
     "metadata": {},
     "output_type": "execute_result"
    }
   ],
   "source": [
    "#Verifiez s'il y a des outliers\n",
    "invest_govt.describe()"
   ]
  },
  {
   "cell_type": "code",
   "execution_count": 93,
   "id": "6c10f99c",
   "metadata": {},
   "outputs": [
    {
     "name": "stdout",
     "output_type": "stream",
     "text": [
      "Shape du fichier 'invest_govt' -  (160, 2)\n",
      "-----\n",
      "Nombre de lignes unique dans la colonne 'Zone' -  160\n"
     ]
    }
   ],
   "source": [
    "#Verifiez que 'Zone' peut être utilisé comme la clé primaire\n",
    "print(\"Shape du fichier 'invest_govt' - \", invest_govt.shape)\n",
    "print('-----')\n",
    "print(\"Nombre de lignes unique dans la colonne 'Zone' - \", invest_govt['Zone'].nunique())"
   ]
  },
  {
   "cell_type": "code",
   "execution_count": 94,
   "id": "83ee25a7",
   "metadata": {},
   "outputs": [],
   "source": [
    "#Joignez les fichiers\n",
    "analyse = pd.merge(dispoAlimentaire_PIB_stabpol_crédit_émissions, invest_govt, on='Zone', how='left')"
   ]
  },
  {
   "cell_type": "code",
   "execution_count": 95,
   "id": "5cb92b2b",
   "metadata": {},
   "outputs": [],
   "source": [
    "# Mettre à jour le chiffre par habitant\n",
    "analyse[\"Investissements de l'administration centrale dans l’agriculture, sylviculture et peche par habitant (US$)\"] = analyse[\"Investissements de l'administration centrale dans l’agriculture, sylviculture et peche (US$)\"]/analyse[\"Population\"]  \n",
    "#Supprimez la colonne avec l'investissement total et 'Population'\n",
    "analyse = analyse.drop(columns=[\"Population\", \"Investissements de l'administration centrale dans l’agriculture, sylviculture et peche (US$)\"])"
   ]
  },
  {
   "cell_type": "markdown",
   "id": "05d9542c",
   "metadata": {},
   "source": [
    "## Analyse exploratoire du fichier 'analyse'"
   ]
  },
  {
   "cell_type": "code",
   "execution_count": 96,
   "id": "7fcb33b3",
   "metadata": {},
   "outputs": [
    {
     "name": "stdout",
     "output_type": "stream",
     "text": [
      "Le tableau comporte 172 observation(s) ou article(s)\n",
      "Le tableau comporte 7 colonne(s)\n"
     ]
    }
   ],
   "source": [
    "# Afficher les dimensions du dataset\n",
    "print(\"Le tableau comporte {} observation(s) ou article(s)\".format(analyse.shape[0]))\n",
    "print(\"Le tableau comporte {} colonne(s)\".format(analyse.shape[1]))"
   ]
  },
  {
   "cell_type": "code",
   "execution_count": 97,
   "id": "a86a4d7c",
   "metadata": {},
   "outputs": [
    {
     "data": {
      "text/html": [
       "<div>\n",
       "<style scoped>\n",
       "    .dataframe tbody tr th:only-of-type {\n",
       "        vertical-align: middle;\n",
       "    }\n",
       "\n",
       "    .dataframe tbody tr th {\n",
       "        vertical-align: top;\n",
       "    }\n",
       "\n",
       "    .dataframe thead th {\n",
       "        text-align: right;\n",
       "    }\n",
       "</style>\n",
       "<table border=\"1\" class=\"dataframe\">\n",
       "  <thead>\n",
       "    <tr style=\"text-align: right;\">\n",
       "      <th></th>\n",
       "      <th>Zone</th>\n",
       "      <th>Viande de volaille - Disponibilité alimentaire en quantité (kg/personne/an)</th>\n",
       "      <th>PIB (US$) par habitant</th>\n",
       "      <th>Stabilité Politique</th>\n",
       "      <th>Crédit à l'Agriculture, Sylviculture et Pêche par habitant - (US$)</th>\n",
       "      <th>Viande, poulet – Intensité des émissions (Kilogrammes d'équivalent CO2 par kilogramme)</th>\n",
       "      <th>Investissements de l'administration centrale dans l’agriculture, sylviculture et peche par habitant (US$)</th>\n",
       "    </tr>\n",
       "  </thead>\n",
       "  <tbody>\n",
       "    <tr>\n",
       "      <th>0</th>\n",
       "      <td>Afghanistan</td>\n",
       "      <td>1.53</td>\n",
       "      <td>520.616409</td>\n",
       "      <td>-2.80</td>\n",
       "      <td>0.705963</td>\n",
       "      <td>0.3632</td>\n",
       "      <td>7.946305</td>\n",
       "    </tr>\n",
       "    <tr>\n",
       "      <th>1</th>\n",
       "      <td>Afrique du Sud</td>\n",
       "      <td>35.69</td>\n",
       "      <td>6680.460869</td>\n",
       "      <td>-0.28</td>\n",
       "      <td>NaN</td>\n",
       "      <td>0.3164</td>\n",
       "      <td>16.201964</td>\n",
       "    </tr>\n",
       "    <tr>\n",
       "      <th>2</th>\n",
       "      <td>Albanie</td>\n",
       "      <td>16.36</td>\n",
       "      <td>4514.204908</td>\n",
       "      <td>0.38</td>\n",
       "      <td>15.603914</td>\n",
       "      <td>0.8127</td>\n",
       "      <td>23.757276</td>\n",
       "    </tr>\n",
       "    <tr>\n",
       "      <th>3</th>\n",
       "      <td>Algérie</td>\n",
       "      <td>6.38</td>\n",
       "      <td>4109.696067</td>\n",
       "      <td>-0.92</td>\n",
       "      <td>NaN</td>\n",
       "      <td>1.7491</td>\n",
       "      <td>46.581246</td>\n",
       "    </tr>\n",
       "    <tr>\n",
       "      <th>4</th>\n",
       "      <td>Allemagne</td>\n",
       "      <td>19.47</td>\n",
       "      <td>44651.829102</td>\n",
       "      <td>0.59</td>\n",
       "      <td>685.475196</td>\n",
       "      <td>0.4118</td>\n",
       "      <td>NaN</td>\n",
       "    </tr>\n",
       "  </tbody>\n",
       "</table>\n",
       "</div>"
      ],
      "text/plain": [
       "             Zone  \\\n",
       "0     Afghanistan   \n",
       "1  Afrique du Sud   \n",
       "2         Albanie   \n",
       "3         Algérie   \n",
       "4       Allemagne   \n",
       "\n",
       "   Viande de volaille - Disponibilité alimentaire en quantité (kg/personne/an)  \\\n",
       "0                                               1.53                             \n",
       "1                                              35.69                             \n",
       "2                                              16.36                             \n",
       "3                                               6.38                             \n",
       "4                                              19.47                             \n",
       "\n",
       "   PIB (US$) par habitant  Stabilité Politique  \\\n",
       "0              520.616409                -2.80   \n",
       "1             6680.460869                -0.28   \n",
       "2             4514.204908                 0.38   \n",
       "3             4109.696067                -0.92   \n",
       "4            44651.829102                 0.59   \n",
       "\n",
       "   Crédit à l'Agriculture, Sylviculture et Pêche par habitant - (US$)  \\\n",
       "0                                           0.705963                    \n",
       "1                                                NaN                    \n",
       "2                                          15.603914                    \n",
       "3                                                NaN                    \n",
       "4                                         685.475196                    \n",
       "\n",
       "   Viande, poulet – Intensité des émissions (Kilogrammes d'équivalent CO2 par kilogramme)  \\\n",
       "0                                             0.3632                                        \n",
       "1                                             0.3164                                        \n",
       "2                                             0.8127                                        \n",
       "3                                             1.7491                                        \n",
       "4                                             0.4118                                        \n",
       "\n",
       "   Investissements de l'administration centrale dans l’agriculture, sylviculture et peche par habitant (US$)  \n",
       "0                                           7.946305                                                          \n",
       "1                                          16.201964                                                          \n",
       "2                                          23.757276                                                          \n",
       "3                                          46.581246                                                          \n",
       "4                                                NaN                                                          "
      ]
     },
     "execution_count": 97,
     "metadata": {},
     "output_type": "execute_result"
    }
   ],
   "source": [
    "# Afficher les 5 premières lignes de la table\n",
    "analyse.head()"
   ]
  },
  {
   "cell_type": "code",
   "execution_count": 98,
   "id": "02350f80",
   "metadata": {},
   "outputs": [
    {
     "data": {
      "text/plain": [
       "Zone                                                                                                          0\n",
       "Viande de volaille - Disponibilité alimentaire en quantité (kg/personne/an)                                   0\n",
       "PIB (US$) par habitant                                                                                        1\n",
       "Stabilité Politique                                                                                           4\n",
       "Crédit à l'Agriculture, Sylviculture et Pêche par habitant - (US$)                                           62\n",
       "Viande, poulet – Intensité des émissions (Kilogrammes d'équivalent CO2 par kilogramme)                        4\n",
       "Investissements de l'administration centrale dans l’agriculture, sylviculture et peche par habitant (US$)    29\n",
       "dtype: int64"
      ]
     },
     "execution_count": 98,
     "metadata": {},
     "output_type": "execute_result"
    }
   ],
   "source": [
    "#Trouver des valeurs nulls\n",
    "analyse.isnull().sum()"
   ]
  },
  {
   "cell_type": "markdown",
   "id": "d42fbdee",
   "metadata": {},
   "source": [
    "- Le premier fois que j'ai fais ça, j'ai trouvé que pour le Pays-Bas (dans la colonne 'Zone'), la FAO utilise deux manières différentes d'écrire le nom (Pays-Bas et Pays-Bas (Royaume des)). J'ai mis à jour les noms dans les fichiers précédentes pour dire Pays-Bas."
   ]
  },
  {
   "cell_type": "code",
   "execution_count": 99,
   "id": "a9b367e0",
   "metadata": {},
   "outputs": [
    {
     "data": {
      "text/html": [
       "<div>\n",
       "<style scoped>\n",
       "    .dataframe tbody tr th:only-of-type {\n",
       "        vertical-align: middle;\n",
       "    }\n",
       "\n",
       "    .dataframe tbody tr th {\n",
       "        vertical-align: top;\n",
       "    }\n",
       "\n",
       "    .dataframe thead th {\n",
       "        text-align: right;\n",
       "    }\n",
       "</style>\n",
       "<table border=\"1\" class=\"dataframe\">\n",
       "  <thead>\n",
       "    <tr style=\"text-align: right;\">\n",
       "      <th></th>\n",
       "      <th>Zone</th>\n",
       "      <th>Viande de volaille - Disponibilité alimentaire en quantité (kg/personne/an)</th>\n",
       "      <th>PIB (US$) par habitant</th>\n",
       "      <th>Stabilité Politique</th>\n",
       "      <th>Crédit à l'Agriculture, Sylviculture et Pêche par habitant - (US$)</th>\n",
       "      <th>Viande, poulet – Intensité des émissions (Kilogrammes d'équivalent CO2 par kilogramme)</th>\n",
       "      <th>Investissements de l'administration centrale dans l’agriculture, sylviculture et peche par habitant (US$)</th>\n",
       "    </tr>\n",
       "  </thead>\n",
       "  <tbody>\n",
       "    <tr>\n",
       "      <th>33</th>\n",
       "      <td>Chine, Taiwan Province de</td>\n",
       "      <td>33.17</td>\n",
       "      <td>NaN</td>\n",
       "      <td>NaN</td>\n",
       "      <td>NaN</td>\n",
       "      <td>0.3723</td>\n",
       "      <td>NaN</td>\n",
       "    </tr>\n",
       "  </tbody>\n",
       "</table>\n",
       "</div>"
      ],
      "text/plain": [
       "                         Zone  \\\n",
       "33  Chine, Taiwan Province de   \n",
       "\n",
       "    Viande de volaille - Disponibilité alimentaire en quantité (kg/personne/an)  \\\n",
       "33                                              33.17                             \n",
       "\n",
       "    PIB (US$) par habitant  Stabilité Politique  \\\n",
       "33                     NaN                  NaN   \n",
       "\n",
       "    Crédit à l'Agriculture, Sylviculture et Pêche par habitant - (US$)  \\\n",
       "33                                                NaN                    \n",
       "\n",
       "    Viande, poulet – Intensité des émissions (Kilogrammes d'équivalent CO2 par kilogramme)  \\\n",
       "33                                             0.3723                                        \n",
       "\n",
       "    Investissements de l'administration centrale dans l’agriculture, sylviculture et peche par habitant (US$)  \n",
       "33                                                NaN                                                          "
      ]
     },
     "execution_count": 99,
     "metadata": {},
     "output_type": "execute_result"
    }
   ],
   "source": [
    "#Trouver la valeur null pour 'PIB (US$) par habitant'\n",
    "analyse.loc[analyse['PIB (US$) par habitant'].isnull()]"
   ]
  },
  {
   "cell_type": "markdown",
   "id": "914a16e5",
   "metadata": {},
   "source": [
    "Les données sur le PIB de Taiwan sont manquantes dans les ensembles de données de la FAO, j'ai donc utilisé celles du FMI. https://www.imf.org/external/datamapper/NGDPD@WEO/TWN?zoom=TWN&highlight=TWN\n",
    "\n",
    "Selon eux, le PIB de Taiwan en 2017 était de 590,733 milliards de dollars. Cela signifie que leur PIB par habitant est de 24 952,24 USD."
   ]
  },
  {
   "cell_type": "code",
   "execution_count": 100,
   "id": "5476d1e4",
   "metadata": {},
   "outputs": [],
   "source": [
    "#Mettre à jour le PIB de Taiwan par habitant\n",
    "analyse.loc[analyse[\"Zone\"]== 'Chine, Taiwan Province de', 'PIB (US$) par habitant']=24952.24"
   ]
  },
  {
   "cell_type": "code",
   "execution_count": 101,
   "id": "e5682e6e",
   "metadata": {},
   "outputs": [
    {
     "data": {
      "text/html": [
       "<div>\n",
       "<style scoped>\n",
       "    .dataframe tbody tr th:only-of-type {\n",
       "        vertical-align: middle;\n",
       "    }\n",
       "\n",
       "    .dataframe tbody tr th {\n",
       "        vertical-align: top;\n",
       "    }\n",
       "\n",
       "    .dataframe thead th {\n",
       "        text-align: right;\n",
       "    }\n",
       "</style>\n",
       "<table border=\"1\" class=\"dataframe\">\n",
       "  <thead>\n",
       "    <tr style=\"text-align: right;\">\n",
       "      <th></th>\n",
       "      <th>Zone</th>\n",
       "      <th>Viande de volaille - Disponibilité alimentaire en quantité (kg/personne/an)</th>\n",
       "      <th>PIB (US$) par habitant</th>\n",
       "      <th>Stabilité Politique</th>\n",
       "      <th>Crédit à l'Agriculture, Sylviculture et Pêche par habitant - (US$)</th>\n",
       "      <th>Viande, poulet – Intensité des émissions (Kilogrammes d'équivalent CO2 par kilogramme)</th>\n",
       "      <th>Investissements de l'administration centrale dans l’agriculture, sylviculture et peche par habitant (US$)</th>\n",
       "    </tr>\n",
       "  </thead>\n",
       "  <tbody>\n",
       "    <tr>\n",
       "      <th>33</th>\n",
       "      <td>Chine, Taiwan Province de</td>\n",
       "      <td>33.17</td>\n",
       "      <td>24952.240000</td>\n",
       "      <td>NaN</td>\n",
       "      <td>NaN</td>\n",
       "      <td>0.3723</td>\n",
       "      <td>NaN</td>\n",
       "    </tr>\n",
       "    <tr>\n",
       "      <th>34</th>\n",
       "      <td>Chine, continentale</td>\n",
       "      <td>12.33</td>\n",
       "      <td>8663.126784</td>\n",
       "      <td>NaN</td>\n",
       "      <td>127.901576</td>\n",
       "      <td>0.5614</td>\n",
       "      <td>7.379373</td>\n",
       "    </tr>\n",
       "    <tr>\n",
       "      <th>108</th>\n",
       "      <td>Nouvelle-Calédonie</td>\n",
       "      <td>38.71</td>\n",
       "      <td>33101.384337</td>\n",
       "      <td>NaN</td>\n",
       "      <td>NaN</td>\n",
       "      <td>1.5299</td>\n",
       "      <td>139.635576</td>\n",
       "    </tr>\n",
       "    <tr>\n",
       "      <th>120</th>\n",
       "      <td>Polynésie française</td>\n",
       "      <td>47.40</td>\n",
       "      <td>21127.527812</td>\n",
       "      <td>NaN</td>\n",
       "      <td>NaN</td>\n",
       "      <td>0.9671</td>\n",
       "      <td>NaN</td>\n",
       "    </tr>\n",
       "  </tbody>\n",
       "</table>\n",
       "</div>"
      ],
      "text/plain": [
       "                          Zone  \\\n",
       "33   Chine, Taiwan Province de   \n",
       "34         Chine, continentale   \n",
       "108         Nouvelle-Calédonie   \n",
       "120        Polynésie française   \n",
       "\n",
       "     Viande de volaille - Disponibilité alimentaire en quantité (kg/personne/an)  \\\n",
       "33                                               33.17                             \n",
       "34                                               12.33                             \n",
       "108                                              38.71                             \n",
       "120                                              47.40                             \n",
       "\n",
       "     PIB (US$) par habitant  Stabilité Politique  \\\n",
       "33             24952.240000                  NaN   \n",
       "34              8663.126784                  NaN   \n",
       "108            33101.384337                  NaN   \n",
       "120            21127.527812                  NaN   \n",
       "\n",
       "     Crédit à l'Agriculture, Sylviculture et Pêche par habitant - (US$)  \\\n",
       "33                                                 NaN                    \n",
       "34                                          127.901576                    \n",
       "108                                                NaN                    \n",
       "120                                                NaN                    \n",
       "\n",
       "     Viande, poulet – Intensité des émissions (Kilogrammes d'équivalent CO2 par kilogramme)  \\\n",
       "33                                              0.3723                                        \n",
       "34                                              0.5614                                        \n",
       "108                                             1.5299                                        \n",
       "120                                             0.9671                                        \n",
       "\n",
       "     Investissements de l'administration centrale dans l’agriculture, sylviculture et peche par habitant (US$)  \n",
       "33                                                 NaN                                                          \n",
       "34                                            7.379373                                                          \n",
       "108                                         139.635576                                                          \n",
       "120                                                NaN                                                          "
      ]
     },
     "execution_count": 101,
     "metadata": {},
     "output_type": "execute_result"
    }
   ],
   "source": [
    "#Trouver les valeurs nulls pour 'Stabilité Politique'\n",
    "analyse.loc[analyse['Stabilité Politique'].isnull()]"
   ]
  },
  {
   "cell_type": "markdown",
   "id": "220aa66a",
   "metadata": {},
   "source": [
    "- Les données sur la stabilité politique de la Chine, de Taiwan, de la Nouvelle-Calédonie et de la Polynésie française sont manquantes dans l'ensemble de données de la FAO. \n",
    "\n",
    "- J'ai découvert que la Banque Mondiale évalue la stabilité politique de la Chine et de Taiwan à -0,2 et 0,9 respectivement, je vais donc mettre à jour ces points de données. https://databank.worldbank.org/source/worldwide-governance-indicators/Series/PV.EST#\n",
    "\n",
    "- La Nouvelle-Calédonie et la Polynésie française sont considérées comme la France Outre-Mer. Parce que ni la FAO, ni la Banque Mondiale ne disposent de chiffres sur leur stabilité politique, j'utiliserai celui de la France (0.28)."
   ]
  },
  {
   "cell_type": "code",
   "execution_count": 102,
   "id": "c9e9dff1",
   "metadata": {},
   "outputs": [],
   "source": [
    "# Ajouter les valeurs imputées\n",
    "analyse.loc[analyse['Zone']=='Chine, Taiwan Province de', 'Stabilité Politique']=0.9\n",
    "analyse.loc[analyse['Zone']=='Chine, continentale', 'Stabilité Politique']=-0.2\n",
    "\n",
    "analyse.loc[analyse['Zone']=='Nouvelle-Calédonie', 'Stabilité Politique']=0.28\n",
    "analyse.loc[analyse['Zone']=='Polynésie française', 'Stabilité Politique']=0.28"
   ]
  },
  {
   "cell_type": "code",
   "execution_count": 103,
   "id": "76976dcd",
   "metadata": {},
   "outputs": [
    {
     "data": {
      "text/html": [
       "<div>\n",
       "<style scoped>\n",
       "    .dataframe tbody tr th:only-of-type {\n",
       "        vertical-align: middle;\n",
       "    }\n",
       "\n",
       "    .dataframe tbody tr th {\n",
       "        vertical-align: top;\n",
       "    }\n",
       "\n",
       "    .dataframe thead th {\n",
       "        text-align: right;\n",
       "    }\n",
       "</style>\n",
       "<table border=\"1\" class=\"dataframe\">\n",
       "  <thead>\n",
       "    <tr style=\"text-align: right;\">\n",
       "      <th></th>\n",
       "      <th>Zone</th>\n",
       "      <th>Viande de volaille - Disponibilité alimentaire en quantité (kg/personne/an)</th>\n",
       "      <th>PIB (US$) par habitant</th>\n",
       "      <th>Stabilité Politique</th>\n",
       "      <th>Crédit à l'Agriculture, Sylviculture et Pêche par habitant - (US$)</th>\n",
       "      <th>Viande, poulet – Intensité des émissions (Kilogrammes d'équivalent CO2 par kilogramme)</th>\n",
       "      <th>Investissements de l'administration centrale dans l’agriculture, sylviculture et peche par habitant (US$)</th>\n",
       "    </tr>\n",
       "  </thead>\n",
       "  <tbody>\n",
       "    <tr>\n",
       "      <th>1</th>\n",
       "      <td>Afrique du Sud</td>\n",
       "      <td>35.69</td>\n",
       "      <td>6680.460869</td>\n",
       "      <td>-0.28</td>\n",
       "      <td>NaN</td>\n",
       "      <td>0.3164</td>\n",
       "      <td>16.201964</td>\n",
       "    </tr>\n",
       "    <tr>\n",
       "      <th>3</th>\n",
       "      <td>Algérie</td>\n",
       "      <td>6.38</td>\n",
       "      <td>4109.696067</td>\n",
       "      <td>-0.92</td>\n",
       "      <td>NaN</td>\n",
       "      <td>1.7491</td>\n",
       "      <td>46.581246</td>\n",
       "    </tr>\n",
       "    <tr>\n",
       "      <th>7</th>\n",
       "      <td>Arabie saoudite</td>\n",
       "      <td>43.36</td>\n",
       "      <td>20802.464299</td>\n",
       "      <td>-0.64</td>\n",
       "      <td>NaN</td>\n",
       "      <td>1.0047</td>\n",
       "      <td>40.207933</td>\n",
       "    </tr>\n",
       "    <tr>\n",
       "      <th>13</th>\n",
       "      <td>Bahamas</td>\n",
       "      <td>43.17</td>\n",
       "      <td>32370.499404</td>\n",
       "      <td>0.99</td>\n",
       "      <td>NaN</td>\n",
       "      <td>1.7532</td>\n",
       "      <td>74.995743</td>\n",
       "    </tr>\n",
       "    <tr>\n",
       "      <th>26</th>\n",
       "      <td>Cabo Verde</td>\n",
       "      <td>17.62</td>\n",
       "      <td>3292.638358</td>\n",
       "      <td>0.77</td>\n",
       "      <td>NaN</td>\n",
       "      <td>3.1095</td>\n",
       "      <td>24.502417</td>\n",
       "    </tr>\n",
       "    <tr>\n",
       "      <th>28</th>\n",
       "      <td>Cameroun</td>\n",
       "      <td>3.16</td>\n",
       "      <td>1469.447195</td>\n",
       "      <td>-1.10</td>\n",
       "      <td>NaN</td>\n",
       "      <td>2.4637</td>\n",
       "      <td>8.131947</td>\n",
       "    </tr>\n",
       "    <tr>\n",
       "      <th>30</th>\n",
       "      <td>Chili</td>\n",
       "      <td>36.36</td>\n",
       "      <td>14998.813979</td>\n",
       "      <td>0.42</td>\n",
       "      <td>NaN</td>\n",
       "      <td>0.5437</td>\n",
       "      <td>57.198965</td>\n",
       "    </tr>\n",
       "    <tr>\n",
       "      <th>31</th>\n",
       "      <td>Chine - RAS de Hong-Kong</td>\n",
       "      <td>53.51</td>\n",
       "      <td>46709.014466</td>\n",
       "      <td>0.83</td>\n",
       "      <td>NaN</td>\n",
       "      <td>0.6639</td>\n",
       "      <td>NaN</td>\n",
       "    </tr>\n",
       "    <tr>\n",
       "      <th>32</th>\n",
       "      <td>Chine - RAS de Macao</td>\n",
       "      <td>34.47</td>\n",
       "      <td>81018.552734</td>\n",
       "      <td>1.43</td>\n",
       "      <td>NaN</td>\n",
       "      <td>0.7279</td>\n",
       "      <td>NaN</td>\n",
       "    </tr>\n",
       "    <tr>\n",
       "      <th>33</th>\n",
       "      <td>Chine, Taiwan Province de</td>\n",
       "      <td>33.17</td>\n",
       "      <td>24952.240000</td>\n",
       "      <td>0.90</td>\n",
       "      <td>NaN</td>\n",
       "      <td>0.3723</td>\n",
       "      <td>NaN</td>\n",
       "    </tr>\n",
       "    <tr>\n",
       "      <th>35</th>\n",
       "      <td>Chypre</td>\n",
       "      <td>25.08</td>\n",
       "      <td>19451.524847</td>\n",
       "      <td>0.54</td>\n",
       "      <td>NaN</td>\n",
       "      <td>0.3011</td>\n",
       "      <td>105.054091</td>\n",
       "    </tr>\n",
       "    <tr>\n",
       "      <th>36</th>\n",
       "      <td>Colombie</td>\n",
       "      <td>31.99</td>\n",
       "      <td>6376.707362</td>\n",
       "      <td>-0.77</td>\n",
       "      <td>NaN</td>\n",
       "      <td>0.2640</td>\n",
       "      <td>13.549830</td>\n",
       "    </tr>\n",
       "    <tr>\n",
       "      <th>37</th>\n",
       "      <td>Congo</td>\n",
       "      <td>21.53</td>\n",
       "      <td>2170.903026</td>\n",
       "      <td>-0.53</td>\n",
       "      <td>NaN</td>\n",
       "      <td>1.4573</td>\n",
       "      <td>5.081501</td>\n",
       "    </tr>\n",
       "    <tr>\n",
       "      <th>39</th>\n",
       "      <td>Croatie</td>\n",
       "      <td>10.77</td>\n",
       "      <td>13465.399460</td>\n",
       "      <td>0.69</td>\n",
       "      <td>NaN</td>\n",
       "      <td>0.4223</td>\n",
       "      <td>86.209019</td>\n",
       "    </tr>\n",
       "    <tr>\n",
       "      <th>40</th>\n",
       "      <td>Cuba</td>\n",
       "      <td>23.72</td>\n",
       "      <td>8541.214440</td>\n",
       "      <td>0.65</td>\n",
       "      <td>NaN</td>\n",
       "      <td>1.9028</td>\n",
       "      <td>267.514953</td>\n",
       "    </tr>\n",
       "    <tr>\n",
       "      <th>42</th>\n",
       "      <td>Danemark</td>\n",
       "      <td>28.98</td>\n",
       "      <td>57938.797728</td>\n",
       "      <td>0.87</td>\n",
       "      <td>NaN</td>\n",
       "      <td>0.3346</td>\n",
       "      <td>88.191876</td>\n",
       "    </tr>\n",
       "    <tr>\n",
       "      <th>43</th>\n",
       "      <td>Djibouti</td>\n",
       "      <td>2.68</td>\n",
       "      <td>2930.696963</td>\n",
       "      <td>-0.74</td>\n",
       "      <td>NaN</td>\n",
       "      <td>NaN</td>\n",
       "      <td>NaN</td>\n",
       "    </tr>\n",
       "    <tr>\n",
       "      <th>48</th>\n",
       "      <td>Eswatini</td>\n",
       "      <td>6.46</td>\n",
       "      <td>3913.145928</td>\n",
       "      <td>-0.27</td>\n",
       "      <td>NaN</td>\n",
       "      <td>2.3923</td>\n",
       "      <td>23.124008</td>\n",
       "    </tr>\n",
       "    <tr>\n",
       "      <th>49</th>\n",
       "      <td>Fidji</td>\n",
       "      <td>28.02</td>\n",
       "      <td>6101.130429</td>\n",
       "      <td>0.62</td>\n",
       "      <td>NaN</td>\n",
       "      <td>0.5041</td>\n",
       "      <td>29.391687</td>\n",
       "    </tr>\n",
       "    <tr>\n",
       "      <th>53</th>\n",
       "      <td>Gabon</td>\n",
       "      <td>29.33</td>\n",
       "      <td>7230.472774</td>\n",
       "      <td>-0.10</td>\n",
       "      <td>NaN</td>\n",
       "      <td>2.6434</td>\n",
       "      <td>3.622587</td>\n",
       "    </tr>\n",
       "    <tr>\n",
       "      <th>59</th>\n",
       "      <td>Guinée</td>\n",
       "      <td>4.08</td>\n",
       "      <td>855.575057</td>\n",
       "      <td>-0.70</td>\n",
       "      <td>NaN</td>\n",
       "      <td>6.7434</td>\n",
       "      <td>2.866372</td>\n",
       "    </tr>\n",
       "    <tr>\n",
       "      <th>63</th>\n",
       "      <td>Haïti</td>\n",
       "      <td>8.91</td>\n",
       "      <td>1387.438826</td>\n",
       "      <td>-0.67</td>\n",
       "      <td>NaN</td>\n",
       "      <td>2.3263</td>\n",
       "      <td>10.514128</td>\n",
       "    </tr>\n",
       "    <tr>\n",
       "      <th>68</th>\n",
       "      <td>Iran (République islamique d')</td>\n",
       "      <td>27.52</td>\n",
       "      <td>6243.780412</td>\n",
       "      <td>-0.93</td>\n",
       "      <td>NaN</td>\n",
       "      <td>1.5437</td>\n",
       "      <td>NaN</td>\n",
       "    </tr>\n",
       "    <tr>\n",
       "      <th>71</th>\n",
       "      <td>Islande</td>\n",
       "      <td>29.95</td>\n",
       "      <td>73949.769215</td>\n",
       "      <td>1.35</td>\n",
       "      <td>NaN</td>\n",
       "      <td>NaN</td>\n",
       "      <td>558.803563</td>\n",
       "    </tr>\n",
       "    <tr>\n",
       "      <th>75</th>\n",
       "      <td>Japon</td>\n",
       "      <td>18.50</td>\n",
       "      <td>38672.407740</td>\n",
       "      <td>1.11</td>\n",
       "      <td>NaN</td>\n",
       "      <td>0.3016</td>\n",
       "      <td>NaN</td>\n",
       "    </tr>\n",
       "    <tr>\n",
       "      <th>80</th>\n",
       "      <td>Kiribati</td>\n",
       "      <td>17.98</td>\n",
       "      <td>1648.434906</td>\n",
       "      <td>0.88</td>\n",
       "      <td>NaN</td>\n",
       "      <td>2.0888</td>\n",
       "      <td>19.096340</td>\n",
       "    </tr>\n",
       "    <tr>\n",
       "      <th>81</th>\n",
       "      <td>Koweït</td>\n",
       "      <td>46.25</td>\n",
       "      <td>29754.607886</td>\n",
       "      <td>-0.05</td>\n",
       "      <td>NaN</td>\n",
       "      <td>3.1206</td>\n",
       "      <td>NaN</td>\n",
       "    </tr>\n",
       "    <tr>\n",
       "      <th>83</th>\n",
       "      <td>Lettonie</td>\n",
       "      <td>20.89</td>\n",
       "      <td>15623.931572</td>\n",
       "      <td>0.46</td>\n",
       "      <td>NaN</td>\n",
       "      <td>NaN</td>\n",
       "      <td>77.510242</td>\n",
       "    </tr>\n",
       "    <tr>\n",
       "      <th>86</th>\n",
       "      <td>Lituanie</td>\n",
       "      <td>28.19</td>\n",
       "      <td>16784.459812</td>\n",
       "      <td>0.78</td>\n",
       "      <td>NaN</td>\n",
       "      <td>0.1783</td>\n",
       "      <td>92.376716</td>\n",
       "    </tr>\n",
       "    <tr>\n",
       "      <th>87</th>\n",
       "      <td>Luxembourg</td>\n",
       "      <td>18.33</td>\n",
       "      <td>111017.182246</td>\n",
       "      <td>1.33</td>\n",
       "      <td>NaN</td>\n",
       "      <td>0.1872</td>\n",
       "      <td>255.038773</td>\n",
       "    </tr>\n",
       "    <tr>\n",
       "      <th>88</th>\n",
       "      <td>Macédoine du Nord</td>\n",
       "      <td>19.73</td>\n",
       "      <td>5430.875559</td>\n",
       "      <td>-0.25</td>\n",
       "      <td>NaN</td>\n",
       "      <td>0.7586</td>\n",
       "      <td>NaN</td>\n",
       "    </tr>\n",
       "    <tr>\n",
       "      <th>89</th>\n",
       "      <td>Madagascar</td>\n",
       "      <td>2.87</td>\n",
       "      <td>515.293303</td>\n",
       "      <td>-0.30</td>\n",
       "      <td>NaN</td>\n",
       "      <td>2.8831</td>\n",
       "      <td>3.097318</td>\n",
       "    </tr>\n",
       "    <tr>\n",
       "      <th>94</th>\n",
       "      <td>Malte</td>\n",
       "      <td>27.17</td>\n",
       "      <td>30791.359251</td>\n",
       "      <td>1.25</td>\n",
       "      <td>NaN</td>\n",
       "      <td>0.6269</td>\n",
       "      <td>115.086098</td>\n",
       "    </tr>\n",
       "    <tr>\n",
       "      <th>96</th>\n",
       "      <td>Maurice</td>\n",
       "      <td>37.93</td>\n",
       "      <td>10845.011343</td>\n",
       "      <td>0.97</td>\n",
       "      <td>NaN</td>\n",
       "      <td>1.1869</td>\n",
       "      <td>55.555599</td>\n",
       "    </tr>\n",
       "    <tr>\n",
       "      <th>97</th>\n",
       "      <td>Mauritanie</td>\n",
       "      <td>5.14</td>\n",
       "      <td>1587.863354</td>\n",
       "      <td>-0.63</td>\n",
       "      <td>NaN</td>\n",
       "      <td>3.0411</td>\n",
       "      <td>NaN</td>\n",
       "    </tr>\n",
       "    <tr>\n",
       "      <th>99</th>\n",
       "      <td>Mongolie</td>\n",
       "      <td>2.77</td>\n",
       "      <td>3687.102316</td>\n",
       "      <td>0.79</td>\n",
       "      <td>NaN</td>\n",
       "      <td>4.0799</td>\n",
       "      <td>13.128712</td>\n",
       "    </tr>\n",
       "    <tr>\n",
       "      <th>100</th>\n",
       "      <td>Monténégro</td>\n",
       "      <td>15.98</td>\n",
       "      <td>7738.844301</td>\n",
       "      <td>-0.06</td>\n",
       "      <td>NaN</td>\n",
       "      <td>0.1240</td>\n",
       "      <td>NaN</td>\n",
       "    </tr>\n",
       "    <tr>\n",
       "      <th>102</th>\n",
       "      <td>Myanmar</td>\n",
       "      <td>30.37</td>\n",
       "      <td>1277.743698</td>\n",
       "      <td>-1.08</td>\n",
       "      <td>NaN</td>\n",
       "      <td>0.5848</td>\n",
       "      <td>6.846623</td>\n",
       "    </tr>\n",
       "    <tr>\n",
       "      <th>107</th>\n",
       "      <td>Norvège</td>\n",
       "      <td>19.05</td>\n",
       "      <td>75220.814442</td>\n",
       "      <td>1.17</td>\n",
       "      <td>NaN</td>\n",
       "      <td>0.4311</td>\n",
       "      <td>444.173942</td>\n",
       "    </tr>\n",
       "    <tr>\n",
       "      <th>108</th>\n",
       "      <td>Nouvelle-Calédonie</td>\n",
       "      <td>38.71</td>\n",
       "      <td>33101.384337</td>\n",
       "      <td>0.28</td>\n",
       "      <td>NaN</td>\n",
       "      <td>1.5299</td>\n",
       "      <td>139.635576</td>\n",
       "    </tr>\n",
       "    <tr>\n",
       "      <th>113</th>\n",
       "      <td>Ouzbékistan</td>\n",
       "      <td>1.96</td>\n",
       "      <td>1942.482490</td>\n",
       "      <td>-0.24</td>\n",
       "      <td>NaN</td>\n",
       "      <td>1.5530</td>\n",
       "      <td>18.597121</td>\n",
       "    </tr>\n",
       "    <tr>\n",
       "      <th>116</th>\n",
       "      <td>Paraguay</td>\n",
       "      <td>5.99</td>\n",
       "      <td>5678.867540</td>\n",
       "      <td>0.00</td>\n",
       "      <td>NaN</td>\n",
       "      <td>0.7192</td>\n",
       "      <td>23.503505</td>\n",
       "    </tr>\n",
       "    <tr>\n",
       "      <th>119</th>\n",
       "      <td>Pologne</td>\n",
       "      <td>30.30</td>\n",
       "      <td>13823.379400</td>\n",
       "      <td>0.52</td>\n",
       "      <td>NaN</td>\n",
       "      <td>0.2999</td>\n",
       "      <td>57.076904</td>\n",
       "    </tr>\n",
       "    <tr>\n",
       "      <th>120</th>\n",
       "      <td>Polynésie française</td>\n",
       "      <td>47.40</td>\n",
       "      <td>21127.527812</td>\n",
       "      <td>0.28</td>\n",
       "      <td>NaN</td>\n",
       "      <td>0.9671</td>\n",
       "      <td>NaN</td>\n",
       "    </tr>\n",
       "    <tr>\n",
       "      <th>121</th>\n",
       "      <td>Portugal</td>\n",
       "      <td>30.58</td>\n",
       "      <td>21515.021025</td>\n",
       "      <td>1.12</td>\n",
       "      <td>NaN</td>\n",
       "      <td>0.0324</td>\n",
       "      <td>44.231793</td>\n",
       "    </tr>\n",
       "    <tr>\n",
       "      <th>122</th>\n",
       "      <td>Pérou</td>\n",
       "      <td>13.47</td>\n",
       "      <td>6710.531503</td>\n",
       "      <td>-0.26</td>\n",
       "      <td>NaN</td>\n",
       "      <td>0.3377</td>\n",
       "      <td>10.406338</td>\n",
       "    </tr>\n",
       "    <tr>\n",
       "      <th>123</th>\n",
       "      <td>Roumanie</td>\n",
       "      <td>19.37</td>\n",
       "      <td>10692.353339</td>\n",
       "      <td>0.06</td>\n",
       "      <td>NaN</td>\n",
       "      <td>0.3132</td>\n",
       "      <td>71.359632</td>\n",
       "    </tr>\n",
       "    <tr>\n",
       "      <th>125</th>\n",
       "      <td>Rwanda</td>\n",
       "      <td>1.49</td>\n",
       "      <td>772.293170</td>\n",
       "      <td>0.09</td>\n",
       "      <td>NaN</td>\n",
       "      <td>0.8534</td>\n",
       "      <td>5.335966</td>\n",
       "    </tr>\n",
       "    <tr>\n",
       "      <th>126</th>\n",
       "      <td>République centrafricaine</td>\n",
       "      <td>2.29</td>\n",
       "      <td>450.900697</td>\n",
       "      <td>-2.01</td>\n",
       "      <td>NaN</td>\n",
       "      <td>4.1073</td>\n",
       "      <td>3.466040</td>\n",
       "    </tr>\n",
       "    <tr>\n",
       "      <th>130</th>\n",
       "      <td>République démocratique populaire lao</td>\n",
       "      <td>10.91</td>\n",
       "      <td>2455.209197</td>\n",
       "      <td>0.40</td>\n",
       "      <td>NaN</td>\n",
       "      <td>4.5412</td>\n",
       "      <td>NaN</td>\n",
       "    </tr>\n",
       "  </tbody>\n",
       "</table>\n",
       "</div>"
      ],
      "text/plain": [
       "                                      Zone  \\\n",
       "1                           Afrique du Sud   \n",
       "3                                  Algérie   \n",
       "7                          Arabie saoudite   \n",
       "13                                 Bahamas   \n",
       "26                              Cabo Verde   \n",
       "28                                Cameroun   \n",
       "30                                   Chili   \n",
       "31                Chine - RAS de Hong-Kong   \n",
       "32                    Chine - RAS de Macao   \n",
       "33               Chine, Taiwan Province de   \n",
       "35                                  Chypre   \n",
       "36                                Colombie   \n",
       "37                                   Congo   \n",
       "39                                 Croatie   \n",
       "40                                    Cuba   \n",
       "42                                Danemark   \n",
       "43                                Djibouti   \n",
       "48                                Eswatini   \n",
       "49                                   Fidji   \n",
       "53                                   Gabon   \n",
       "59                                  Guinée   \n",
       "63                                   Haïti   \n",
       "68          Iran (République islamique d')   \n",
       "71                                 Islande   \n",
       "75                                   Japon   \n",
       "80                                Kiribati   \n",
       "81                                  Koweït   \n",
       "83                                Lettonie   \n",
       "86                                Lituanie   \n",
       "87                              Luxembourg   \n",
       "88                       Macédoine du Nord   \n",
       "89                              Madagascar   \n",
       "94                                   Malte   \n",
       "96                                 Maurice   \n",
       "97                              Mauritanie   \n",
       "99                                Mongolie   \n",
       "100                             Monténégro   \n",
       "102                                Myanmar   \n",
       "107                                Norvège   \n",
       "108                     Nouvelle-Calédonie   \n",
       "113                            Ouzbékistan   \n",
       "116                               Paraguay   \n",
       "119                                Pologne   \n",
       "120                    Polynésie française   \n",
       "121                               Portugal   \n",
       "122                                  Pérou   \n",
       "123                               Roumanie   \n",
       "125                                 Rwanda   \n",
       "126              République centrafricaine   \n",
       "130  République démocratique populaire lao   \n",
       "\n",
       "     Viande de volaille - Disponibilité alimentaire en quantité (kg/personne/an)  \\\n",
       "1                                                35.69                             \n",
       "3                                                 6.38                             \n",
       "7                                                43.36                             \n",
       "13                                               43.17                             \n",
       "26                                               17.62                             \n",
       "28                                                3.16                             \n",
       "30                                               36.36                             \n",
       "31                                               53.51                             \n",
       "32                                               34.47                             \n",
       "33                                               33.17                             \n",
       "35                                               25.08                             \n",
       "36                                               31.99                             \n",
       "37                                               21.53                             \n",
       "39                                               10.77                             \n",
       "40                                               23.72                             \n",
       "42                                               28.98                             \n",
       "43                                                2.68                             \n",
       "48                                                6.46                             \n",
       "49                                               28.02                             \n",
       "53                                               29.33                             \n",
       "59                                                4.08                             \n",
       "63                                                8.91                             \n",
       "68                                               27.52                             \n",
       "71                                               29.95                             \n",
       "75                                               18.50                             \n",
       "80                                               17.98                             \n",
       "81                                               46.25                             \n",
       "83                                               20.89                             \n",
       "86                                               28.19                             \n",
       "87                                               18.33                             \n",
       "88                                               19.73                             \n",
       "89                                                2.87                             \n",
       "94                                               27.17                             \n",
       "96                                               37.93                             \n",
       "97                                                5.14                             \n",
       "99                                                2.77                             \n",
       "100                                              15.98                             \n",
       "102                                              30.37                             \n",
       "107                                              19.05                             \n",
       "108                                              38.71                             \n",
       "113                                               1.96                             \n",
       "116                                               5.99                             \n",
       "119                                              30.30                             \n",
       "120                                              47.40                             \n",
       "121                                              30.58                             \n",
       "122                                              13.47                             \n",
       "123                                              19.37                             \n",
       "125                                               1.49                             \n",
       "126                                               2.29                             \n",
       "130                                              10.91                             \n",
       "\n",
       "     PIB (US$) par habitant  Stabilité Politique  \\\n",
       "1               6680.460869                -0.28   \n",
       "3               4109.696067                -0.92   \n",
       "7              20802.464299                -0.64   \n",
       "13             32370.499404                 0.99   \n",
       "26              3292.638358                 0.77   \n",
       "28              1469.447195                -1.10   \n",
       "30             14998.813979                 0.42   \n",
       "31             46709.014466                 0.83   \n",
       "32             81018.552734                 1.43   \n",
       "33             24952.240000                 0.90   \n",
       "35             19451.524847                 0.54   \n",
       "36              6376.707362                -0.77   \n",
       "37              2170.903026                -0.53   \n",
       "39             13465.399460                 0.69   \n",
       "40              8541.214440                 0.65   \n",
       "42             57938.797728                 0.87   \n",
       "43              2930.696963                -0.74   \n",
       "48              3913.145928                -0.27   \n",
       "49              6101.130429                 0.62   \n",
       "53              7230.472774                -0.10   \n",
       "59               855.575057                -0.70   \n",
       "63              1387.438826                -0.67   \n",
       "68              6243.780412                -0.93   \n",
       "71             73949.769215                 1.35   \n",
       "75             38672.407740                 1.11   \n",
       "80              1648.434906                 0.88   \n",
       "81             29754.607886                -0.05   \n",
       "83             15623.931572                 0.46   \n",
       "86             16784.459812                 0.78   \n",
       "87            111017.182246                 1.33   \n",
       "88              5430.875559                -0.25   \n",
       "89               515.293303                -0.30   \n",
       "94             30791.359251                 1.25   \n",
       "96             10845.011343                 0.97   \n",
       "97              1587.863354                -0.63   \n",
       "99              3687.102316                 0.79   \n",
       "100             7738.844301                -0.06   \n",
       "102             1277.743698                -1.08   \n",
       "107            75220.814442                 1.17   \n",
       "108            33101.384337                 0.28   \n",
       "113             1942.482490                -0.24   \n",
       "116             5678.867540                 0.00   \n",
       "119            13823.379400                 0.52   \n",
       "120            21127.527812                 0.28   \n",
       "121            21515.021025                 1.12   \n",
       "122             6710.531503                -0.26   \n",
       "123            10692.353339                 0.06   \n",
       "125              772.293170                 0.09   \n",
       "126              450.900697                -2.01   \n",
       "130             2455.209197                 0.40   \n",
       "\n",
       "     Crédit à l'Agriculture, Sylviculture et Pêche par habitant - (US$)  \\\n",
       "1                                                  NaN                    \n",
       "3                                                  NaN                    \n",
       "7                                                  NaN                    \n",
       "13                                                 NaN                    \n",
       "26                                                 NaN                    \n",
       "28                                                 NaN                    \n",
       "30                                                 NaN                    \n",
       "31                                                 NaN                    \n",
       "32                                                 NaN                    \n",
       "33                                                 NaN                    \n",
       "35                                                 NaN                    \n",
       "36                                                 NaN                    \n",
       "37                                                 NaN                    \n",
       "39                                                 NaN                    \n",
       "40                                                 NaN                    \n",
       "42                                                 NaN                    \n",
       "43                                                 NaN                    \n",
       "48                                                 NaN                    \n",
       "49                                                 NaN                    \n",
       "53                                                 NaN                    \n",
       "59                                                 NaN                    \n",
       "63                                                 NaN                    \n",
       "68                                                 NaN                    \n",
       "71                                                 NaN                    \n",
       "75                                                 NaN                    \n",
       "80                                                 NaN                    \n",
       "81                                                 NaN                    \n",
       "83                                                 NaN                    \n",
       "86                                                 NaN                    \n",
       "87                                                 NaN                    \n",
       "88                                                 NaN                    \n",
       "89                                                 NaN                    \n",
       "94                                                 NaN                    \n",
       "96                                                 NaN                    \n",
       "97                                                 NaN                    \n",
       "99                                                 NaN                    \n",
       "100                                                NaN                    \n",
       "102                                                NaN                    \n",
       "107                                                NaN                    \n",
       "108                                                NaN                    \n",
       "113                                                NaN                    \n",
       "116                                                NaN                    \n",
       "119                                                NaN                    \n",
       "120                                                NaN                    \n",
       "121                                                NaN                    \n",
       "122                                                NaN                    \n",
       "123                                                NaN                    \n",
       "125                                                NaN                    \n",
       "126                                                NaN                    \n",
       "130                                                NaN                    \n",
       "\n",
       "     Viande, poulet – Intensité des émissions (Kilogrammes d'équivalent CO2 par kilogramme)  \\\n",
       "1                                               0.3164                                        \n",
       "3                                               1.7491                                        \n",
       "7                                               1.0047                                        \n",
       "13                                              1.7532                                        \n",
       "26                                              3.1095                                        \n",
       "28                                              2.4637                                        \n",
       "30                                              0.5437                                        \n",
       "31                                              0.6639                                        \n",
       "32                                              0.7279                                        \n",
       "33                                              0.3723                                        \n",
       "35                                              0.3011                                        \n",
       "36                                              0.2640                                        \n",
       "37                                              1.4573                                        \n",
       "39                                              0.4223                                        \n",
       "40                                              1.9028                                        \n",
       "42                                              0.3346                                        \n",
       "43                                                 NaN                                        \n",
       "48                                              2.3923                                        \n",
       "49                                              0.5041                                        \n",
       "53                                              2.6434                                        \n",
       "59                                              6.7434                                        \n",
       "63                                              2.3263                                        \n",
       "68                                              1.5437                                        \n",
       "71                                                 NaN                                        \n",
       "75                                              0.3016                                        \n",
       "80                                              2.0888                                        \n",
       "81                                              3.1206                                        \n",
       "83                                                 NaN                                        \n",
       "86                                              0.1783                                        \n",
       "87                                              0.1872                                        \n",
       "88                                              0.7586                                        \n",
       "89                                              2.8831                                        \n",
       "94                                              0.6269                                        \n",
       "96                                              1.1869                                        \n",
       "97                                              3.0411                                        \n",
       "99                                              4.0799                                        \n",
       "100                                             0.1240                                        \n",
       "102                                             0.5848                                        \n",
       "107                                             0.4311                                        \n",
       "108                                             1.5299                                        \n",
       "113                                             1.5530                                        \n",
       "116                                             0.7192                                        \n",
       "119                                             0.2999                                        \n",
       "120                                             0.9671                                        \n",
       "121                                             0.0324                                        \n",
       "122                                             0.3377                                        \n",
       "123                                             0.3132                                        \n",
       "125                                             0.8534                                        \n",
       "126                                             4.1073                                        \n",
       "130                                             4.5412                                        \n",
       "\n",
       "     Investissements de l'administration centrale dans l’agriculture, sylviculture et peche par habitant (US$)  \n",
       "1                                            16.201964                                                          \n",
       "3                                            46.581246                                                          \n",
       "7                                            40.207933                                                          \n",
       "13                                           74.995743                                                          \n",
       "26                                           24.502417                                                          \n",
       "28                                            8.131947                                                          \n",
       "30                                           57.198965                                                          \n",
       "31                                                 NaN                                                          \n",
       "32                                                 NaN                                                          \n",
       "33                                                 NaN                                                          \n",
       "35                                          105.054091                                                          \n",
       "36                                           13.549830                                                          \n",
       "37                                            5.081501                                                          \n",
       "39                                           86.209019                                                          \n",
       "40                                          267.514953                                                          \n",
       "42                                           88.191876                                                          \n",
       "43                                                 NaN                                                          \n",
       "48                                           23.124008                                                          \n",
       "49                                           29.391687                                                          \n",
       "53                                            3.622587                                                          \n",
       "59                                            2.866372                                                          \n",
       "63                                           10.514128                                                          \n",
       "68                                                 NaN                                                          \n",
       "71                                          558.803563                                                          \n",
       "75                                                 NaN                                                          \n",
       "80                                           19.096340                                                          \n",
       "81                                                 NaN                                                          \n",
       "83                                           77.510242                                                          \n",
       "86                                           92.376716                                                          \n",
       "87                                          255.038773                                                          \n",
       "88                                                 NaN                                                          \n",
       "89                                            3.097318                                                          \n",
       "94                                          115.086098                                                          \n",
       "96                                           55.555599                                                          \n",
       "97                                                 NaN                                                          \n",
       "99                                           13.128712                                                          \n",
       "100                                                NaN                                                          \n",
       "102                                           6.846623                                                          \n",
       "107                                         444.173942                                                          \n",
       "108                                         139.635576                                                          \n",
       "113                                          18.597121                                                          \n",
       "116                                          23.503505                                                          \n",
       "119                                          57.076904                                                          \n",
       "120                                                NaN                                                          \n",
       "121                                          44.231793                                                          \n",
       "122                                          10.406338                                                          \n",
       "123                                          71.359632                                                          \n",
       "125                                           5.335966                                                          \n",
       "126                                           3.466040                                                          \n",
       "130                                                NaN                                                          "
      ]
     },
     "metadata": {},
     "output_type": "display_data"
    },
    {
     "data": {
      "text/html": [
       "<div>\n",
       "<style scoped>\n",
       "    .dataframe tbody tr th:only-of-type {\n",
       "        vertical-align: middle;\n",
       "    }\n",
       "\n",
       "    .dataframe tbody tr th {\n",
       "        vertical-align: top;\n",
       "    }\n",
       "\n",
       "    .dataframe thead th {\n",
       "        text-align: right;\n",
       "    }\n",
       "</style>\n",
       "<table border=\"1\" class=\"dataframe\">\n",
       "  <thead>\n",
       "    <tr style=\"text-align: right;\">\n",
       "      <th></th>\n",
       "      <th>Zone</th>\n",
       "      <th>Viande de volaille - Disponibilité alimentaire en quantité (kg/personne/an)</th>\n",
       "      <th>PIB (US$) par habitant</th>\n",
       "      <th>Stabilité Politique</th>\n",
       "      <th>Crédit à l'Agriculture, Sylviculture et Pêche par habitant - (US$)</th>\n",
       "      <th>Viande, poulet – Intensité des émissions (Kilogrammes d'équivalent CO2 par kilogramme)</th>\n",
       "      <th>Investissements de l'administration centrale dans l’agriculture, sylviculture et peche par habitant (US$)</th>\n",
       "    </tr>\n",
       "  </thead>\n",
       "  <tbody>\n",
       "    <tr>\n",
       "      <th>131</th>\n",
       "      <td>République populaire démocratique de Corée</td>\n",
       "      <td>1.62</td>\n",
       "      <td>682.848778</td>\n",
       "      <td>-0.50</td>\n",
       "      <td>NaN</td>\n",
       "      <td>0.0050</td>\n",
       "      <td>NaN</td>\n",
       "    </tr>\n",
       "    <tr>\n",
       "      <th>136</th>\n",
       "      <td>Samoa</td>\n",
       "      <td>64.77</td>\n",
       "      <td>4513.361035</td>\n",
       "      <td>1.18</td>\n",
       "      <td>NaN</td>\n",
       "      <td>3.2951</td>\n",
       "      <td>89.735452</td>\n",
       "    </tr>\n",
       "    <tr>\n",
       "      <th>137</th>\n",
       "      <td>Sao Tomé-et-Principe</td>\n",
       "      <td>9.47</td>\n",
       "      <td>1828.194018</td>\n",
       "      <td>0.19</td>\n",
       "      <td>NaN</td>\n",
       "      <td>1.1115</td>\n",
       "      <td>27.814128</td>\n",
       "    </tr>\n",
       "    <tr>\n",
       "      <th>139</th>\n",
       "      <td>Sierra Leone</td>\n",
       "      <td>3.97</td>\n",
       "      <td>499.310896</td>\n",
       "      <td>-0.04</td>\n",
       "      <td>NaN</td>\n",
       "      <td>4.3114</td>\n",
       "      <td>1.977719</td>\n",
       "    </tr>\n",
       "    <tr>\n",
       "      <th>141</th>\n",
       "      <td>Slovénie</td>\n",
       "      <td>24.41</td>\n",
       "      <td>23400.712988</td>\n",
       "      <td>0.87</td>\n",
       "      <td>NaN</td>\n",
       "      <td>0.1055</td>\n",
       "      <td>102.711720</td>\n",
       "    </tr>\n",
       "    <tr>\n",
       "      <th>146</th>\n",
       "      <td>Suède</td>\n",
       "      <td>16.60</td>\n",
       "      <td>54621.345824</td>\n",
       "      <td>0.98</td>\n",
       "      <td>NaN</td>\n",
       "      <td>0.0414</td>\n",
       "      <td>70.374288</td>\n",
       "    </tr>\n",
       "    <tr>\n",
       "      <th>149</th>\n",
       "      <td>Tchad</td>\n",
       "      <td>0.45</td>\n",
       "      <td>888.943263</td>\n",
       "      <td>-1.29</td>\n",
       "      <td>NaN</td>\n",
       "      <td>3.1043</td>\n",
       "      <td>2.432616</td>\n",
       "    </tr>\n",
       "    <tr>\n",
       "      <th>156</th>\n",
       "      <td>Turkménistan</td>\n",
       "      <td>4.52</td>\n",
       "      <td>6985.049565</td>\n",
       "      <td>-0.13</td>\n",
       "      <td>NaN</td>\n",
       "      <td>2.3488</td>\n",
       "      <td>NaN</td>\n",
       "    </tr>\n",
       "    <tr>\n",
       "      <th>161</th>\n",
       "      <td>Venezuela (République bolivarienne du)</td>\n",
       "      <td>20.28</td>\n",
       "      <td>8432.355572</td>\n",
       "      <td>-1.27</td>\n",
       "      <td>NaN</td>\n",
       "      <td>0.9554</td>\n",
       "      <td>NaN</td>\n",
       "    </tr>\n",
       "    <tr>\n",
       "      <th>163</th>\n",
       "      <td>Yémen</td>\n",
       "      <td>8.53</td>\n",
       "      <td>660.742569</td>\n",
       "      <td>-2.94</td>\n",
       "      <td>NaN</td>\n",
       "      <td>1.2851</td>\n",
       "      <td>NaN</td>\n",
       "    </tr>\n",
       "    <tr>\n",
       "      <th>168</th>\n",
       "      <td>Équateur</td>\n",
       "      <td>19.31</td>\n",
       "      <td>6213.501276</td>\n",
       "      <td>-0.07</td>\n",
       "      <td>NaN</td>\n",
       "      <td>1.2486</td>\n",
       "      <td>15.730374</td>\n",
       "    </tr>\n",
       "    <tr>\n",
       "      <th>171</th>\n",
       "      <td>Îles Salomon</td>\n",
       "      <td>4.45</td>\n",
       "      <td>2310.849575</td>\n",
       "      <td>0.20</td>\n",
       "      <td>NaN</td>\n",
       "      <td>1.0375</td>\n",
       "      <td>34.651963</td>\n",
       "    </tr>\n",
       "  </tbody>\n",
       "</table>\n",
       "</div>"
      ],
      "text/plain": [
       "                                           Zone  \\\n",
       "131  République populaire démocratique de Corée   \n",
       "136                                       Samoa   \n",
       "137                        Sao Tomé-et-Principe   \n",
       "139                                Sierra Leone   \n",
       "141                                    Slovénie   \n",
       "146                                       Suède   \n",
       "149                                       Tchad   \n",
       "156                                Turkménistan   \n",
       "161      Venezuela (République bolivarienne du)   \n",
       "163                                       Yémen   \n",
       "168                                    Équateur   \n",
       "171                                Îles Salomon   \n",
       "\n",
       "     Viande de volaille - Disponibilité alimentaire en quantité (kg/personne/an)  \\\n",
       "131                                               1.62                             \n",
       "136                                              64.77                             \n",
       "137                                               9.47                             \n",
       "139                                               3.97                             \n",
       "141                                              24.41                             \n",
       "146                                              16.60                             \n",
       "149                                               0.45                             \n",
       "156                                               4.52                             \n",
       "161                                              20.28                             \n",
       "163                                               8.53                             \n",
       "168                                              19.31                             \n",
       "171                                               4.45                             \n",
       "\n",
       "     PIB (US$) par habitant  Stabilité Politique  \\\n",
       "131              682.848778                -0.50   \n",
       "136             4513.361035                 1.18   \n",
       "137             1828.194018                 0.19   \n",
       "139              499.310896                -0.04   \n",
       "141            23400.712988                 0.87   \n",
       "146            54621.345824                 0.98   \n",
       "149              888.943263                -1.29   \n",
       "156             6985.049565                -0.13   \n",
       "161             8432.355572                -1.27   \n",
       "163              660.742569                -2.94   \n",
       "168             6213.501276                -0.07   \n",
       "171             2310.849575                 0.20   \n",
       "\n",
       "     Crédit à l'Agriculture, Sylviculture et Pêche par habitant - (US$)  \\\n",
       "131                                                NaN                    \n",
       "136                                                NaN                    \n",
       "137                                                NaN                    \n",
       "139                                                NaN                    \n",
       "141                                                NaN                    \n",
       "146                                                NaN                    \n",
       "149                                                NaN                    \n",
       "156                                                NaN                    \n",
       "161                                                NaN                    \n",
       "163                                                NaN                    \n",
       "168                                                NaN                    \n",
       "171                                                NaN                    \n",
       "\n",
       "     Viande, poulet – Intensité des émissions (Kilogrammes d'équivalent CO2 par kilogramme)  \\\n",
       "131                                             0.0050                                        \n",
       "136                                             3.2951                                        \n",
       "137                                             1.1115                                        \n",
       "139                                             4.3114                                        \n",
       "141                                             0.1055                                        \n",
       "146                                             0.0414                                        \n",
       "149                                             3.1043                                        \n",
       "156                                             2.3488                                        \n",
       "161                                             0.9554                                        \n",
       "163                                             1.2851                                        \n",
       "168                                             1.2486                                        \n",
       "171                                             1.0375                                        \n",
       "\n",
       "     Investissements de l'administration centrale dans l’agriculture, sylviculture et peche par habitant (US$)  \n",
       "131                                                NaN                                                          \n",
       "136                                          89.735452                                                          \n",
       "137                                          27.814128                                                          \n",
       "139                                           1.977719                                                          \n",
       "141                                         102.711720                                                          \n",
       "146                                          70.374288                                                          \n",
       "149                                           2.432616                                                          \n",
       "156                                                NaN                                                          \n",
       "161                                                NaN                                                          \n",
       "163                                                NaN                                                          \n",
       "168                                          15.730374                                                          \n",
       "171                                          34.651963                                                          "
      ]
     },
     "metadata": {},
     "output_type": "display_data"
    }
   ],
   "source": [
    "#Trouver les valeurs nulls pour \"Crédit à l'Agriculture, Sylviculture et Pêche par habitant - (US$)\"\n",
    "display(analyse.loc[analyse[\"Crédit à l'Agriculture, Sylviculture et Pêche par habitant - (US$)\"].isnull()].head(50))\n",
    "display(analyse.loc[analyse[\"Crédit à l'Agriculture, Sylviculture et Pêche par habitant - (US$)\"].isnull()].tail(12))"
   ]
  },
  {
   "cell_type": "code",
   "execution_count": 104,
   "id": "de0223ed",
   "metadata": {},
   "outputs": [
    {
     "data": {
      "text/html": [
       "<div>\n",
       "<style scoped>\n",
       "    .dataframe tbody tr th:only-of-type {\n",
       "        vertical-align: middle;\n",
       "    }\n",
       "\n",
       "    .dataframe tbody tr th {\n",
       "        vertical-align: top;\n",
       "    }\n",
       "\n",
       "    .dataframe thead th {\n",
       "        text-align: right;\n",
       "    }\n",
       "</style>\n",
       "<table border=\"1\" class=\"dataframe\">\n",
       "  <thead>\n",
       "    <tr style=\"text-align: right;\">\n",
       "      <th></th>\n",
       "      <th>Zone</th>\n",
       "      <th>Viande de volaille - Disponibilité alimentaire en quantité (kg/personne/an)</th>\n",
       "      <th>PIB (US$) par habitant</th>\n",
       "      <th>Stabilité Politique</th>\n",
       "      <th>Crédit à l'Agriculture, Sylviculture et Pêche par habitant - (US$)</th>\n",
       "      <th>Viande, poulet – Intensité des émissions (Kilogrammes d'équivalent CO2 par kilogramme)</th>\n",
       "      <th>Investissements de l'administration centrale dans l’agriculture, sylviculture et peche par habitant (US$)</th>\n",
       "    </tr>\n",
       "  </thead>\n",
       "  <tbody>\n",
       "    <tr>\n",
       "      <th>4</th>\n",
       "      <td>Allemagne</td>\n",
       "      <td>19.47</td>\n",
       "      <td>44651.829102</td>\n",
       "      <td>0.59</td>\n",
       "      <td>685.475196</td>\n",
       "      <td>0.4118</td>\n",
       "      <td>NaN</td>\n",
       "    </tr>\n",
       "    <tr>\n",
       "      <th>11</th>\n",
       "      <td>Autriche</td>\n",
       "      <td>18.20</td>\n",
       "      <td>47309.051637</td>\n",
       "      <td>1.05</td>\n",
       "      <td>82.485583</td>\n",
       "      <td>0.2569</td>\n",
       "      <td>NaN</td>\n",
       "    </tr>\n",
       "    <tr>\n",
       "      <th>15</th>\n",
       "      <td>Barbade</td>\n",
       "      <td>46.78</td>\n",
       "      <td>17404.023659</td>\n",
       "      <td>0.97</td>\n",
       "      <td>12.715444</td>\n",
       "      <td>0.9308</td>\n",
       "      <td>NaN</td>\n",
       "    </tr>\n",
       "    <tr>\n",
       "      <th>19</th>\n",
       "      <td>Bosnie-Herzégovine</td>\n",
       "      <td>16.70</td>\n",
       "      <td>5394.741461</td>\n",
       "      <td>-0.35</td>\n",
       "      <td>28.458009</td>\n",
       "      <td>0.7141</td>\n",
       "      <td>NaN</td>\n",
       "    </tr>\n",
       "    <tr>\n",
       "      <th>31</th>\n",
       "      <td>Chine - RAS de Hong-Kong</td>\n",
       "      <td>53.51</td>\n",
       "      <td>46709.014466</td>\n",
       "      <td>0.83</td>\n",
       "      <td>NaN</td>\n",
       "      <td>0.6639</td>\n",
       "      <td>NaN</td>\n",
       "    </tr>\n",
       "    <tr>\n",
       "      <th>32</th>\n",
       "      <td>Chine - RAS de Macao</td>\n",
       "      <td>34.47</td>\n",
       "      <td>81018.552734</td>\n",
       "      <td>1.43</td>\n",
       "      <td>NaN</td>\n",
       "      <td>0.7279</td>\n",
       "      <td>NaN</td>\n",
       "    </tr>\n",
       "    <tr>\n",
       "      <th>33</th>\n",
       "      <td>Chine, Taiwan Province de</td>\n",
       "      <td>33.17</td>\n",
       "      <td>24952.240000</td>\n",
       "      <td>0.90</td>\n",
       "      <td>NaN</td>\n",
       "      <td>0.3723</td>\n",
       "      <td>NaN</td>\n",
       "    </tr>\n",
       "    <tr>\n",
       "      <th>43</th>\n",
       "      <td>Djibouti</td>\n",
       "      <td>2.68</td>\n",
       "      <td>2930.696963</td>\n",
       "      <td>-0.74</td>\n",
       "      <td>NaN</td>\n",
       "      <td>NaN</td>\n",
       "      <td>NaN</td>\n",
       "    </tr>\n",
       "    <tr>\n",
       "      <th>68</th>\n",
       "      <td>Iran (République islamique d')</td>\n",
       "      <td>27.52</td>\n",
       "      <td>6243.780412</td>\n",
       "      <td>-0.93</td>\n",
       "      <td>NaN</td>\n",
       "      <td>1.5437</td>\n",
       "      <td>NaN</td>\n",
       "    </tr>\n",
       "    <tr>\n",
       "      <th>69</th>\n",
       "      <td>Iraq</td>\n",
       "      <td>14.95</td>\n",
       "      <td>4985.453728</td>\n",
       "      <td>-2.31</td>\n",
       "      <td>41.985275</td>\n",
       "      <td>1.9320</td>\n",
       "      <td>NaN</td>\n",
       "    </tr>\n",
       "    <tr>\n",
       "      <th>75</th>\n",
       "      <td>Japon</td>\n",
       "      <td>18.50</td>\n",
       "      <td>38672.407740</td>\n",
       "      <td>1.11</td>\n",
       "      <td>NaN</td>\n",
       "      <td>0.3016</td>\n",
       "      <td>NaN</td>\n",
       "    </tr>\n",
       "    <tr>\n",
       "      <th>81</th>\n",
       "      <td>Koweït</td>\n",
       "      <td>46.25</td>\n",
       "      <td>29754.607886</td>\n",
       "      <td>-0.05</td>\n",
       "      <td>NaN</td>\n",
       "      <td>3.1206</td>\n",
       "      <td>NaN</td>\n",
       "    </tr>\n",
       "    <tr>\n",
       "      <th>88</th>\n",
       "      <td>Macédoine du Nord</td>\n",
       "      <td>19.73</td>\n",
       "      <td>5430.875559</td>\n",
       "      <td>-0.25</td>\n",
       "      <td>NaN</td>\n",
       "      <td>0.7586</td>\n",
       "      <td>NaN</td>\n",
       "    </tr>\n",
       "    <tr>\n",
       "      <th>93</th>\n",
       "      <td>Mali</td>\n",
       "      <td>2.83</td>\n",
       "      <td>830.021400</td>\n",
       "      <td>-1.91</td>\n",
       "      <td>5.817459</td>\n",
       "      <td>3.1766</td>\n",
       "      <td>NaN</td>\n",
       "    </tr>\n",
       "    <tr>\n",
       "      <th>97</th>\n",
       "      <td>Mauritanie</td>\n",
       "      <td>5.14</td>\n",
       "      <td>1587.863354</td>\n",
       "      <td>-0.63</td>\n",
       "      <td>NaN</td>\n",
       "      <td>3.0411</td>\n",
       "      <td>NaN</td>\n",
       "    </tr>\n",
       "    <tr>\n",
       "      <th>100</th>\n",
       "      <td>Monténégro</td>\n",
       "      <td>15.98</td>\n",
       "      <td>7738.844301</td>\n",
       "      <td>-0.06</td>\n",
       "      <td>NaN</td>\n",
       "      <td>0.1240</td>\n",
       "      <td>NaN</td>\n",
       "    </tr>\n",
       "    <tr>\n",
       "      <th>117</th>\n",
       "      <td>Pays-Bas</td>\n",
       "      <td>20.33</td>\n",
       "      <td>48989.638816</td>\n",
       "      <td>0.92</td>\n",
       "      <td>2291.704118</td>\n",
       "      <td>0.1977</td>\n",
       "      <td>NaN</td>\n",
       "    </tr>\n",
       "    <tr>\n",
       "      <th>120</th>\n",
       "      <td>Polynésie française</td>\n",
       "      <td>47.40</td>\n",
       "      <td>21127.527812</td>\n",
       "      <td>0.28</td>\n",
       "      <td>NaN</td>\n",
       "      <td>0.9671</td>\n",
       "      <td>NaN</td>\n",
       "    </tr>\n",
       "    <tr>\n",
       "      <th>127</th>\n",
       "      <td>République de Corée</td>\n",
       "      <td>16.70</td>\n",
       "      <td>31781.123320</td>\n",
       "      <td>0.39</td>\n",
       "      <td>654.113188</td>\n",
       "      <td>0.4439</td>\n",
       "      <td>NaN</td>\n",
       "    </tr>\n",
       "    <tr>\n",
       "      <th>130</th>\n",
       "      <td>République démocratique populaire lao</td>\n",
       "      <td>10.91</td>\n",
       "      <td>2455.209197</td>\n",
       "      <td>0.40</td>\n",
       "      <td>NaN</td>\n",
       "      <td>4.5412</td>\n",
       "      <td>NaN</td>\n",
       "    </tr>\n",
       "    <tr>\n",
       "      <th>131</th>\n",
       "      <td>République populaire démocratique de Corée</td>\n",
       "      <td>1.62</td>\n",
       "      <td>682.848778</td>\n",
       "      <td>-0.50</td>\n",
       "      <td>NaN</td>\n",
       "      <td>0.0050</td>\n",
       "      <td>NaN</td>\n",
       "    </tr>\n",
       "    <tr>\n",
       "      <th>142</th>\n",
       "      <td>Soudan</td>\n",
       "      <td>1.60</td>\n",
       "      <td>2990.996556</td>\n",
       "      <td>-1.98</td>\n",
       "      <td>77.029273</td>\n",
       "      <td>2.3241</td>\n",
       "      <td>NaN</td>\n",
       "    </tr>\n",
       "    <tr>\n",
       "      <th>148</th>\n",
       "      <td>Tadjikistan</td>\n",
       "      <td>4.45</td>\n",
       "      <td>848.668435</td>\n",
       "      <td>-0.67</td>\n",
       "      <td>10.963332</td>\n",
       "      <td>1.5625</td>\n",
       "      <td>NaN</td>\n",
       "    </tr>\n",
       "    <tr>\n",
       "      <th>152</th>\n",
       "      <td>Timor-Leste</td>\n",
       "      <td>4.24</td>\n",
       "      <td>1299.496723</td>\n",
       "      <td>0.07</td>\n",
       "      <td>4.619315</td>\n",
       "      <td>3.3344</td>\n",
       "      <td>NaN</td>\n",
       "    </tr>\n",
       "    <tr>\n",
       "      <th>156</th>\n",
       "      <td>Turkménistan</td>\n",
       "      <td>4.52</td>\n",
       "      <td>6985.049565</td>\n",
       "      <td>-0.13</td>\n",
       "      <td>NaN</td>\n",
       "      <td>2.3488</td>\n",
       "      <td>NaN</td>\n",
       "    </tr>\n",
       "    <tr>\n",
       "      <th>161</th>\n",
       "      <td>Venezuela (République bolivarienne du)</td>\n",
       "      <td>20.28</td>\n",
       "      <td>8432.355572</td>\n",
       "      <td>-1.27</td>\n",
       "      <td>NaN</td>\n",
       "      <td>0.9554</td>\n",
       "      <td>NaN</td>\n",
       "    </tr>\n",
       "    <tr>\n",
       "      <th>163</th>\n",
       "      <td>Yémen</td>\n",
       "      <td>8.53</td>\n",
       "      <td>660.742569</td>\n",
       "      <td>-2.94</td>\n",
       "      <td>NaN</td>\n",
       "      <td>1.2851</td>\n",
       "      <td>NaN</td>\n",
       "    </tr>\n",
       "    <tr>\n",
       "      <th>165</th>\n",
       "      <td>Zimbabwe</td>\n",
       "      <td>4.68</td>\n",
       "      <td>1548.168976</td>\n",
       "      <td>-0.71</td>\n",
       "      <td>34.396960</td>\n",
       "      <td>0.4701</td>\n",
       "      <td>NaN</td>\n",
       "    </tr>\n",
       "    <tr>\n",
       "      <th>167</th>\n",
       "      <td>Émirats arabes unis</td>\n",
       "      <td>43.47</td>\n",
       "      <td>40644.804043</td>\n",
       "      <td>0.62</td>\n",
       "      <td>61.047445</td>\n",
       "      <td>1.3242</td>\n",
       "      <td>NaN</td>\n",
       "    </tr>\n",
       "  </tbody>\n",
       "</table>\n",
       "</div>"
      ],
      "text/plain": [
       "                                           Zone  \\\n",
       "4                                     Allemagne   \n",
       "11                                     Autriche   \n",
       "15                                      Barbade   \n",
       "19                           Bosnie-Herzégovine   \n",
       "31                     Chine - RAS de Hong-Kong   \n",
       "32                         Chine - RAS de Macao   \n",
       "33                    Chine, Taiwan Province de   \n",
       "43                                     Djibouti   \n",
       "68               Iran (République islamique d')   \n",
       "69                                         Iraq   \n",
       "75                                        Japon   \n",
       "81                                       Koweït   \n",
       "88                            Macédoine du Nord   \n",
       "93                                         Mali   \n",
       "97                                   Mauritanie   \n",
       "100                                  Monténégro   \n",
       "117                                    Pays-Bas   \n",
       "120                         Polynésie française   \n",
       "127                         République de Corée   \n",
       "130       République démocratique populaire lao   \n",
       "131  République populaire démocratique de Corée   \n",
       "142                                      Soudan   \n",
       "148                                 Tadjikistan   \n",
       "152                                 Timor-Leste   \n",
       "156                                Turkménistan   \n",
       "161      Venezuela (République bolivarienne du)   \n",
       "163                                       Yémen   \n",
       "165                                    Zimbabwe   \n",
       "167                         Émirats arabes unis   \n",
       "\n",
       "     Viande de volaille - Disponibilité alimentaire en quantité (kg/personne/an)  \\\n",
       "4                                                19.47                             \n",
       "11                                               18.20                             \n",
       "15                                               46.78                             \n",
       "19                                               16.70                             \n",
       "31                                               53.51                             \n",
       "32                                               34.47                             \n",
       "33                                               33.17                             \n",
       "43                                                2.68                             \n",
       "68                                               27.52                             \n",
       "69                                               14.95                             \n",
       "75                                               18.50                             \n",
       "81                                               46.25                             \n",
       "88                                               19.73                             \n",
       "93                                                2.83                             \n",
       "97                                                5.14                             \n",
       "100                                              15.98                             \n",
       "117                                              20.33                             \n",
       "120                                              47.40                             \n",
       "127                                              16.70                             \n",
       "130                                              10.91                             \n",
       "131                                               1.62                             \n",
       "142                                               1.60                             \n",
       "148                                               4.45                             \n",
       "152                                               4.24                             \n",
       "156                                               4.52                             \n",
       "161                                              20.28                             \n",
       "163                                               8.53                             \n",
       "165                                               4.68                             \n",
       "167                                              43.47                             \n",
       "\n",
       "     PIB (US$) par habitant  Stabilité Politique  \\\n",
       "4              44651.829102                 0.59   \n",
       "11             47309.051637                 1.05   \n",
       "15             17404.023659                 0.97   \n",
       "19              5394.741461                -0.35   \n",
       "31             46709.014466                 0.83   \n",
       "32             81018.552734                 1.43   \n",
       "33             24952.240000                 0.90   \n",
       "43              2930.696963                -0.74   \n",
       "68              6243.780412                -0.93   \n",
       "69              4985.453728                -2.31   \n",
       "75             38672.407740                 1.11   \n",
       "81             29754.607886                -0.05   \n",
       "88              5430.875559                -0.25   \n",
       "93               830.021400                -1.91   \n",
       "97              1587.863354                -0.63   \n",
       "100             7738.844301                -0.06   \n",
       "117            48989.638816                 0.92   \n",
       "120            21127.527812                 0.28   \n",
       "127            31781.123320                 0.39   \n",
       "130             2455.209197                 0.40   \n",
       "131              682.848778                -0.50   \n",
       "142             2990.996556                -1.98   \n",
       "148              848.668435                -0.67   \n",
       "152             1299.496723                 0.07   \n",
       "156             6985.049565                -0.13   \n",
       "161             8432.355572                -1.27   \n",
       "163              660.742569                -2.94   \n",
       "165             1548.168976                -0.71   \n",
       "167            40644.804043                 0.62   \n",
       "\n",
       "     Crédit à l'Agriculture, Sylviculture et Pêche par habitant - (US$)  \\\n",
       "4                                           685.475196                    \n",
       "11                                           82.485583                    \n",
       "15                                           12.715444                    \n",
       "19                                           28.458009                    \n",
       "31                                                 NaN                    \n",
       "32                                                 NaN                    \n",
       "33                                                 NaN                    \n",
       "43                                                 NaN                    \n",
       "68                                                 NaN                    \n",
       "69                                           41.985275                    \n",
       "75                                                 NaN                    \n",
       "81                                                 NaN                    \n",
       "88                                                 NaN                    \n",
       "93                                            5.817459                    \n",
       "97                                                 NaN                    \n",
       "100                                                NaN                    \n",
       "117                                        2291.704118                    \n",
       "120                                                NaN                    \n",
       "127                                         654.113188                    \n",
       "130                                                NaN                    \n",
       "131                                                NaN                    \n",
       "142                                          77.029273                    \n",
       "148                                          10.963332                    \n",
       "152                                           4.619315                    \n",
       "156                                                NaN                    \n",
       "161                                                NaN                    \n",
       "163                                                NaN                    \n",
       "165                                          34.396960                    \n",
       "167                                          61.047445                    \n",
       "\n",
       "     Viande, poulet – Intensité des émissions (Kilogrammes d'équivalent CO2 par kilogramme)  \\\n",
       "4                                               0.4118                                        \n",
       "11                                              0.2569                                        \n",
       "15                                              0.9308                                        \n",
       "19                                              0.7141                                        \n",
       "31                                              0.6639                                        \n",
       "32                                              0.7279                                        \n",
       "33                                              0.3723                                        \n",
       "43                                                 NaN                                        \n",
       "68                                              1.5437                                        \n",
       "69                                              1.9320                                        \n",
       "75                                              0.3016                                        \n",
       "81                                              3.1206                                        \n",
       "88                                              0.7586                                        \n",
       "93                                              3.1766                                        \n",
       "97                                              3.0411                                        \n",
       "100                                             0.1240                                        \n",
       "117                                             0.1977                                        \n",
       "120                                             0.9671                                        \n",
       "127                                             0.4439                                        \n",
       "130                                             4.5412                                        \n",
       "131                                             0.0050                                        \n",
       "142                                             2.3241                                        \n",
       "148                                             1.5625                                        \n",
       "152                                             3.3344                                        \n",
       "156                                             2.3488                                        \n",
       "161                                             0.9554                                        \n",
       "163                                             1.2851                                        \n",
       "165                                             0.4701                                        \n",
       "167                                             1.3242                                        \n",
       "\n",
       "     Investissements de l'administration centrale dans l’agriculture, sylviculture et peche par habitant (US$)  \n",
       "4                                                  NaN                                                          \n",
       "11                                                 NaN                                                          \n",
       "15                                                 NaN                                                          \n",
       "19                                                 NaN                                                          \n",
       "31                                                 NaN                                                          \n",
       "32                                                 NaN                                                          \n",
       "33                                                 NaN                                                          \n",
       "43                                                 NaN                                                          \n",
       "68                                                 NaN                                                          \n",
       "69                                                 NaN                                                          \n",
       "75                                                 NaN                                                          \n",
       "81                                                 NaN                                                          \n",
       "88                                                 NaN                                                          \n",
       "93                                                 NaN                                                          \n",
       "97                                                 NaN                                                          \n",
       "100                                                NaN                                                          \n",
       "117                                                NaN                                                          \n",
       "120                                                NaN                                                          \n",
       "127                                                NaN                                                          \n",
       "130                                                NaN                                                          \n",
       "131                                                NaN                                                          \n",
       "142                                                NaN                                                          \n",
       "148                                                NaN                                                          \n",
       "152                                                NaN                                                          \n",
       "156                                                NaN                                                          \n",
       "161                                                NaN                                                          \n",
       "163                                                NaN                                                          \n",
       "165                                                NaN                                                          \n",
       "167                                                NaN                                                          "
      ]
     },
     "metadata": {},
     "output_type": "display_data"
    }
   ],
   "source": [
    "#Trouver les valeurs nulls pour Investissements de l'administration centrale dans l’agriculture, sylviculture et peche par habitant (US$)\n",
    "display(analyse.loc[analyse[\"Investissements de l'administration centrale dans l’agriculture, sylviculture et peche par habitant (US$)\"].isnull()].head(29))"
   ]
  },
  {
   "cell_type": "markdown",
   "id": "5b2d4c2a",
   "metadata": {},
   "source": [
    "La FAO explique que les données sur le crédit à l'agriculture, et sur les investissements de l'administration centrale dans l’agriculture ont des taux de réponse relativement faibles. \n",
    "En raison du fait qu'il serait difficile d'imputer les niveaux de crédit disponibles sur la base du PIB ou de la population (un pays pourrait avoir un PIB élevé ou une population importante mais pas beaucoup d'agriculture), et qu'il n'y a pas de tendances claires en termes de pays avec valeurs nulles, j'ai décidé de changer les valeurs nulles aux valeurs moyennes de chaque colonne"
   ]
  },
  {
   "cell_type": "code",
   "execution_count": 105,
   "id": "a6c8bda1",
   "metadata": {},
   "outputs": [],
   "source": [
    "#Remplissez les valeurs null dans les colonnes de crédit et d'investissement avec des valeurs moyennes\n",
    "crédit_moyen = analyse[\"Crédit à l'Agriculture, Sylviculture et Pêche par habitant - (US$)\"].mean()\n",
    "investissement_moyen = analyse[\"Investissements de l'administration centrale dans l’agriculture, sylviculture et peche par habitant (US$)\"].mean()\n",
    "\n",
    "analyse[\"Crédit à l'Agriculture, Sylviculture et Pêche par habitant - (US$)\"].fillna(crédit_moyen, inplace=True)\n",
    "analyse[\"Investissements de l\\'administration centrale dans l’agriculture, sylviculture et peche par habitant (US$)\"].fillna(investissement_moyen, inplace=True)\n"
   ]
  },
  {
   "cell_type": "code",
   "execution_count": 106,
   "id": "33202ba8",
   "metadata": {},
   "outputs": [
    {
     "data": {
      "text/html": [
       "<div>\n",
       "<style scoped>\n",
       "    .dataframe tbody tr th:only-of-type {\n",
       "        vertical-align: middle;\n",
       "    }\n",
       "\n",
       "    .dataframe tbody tr th {\n",
       "        vertical-align: top;\n",
       "    }\n",
       "\n",
       "    .dataframe thead th {\n",
       "        text-align: right;\n",
       "    }\n",
       "</style>\n",
       "<table border=\"1\" class=\"dataframe\">\n",
       "  <thead>\n",
       "    <tr style=\"text-align: right;\">\n",
       "      <th></th>\n",
       "      <th>Zone</th>\n",
       "      <th>Viande de volaille - Disponibilité alimentaire en quantité (kg/personne/an)</th>\n",
       "      <th>PIB (US$) par habitant</th>\n",
       "      <th>Stabilité Politique</th>\n",
       "      <th>Crédit à l'Agriculture, Sylviculture et Pêche par habitant - (US$)</th>\n",
       "      <th>Viande, poulet – Intensité des émissions (Kilogrammes d'équivalent CO2 par kilogramme)</th>\n",
       "      <th>Investissements de l'administration centrale dans l’agriculture, sylviculture et peche par habitant (US$)</th>\n",
       "    </tr>\n",
       "  </thead>\n",
       "  <tbody>\n",
       "    <tr>\n",
       "      <th>43</th>\n",
       "      <td>Djibouti</td>\n",
       "      <td>2.68</td>\n",
       "      <td>2930.696963</td>\n",
       "      <td>-0.74</td>\n",
       "      <td>261.808033</td>\n",
       "      <td>NaN</td>\n",
       "      <td>52.622785</td>\n",
       "    </tr>\n",
       "    <tr>\n",
       "      <th>71</th>\n",
       "      <td>Islande</td>\n",
       "      <td>29.95</td>\n",
       "      <td>73949.769215</td>\n",
       "      <td>1.35</td>\n",
       "      <td>261.808033</td>\n",
       "      <td>NaN</td>\n",
       "      <td>558.803563</td>\n",
       "    </tr>\n",
       "    <tr>\n",
       "      <th>83</th>\n",
       "      <td>Lettonie</td>\n",
       "      <td>20.89</td>\n",
       "      <td>15623.931572</td>\n",
       "      <td>0.46</td>\n",
       "      <td>261.808033</td>\n",
       "      <td>NaN</td>\n",
       "      <td>77.510242</td>\n",
       "    </tr>\n",
       "    <tr>\n",
       "      <th>92</th>\n",
       "      <td>Maldives</td>\n",
       "      <td>13.50</td>\n",
       "      <td>9577.289370</td>\n",
       "      <td>0.23</td>\n",
       "      <td>66.046339</td>\n",
       "      <td>NaN</td>\n",
       "      <td>3.928268</td>\n",
       "    </tr>\n",
       "  </tbody>\n",
       "</table>\n",
       "</div>"
      ],
      "text/plain": [
       "        Zone  \\\n",
       "43  Djibouti   \n",
       "71   Islande   \n",
       "83  Lettonie   \n",
       "92  Maldives   \n",
       "\n",
       "    Viande de volaille - Disponibilité alimentaire en quantité (kg/personne/an)  \\\n",
       "43                                               2.68                             \n",
       "71                                              29.95                             \n",
       "83                                              20.89                             \n",
       "92                                              13.50                             \n",
       "\n",
       "    PIB (US$) par habitant  Stabilité Politique  \\\n",
       "43             2930.696963                -0.74   \n",
       "71            73949.769215                 1.35   \n",
       "83            15623.931572                 0.46   \n",
       "92             9577.289370                 0.23   \n",
       "\n",
       "    Crédit à l'Agriculture, Sylviculture et Pêche par habitant - (US$)  \\\n",
       "43                                         261.808033                    \n",
       "71                                         261.808033                    \n",
       "83                                         261.808033                    \n",
       "92                                          66.046339                    \n",
       "\n",
       "    Viande, poulet – Intensité des émissions (Kilogrammes d'équivalent CO2 par kilogramme)  \\\n",
       "43                                                NaN                                        \n",
       "71                                                NaN                                        \n",
       "83                                                NaN                                        \n",
       "92                                                NaN                                        \n",
       "\n",
       "    Investissements de l'administration centrale dans l’agriculture, sylviculture et peche par habitant (US$)  \n",
       "43                                          52.622785                                                          \n",
       "71                                         558.803563                                                          \n",
       "83                                          77.510242                                                          \n",
       "92                                           3.928268                                                          "
      ]
     },
     "execution_count": 106,
     "metadata": {},
     "output_type": "execute_result"
    }
   ],
   "source": [
    "#Trouver les valeurs nulls pour \"Viande, poulet – Intensité des émissions (Kilogrammes d'équivalent CO2 par kilogramme)\"\n",
    "analyse.loc[analyse[\"Viande, poulet – Intensité des émissions (Kilogrammes d'équivalent CO2 par kilogramme)\"].isnull()]"
   ]
  },
  {
   "cell_type": "code",
   "execution_count": 107,
   "id": "f4450ef1",
   "metadata": {},
   "outputs": [],
   "source": [
    "# Selon la FAO, le Djibouti et les Maldives ne produisent pas de poulet, leurs émissions seront donc nulles.\n",
    "analyse.loc[analyse['Zone']=='Djibouti', \"Viande, poulet – Intensité des émissions (Kilogrammes d'équivalent CO2 par kilogramme)\"]= 0\n",
    "analyse.loc[analyse['Zone']=='Maldives', \"Viande, poulet – Intensité des émissions (Kilogrammes d'équivalent CO2 par kilogramme)\"]= 0"
   ]
  },
  {
   "cell_type": "markdown",
   "id": "fb3ce664",
   "metadata": {},
   "source": [
    "Selon la FAO, les émissions de poulets de l'Islande étaient de 0,0075 en 2013 et de 0,008 en 2019. Si je fais la moyenne du changement par an sur les 6 ans pour estimer le changement d'une année sur l'autre, je peux estimer que l'Islande a produit 0,0078 kilogrammes d'équivalent CO2 par kilogramme en 2017.\n",
    "\n",
    "Pour la Lettonie, la FAO dispose de données jusqu'en 2016. Si je fais la moyenne des changements d'une année sur l'autre au cours des 5 dernières années, la variation moyenne est de 0,03386. Si j'ajoute cela aux émissions de 2016 (0,1945), je peux l'utiliser comme estimation pour 2017 (0.2283)."
   ]
  },
  {
   "cell_type": "code",
   "execution_count": 108,
   "id": "a50feea1",
   "metadata": {},
   "outputs": [],
   "source": [
    "#Ajouter des valeurs imputées\n",
    "analyse.loc[analyse['Zone']=='Islande', \"Viande, poulet – Intensité des émissions (Kilogrammes d'équivalent CO2 par kilogramme)\"]= 0.0078 \n",
    "\n",
    "analyse.loc[analyse['Zone']=='Lettonie', \"Viande, poulet – Intensité des émissions (Kilogrammes d'équivalent CO2 par kilogramme)\"]= 0.2283 "
   ]
  },
  {
   "cell_type": "code",
   "execution_count": 109,
   "id": "fd6236b6",
   "metadata": {},
   "outputs": [
    {
     "name": "stdout",
     "output_type": "stream",
     "text": [
      "Le tableau a 7 colonnes\n",
      "-\n",
      "La nature des données dans chacune des colonnes est:\n",
      "Zone                                                                                                          object\n",
      "Viande de volaille - Disponibilité alimentaire en quantité (kg/personne/an)                                  float64\n",
      "PIB (US$) par habitant                                                                                       float64\n",
      "Stabilité Politique                                                                                          float64\n",
      "Crédit à l'Agriculture, Sylviculture et Pêche par habitant - (US$)                                           float64\n",
      "Viande, poulet – Intensité des émissions (Kilogrammes d'équivalent CO2 par kilogramme)                       float64\n",
      "Investissements de l'administration centrale dans l’agriculture, sylviculture et peche par habitant (US$)    float64\n",
      "dtype: object\n",
      "-\n"
     ]
    }
   ],
   "source": [
    "#Consulter le nombre de colonnes\n",
    "print('Le tableau a', analyse.shape[1], 'colonnes')\n",
    "print('-')\n",
    "#La nature des données dans chacune des colonnes\n",
    "print('La nature des données dans chacune des colonnes est:')\n",
    "print(analyse.dtypes)\n",
    "print('-')"
   ]
  },
  {
   "cell_type": "code",
   "execution_count": 110,
   "id": "f974dff0",
   "metadata": {},
   "outputs": [
    {
     "data": {
      "text/html": [
       "<div>\n",
       "<style scoped>\n",
       "    .dataframe tbody tr th:only-of-type {\n",
       "        vertical-align: middle;\n",
       "    }\n",
       "\n",
       "    .dataframe tbody tr th {\n",
       "        vertical-align: top;\n",
       "    }\n",
       "\n",
       "    .dataframe thead th {\n",
       "        text-align: right;\n",
       "    }\n",
       "</style>\n",
       "<table border=\"1\" class=\"dataframe\">\n",
       "  <thead>\n",
       "    <tr style=\"text-align: right;\">\n",
       "      <th></th>\n",
       "      <th>Viande de volaille - Disponibilité alimentaire en quantité (kg/personne/an)</th>\n",
       "      <th>PIB (US$) par habitant</th>\n",
       "      <th>Stabilité Politique</th>\n",
       "      <th>Crédit à l'Agriculture, Sylviculture et Pêche par habitant - (US$)</th>\n",
       "      <th>Viande, poulet – Intensité des émissions (Kilogrammes d'équivalent CO2 par kilogramme)</th>\n",
       "      <th>Investissements de l'administration centrale dans l’agriculture, sylviculture et peche par habitant (US$)</th>\n",
       "    </tr>\n",
       "  </thead>\n",
       "  <tbody>\n",
       "    <tr>\n",
       "      <th>count</th>\n",
       "      <td>172.000000</td>\n",
       "      <td>172.000000</td>\n",
       "      <td>172.000000</td>\n",
       "      <td>172.000000</td>\n",
       "      <td>172.000000</td>\n",
       "      <td>172.000000</td>\n",
       "    </tr>\n",
       "    <tr>\n",
       "      <th>mean</th>\n",
       "      <td>20.213372</td>\n",
       "      <td>14110.122558</td>\n",
       "      <td>-0.060756</td>\n",
       "      <td>261.808033</td>\n",
       "      <td>1.390986</td>\n",
       "      <td>52.622785</td>\n",
       "    </tr>\n",
       "    <tr>\n",
       "      <th>std</th>\n",
       "      <td>15.860311</td>\n",
       "      <td>19350.718197</td>\n",
       "      <td>0.894126</td>\n",
       "      <td>738.611612</td>\n",
       "      <td>1.891035</td>\n",
       "      <td>74.771551</td>\n",
       "    </tr>\n",
       "    <tr>\n",
       "      <th>min</th>\n",
       "      <td>0.130000</td>\n",
       "      <td>450.900697</td>\n",
       "      <td>-2.940000</td>\n",
       "      <td>0.239632</td>\n",
       "      <td>0.000000</td>\n",
       "      <td>0.000000</td>\n",
       "    </tr>\n",
       "    <tr>\n",
       "      <th>25%</th>\n",
       "      <td>6.440000</td>\n",
       "      <td>2009.637353</td>\n",
       "      <td>-0.622500</td>\n",
       "      <td>34.076489</td>\n",
       "      <td>0.315975</td>\n",
       "      <td>12.129114</td>\n",
       "    </tr>\n",
       "    <tr>\n",
       "      <th>50%</th>\n",
       "      <td>18.090000</td>\n",
       "      <td>6092.622361</td>\n",
       "      <td>0.015000</td>\n",
       "      <td>217.409220</td>\n",
       "      <td>0.723550</td>\n",
       "      <td>37.659031</td>\n",
       "    </tr>\n",
       "    <tr>\n",
       "      <th>75%</th>\n",
       "      <td>30.037500</td>\n",
       "      <td>17347.869910</td>\n",
       "      <td>0.650000</td>\n",
       "      <td>261.808033</td>\n",
       "      <td>1.958900</td>\n",
       "      <td>53.355988</td>\n",
       "    </tr>\n",
       "    <tr>\n",
       "      <th>max</th>\n",
       "      <td>72.310000</td>\n",
       "      <td>111017.182246</td>\n",
       "      <td>1.600000</td>\n",
       "      <td>9147.009709</td>\n",
       "      <td>15.767700</td>\n",
       "      <td>558.803563</td>\n",
       "    </tr>\n",
       "  </tbody>\n",
       "</table>\n",
       "</div>"
      ],
      "text/plain": [
       "       Viande de volaille - Disponibilité alimentaire en quantité (kg/personne/an)  \\\n",
       "count                                         172.000000                             \n",
       "mean                                           20.213372                             \n",
       "std                                            15.860311                             \n",
       "min                                             0.130000                             \n",
       "25%                                             6.440000                             \n",
       "50%                                            18.090000                             \n",
       "75%                                            30.037500                             \n",
       "max                                            72.310000                             \n",
       "\n",
       "       PIB (US$) par habitant  Stabilité Politique  \\\n",
       "count              172.000000           172.000000   \n",
       "mean             14110.122558            -0.060756   \n",
       "std              19350.718197             0.894126   \n",
       "min                450.900697            -2.940000   \n",
       "25%               2009.637353            -0.622500   \n",
       "50%               6092.622361             0.015000   \n",
       "75%              17347.869910             0.650000   \n",
       "max             111017.182246             1.600000   \n",
       "\n",
       "       Crédit à l'Agriculture, Sylviculture et Pêche par habitant - (US$)  \\\n",
       "count                                         172.000000                    \n",
       "mean                                          261.808033                    \n",
       "std                                           738.611612                    \n",
       "min                                             0.239632                    \n",
       "25%                                            34.076489                    \n",
       "50%                                           217.409220                    \n",
       "75%                                           261.808033                    \n",
       "max                                          9147.009709                    \n",
       "\n",
       "       Viande, poulet – Intensité des émissions (Kilogrammes d'équivalent CO2 par kilogramme)  \\\n",
       "count                                         172.000000                                        \n",
       "mean                                            1.390986                                        \n",
       "std                                             1.891035                                        \n",
       "min                                             0.000000                                        \n",
       "25%                                             0.315975                                        \n",
       "50%                                             0.723550                                        \n",
       "75%                                             1.958900                                        \n",
       "max                                            15.767700                                        \n",
       "\n",
       "       Investissements de l'administration centrale dans l’agriculture, sylviculture et peche par habitant (US$)  \n",
       "count                                         172.000000                                                          \n",
       "mean                                           52.622785                                                          \n",
       "std                                            74.771551                                                          \n",
       "min                                             0.000000                                                          \n",
       "25%                                            12.129114                                                          \n",
       "50%                                            37.659031                                                          \n",
       "75%                                            53.355988                                                          \n",
       "max                                           558.803563                                                          "
      ]
     },
     "execution_count": 110,
     "metadata": {},
     "output_type": "execute_result"
    }
   ],
   "source": [
    "analyse.describe()"
   ]
  },
  {
   "cell_type": "code",
   "execution_count": 111,
   "id": "ae9ec18d",
   "metadata": {},
   "outputs": [
    {
     "name": "stdout",
     "output_type": "stream",
     "text": [
      "-----------------------------------------------------------------------------------------------------\n",
      "Viande de volaille - Disponibilité alimentaire en quantité (kg/personne/an)\n",
      "-----------------------------------------------------------------------------------------------------\n",
      "moy:\n",
      " 20.21\n",
      "med:\n",
      " 18.09\n",
      "mod:\n",
      " 0     4.45\n",
      "1    12.33\n",
      "2    16.70\n",
      "Name: Viande de volaille - Disponibilité alimentaire en quantité (kg/personne/an), dtype: float64\n",
      "var:\n",
      " 250.08697234991885\n",
      "ect:\n",
      " 15.814138368874824\n",
      "skw:\n",
      " 0.8956448097853997\n",
      "kur:\n",
      " 0.36934207756551096\n"
     ]
    },
    {
     "data": {
      "image/png": "[encoded data removed]",
      "text/plain": [
       "<Figure size 640x480 with 1 Axes>"
      ]
     },
     "metadata": {},
     "output_type": "display_data"
    },
    {
     "data": {
      "image/png": "[encoded data removed]",
      "text/plain": [
       "<Figure size 640x480 with 1 Axes>"
      ]
     },
     "metadata": {},
     "output_type": "display_data"
    },
    {
     "name": "stdout",
     "output_type": "stream",
     "text": [
      "-----------------------------------------------------------------------------------------------------\n",
      "PIB (US$) par habitant\n",
      "-----------------------------------------------------------------------------------------------------\n",
      "moy:\n",
      " 14110.12\n",
      "med:\n",
      " 6092.622361254007\n",
      "mod:\n",
      " 0         450.900697\n",
      "1         461.414751\n",
      "2         499.310896\n",
      "3         506.137215\n",
      "4         515.293303\n",
      "           ...      \n",
      "167     73949.769215\n",
      "168     75220.814442\n",
      "169     81018.552734\n",
      "170     83313.013992\n",
      "171    111017.182246\n",
      "Name: PIB (US$) par habitant, Length: 172, dtype: float64\n",
      "var:\n",
      " 372273258.1593091\n",
      "ect:\n",
      " 19294.38410935444\n",
      "skw:\n",
      " 2.2319739936024665\n",
      "kur:\n",
      " 5.403960105852267\n"
     ]
    },
    {
     "data": {
      "image/png": "[encoded data removed]",
      "text/plain": [
       "<Figure size 640x480 with 1 Axes>"
      ]
     },
     "metadata": {},
     "output_type": "display_data"
    },
    {
     "data": {
      "image/png": "[encoded data removed]",
      "text/plain": [
       "<Figure size 640x480 with 1 Axes>"
      ]
     },
     "metadata": {},
     "output_type": "display_data"
    },
    {
     "name": "stdout",
     "output_type": "stream",
     "text": [
      "-----------------------------------------------------------------------------------------------------\n",
      "Stabilité Politique\n",
      "-----------------------------------------------------------------------------------------------------\n",
      "moy:\n",
      " -0.06\n",
      "med:\n",
      " 0.015\n",
      "mod:\n",
      " 0    0.28\n",
      "Name: Stabilité Politique, dtype: float64\n",
      "var:\n",
      " 0.7948139636289888\n",
      "ect:\n",
      " 0.8915233948859608\n",
      "skw:\n",
      " -0.6774289256038258\n",
      "kur:\n",
      " 0.3716924463370348\n"
     ]
    },
    {
     "data": {
      "image/png": "[encoded data removed]",
      "text/plain": [
       "<Figure size 640x480 with 1 Axes>"
      ]
     },
     "metadata": {},
     "output_type": "display_data"
    },
    {
     "data": {
      "image/png": "[encoded data removed]",
      "text/plain": [
       "<Figure size 640x480 with 1 Axes>"
      ]
     },
     "metadata": {},
     "output_type": "display_data"
    },
    {
     "name": "stdout",
     "output_type": "stream",
     "text": [
      "-----------------------------------------------------------------------------------------------------\n",
      "Crédit à l'Agriculture, Sylviculture et Pêche par habitant - (US$)\n",
      "-----------------------------------------------------------------------------------------------------\n",
      "moy:\n",
      " 261.81\n",
      "med:\n",
      " 217.40921963476865\n",
      "mod:\n",
      " 0    261.808033\n",
      "Name: Crédit à l'Agriculture, Sylviculture et Pêche par habitant - (US$), dtype: float64\n",
      "var:\n",
      " 542375.3280460897\n",
      "ect:\n",
      " 736.4613554329173\n",
      "skw:\n",
      " 10.528173989120734\n",
      "kur:\n",
      " 124.39927126290021\n"
     ]
    },
    {
     "data": {
      "image/png": "[encoded data removed]",
      "text/plain": [
       "<Figure size 640x480 with 1 Axes>"
      ]
     },
     "metadata": {},
     "output_type": "display_data"
    },
    {
     "data": {
      "image/png": "[encoded data removed]",
      "text/plain": [
       "<Figure size 640x480 with 1 Axes>"
      ]
     },
     "metadata": {},
     "output_type": "display_data"
    },
    {
     "name": "stdout",
     "output_type": "stream",
     "text": [
      "-----------------------------------------------------------------------------------------------------\n",
      "Viande, poulet – Intensité des émissions (Kilogrammes d'équivalent CO2 par kilogramme)\n",
      "-----------------------------------------------------------------------------------------------------\n",
      "moy:\n",
      " 1.39\n",
      "med:\n",
      " 0.7235499999999999\n",
      "mod:\n",
      " 0    0.0\n",
      "Name: Viande, poulet – Intensité des émissions (Kilogrammes d'équivalent CO2 par kilogramme), dtype: float64\n",
      "var:\n",
      " 3.5552231903866964\n",
      "ect:\n",
      " 1.8855299494801712\n",
      "skw:\n",
      " 4.450573444267335\n",
      "kur:\n",
      " 28.34511261594209\n"
     ]
    },
    {
     "data": {
      "image/png": "[encoded data removed]",
      "text/plain": [
       "<Figure size 640x480 with 1 Axes>"
      ]
     },
     "metadata": {},
     "output_type": "display_data"
    },
    {
     "data": {
      "image/png": "[encoded data removed]",
      "text/plain": [
       "<Figure size 640x480 with 1 Axes>"
      ]
     },
     "metadata": {},
     "output_type": "display_data"
    },
    {
     "name": "stdout",
     "output_type": "stream",
     "text": [
      "-----------------------------------------------------------------------------------------------------\n",
      "Investissements de l'administration centrale dans l’agriculture, sylviculture et peche par habitant (US$)\n",
      "-----------------------------------------------------------------------------------------------------\n",
      "moy:\n",
      " 52.62\n",
      "med:\n",
      " 37.65903135306296\n",
      "mod:\n",
      " 0    52.622785\n",
      "Name: Investissements de l'administration centrale dans l’agriculture, sylviculture et peche par habitant (US$), dtype: float64\n",
      "var:\n",
      " 5558.280339028169\n",
      "ect:\n",
      " 74.55387541253754\n",
      "skw:\n",
      " 4.140345557606485\n",
      "kur:\n",
      " 20.99259069307055\n"
     ]
    },
    {
     "data": {
      "image/png": "[encoded data removed]",
      "text/plain": [
       "<Figure size 640x480 with 1 Axes>"
      ]
     },
     "metadata": {},
     "output_type": "display_data"
    },
    {
     "data": {
      "image/png": "[encoded data removed]",
      "text/plain": [
       "<Figure size 640x480 with 1 Axes>"
      ]
     },
     "metadata": {},
     "output_type": "display_data"
    }
   ],
   "source": [
    "#Créez des histogrammes et box plots pour les colonnes\n",
    "colonnes_analyse = [ 'Viande de volaille - Disponibilité alimentaire en quantité (kg/personne/an)',\n",
    " 'PIB (US$) par habitant',\n",
    " 'Stabilité Politique',\n",
    " \"Crédit à l'Agriculture, Sylviculture et Pêche par habitant - (US$)\",\n",
    " \"Viande, poulet – Intensité des émissions (Kilogrammes d'équivalent CO2 par kilogramme)\",\n",
    " \"Investissements de l'administration centrale dans l’agriculture, sylviculture et peche par habitant (US$)\"]\n",
    "\n",
    "for column in colonnes_analyse:\n",
    "    print('-----------------------------------------------------------------------------------------------------')\n",
    "    print(column)\n",
    "    print('-----------------------------------------------------------------------------------------------------')\n",
    "    print(\"moy:\\n\",round(analyse[column].mean(), 2))\n",
    "    print(\"med:\\n\",analyse[column].median())\n",
    "    print(\"mod:\\n\",analyse[column].mode())\n",
    "    print(\"var:\\n\",analyse[column].var(ddof=0))\n",
    "    print(\"ect:\\n\",analyse[column].std(ddof=0))\n",
    "    print(\"skw:\\n\",analyse[column].skew())\n",
    "    print(\"kur:\\n\",analyse[column].kurtosis())\n",
    "    \n",
    "    analyse[column].hist(density=True,bins=30)\n",
    "    plt.show()  \n",
    "    \n",
    "    analyse.boxplot(column=column, vert=False)\n",
    "    plt.show()"
   ]
  },
  {
   "cell_type": "code",
   "execution_count": 112,
   "id": "7ac6fddd",
   "metadata": {},
   "outputs": [
    {
     "name": "stdout",
     "output_type": "stream",
     "text": [
      "Pour la colonne Viande de volaille - Disponibilité alimentaire en quantité (kg/personne/an) il y a  2  outliers\n",
      "---\n"
     ]
    },
    {
     "data": {
      "image/png": "[encoded data removed]",
      "text/plain": [
       "<Figure size 1000x600 with 1 Axes>"
      ]
     },
     "metadata": {},
     "output_type": "display_data"
    },
    {
     "name": "stdout",
     "output_type": "stream",
     "text": [
      "Pour la colonne PIB (US$) par habitant il y a  20  outliers\n",
      "---\n"
     ]
    },
    {
     "data": {
      "image/png": "[encoded data removed]",
      "text/plain": [
       "<Figure size 1000x600 with 1 Axes>"
      ]
     },
     "metadata": {},
     "output_type": "display_data"
    },
    {
     "name": "stdout",
     "output_type": "stream",
     "text": [
      "Pour la colonne Stabilité Politique il y a  2  outliers\n",
      "---\n"
     ]
    },
    {
     "data": {
      "image/png": "[encoded data removed]",
      "text/plain": [
       "<Figure size 1000x600 with 1 Axes>"
      ]
     },
     "metadata": {},
     "output_type": "display_data"
    },
    {
     "name": "stdout",
     "output_type": "stream",
     "text": [
      "Pour la colonne Crédit à l'Agriculture, Sylviculture et Pêche par habitant - (US$) il y a  10  outliers\n",
      "---\n"
     ]
    },
    {
     "data": {
      "image/png": "[encoded data removed]",
      "text/plain": [
       "<Figure size 1000x600 with 1 Axes>"
      ]
     },
     "metadata": {},
     "output_type": "display_data"
    },
    {
     "name": "stdout",
     "output_type": "stream",
     "text": [
      "Pour la colonne Viande, poulet – Intensité des émissions (Kilogrammes d'équivalent CO2 par kilogramme) il y a  4  outliers\n",
      "---\n"
     ]
    },
    {
     "data": {
      "image/png": "[encoded data removed]",
      "text/plain": [
       "<Figure size 1000x600 with 1 Axes>"
      ]
     },
     "metadata": {},
     "output_type": "display_data"
    },
    {
     "name": "stdout",
     "output_type": "stream",
     "text": [
      "Pour la colonne Investissements de l'administration centrale dans l’agriculture, sylviculture et peche par habitant (US$) il y a  11  outliers\n",
      "---\n"
     ]
    },
    {
     "data": {
      "image/png": "[encoded data removed]",
      "text/plain": [
       "<Figure size 1000x600 with 1 Axes>"
      ]
     },
     "metadata": {},
     "output_type": "display_data"
    }
   ],
   "source": [
    "# Créez des barplots avec des outliers\n",
    "for column in colonnes_analyse:\n",
    "    quartiles = analyse[column].quantile([0.25, 0.75])\n",
    "    iqr = quartiles[0.75] - quartiles[0.25]\n",
    "    iqr = iqr * 1.5\n",
    "    \n",
    "    outliers = analyse.loc[(analyse[column] > quartiles[0.75] + iqr) | (analyse[column] < quartiles[0.25] - iqr)]\n",
    "    outliers = outliers.sort_values(by=column, ascending=False)\n",
    "    \n",
    "    print('Pour la colonne', column, 'il y a ', outliers['Zone'].count(), ' outliers')\n",
    "    print('---')\n",
    "    \n",
    "    if not outliers.empty:\n",
    "        plt.figure(figsize=(10, 6))\n",
    "        sns.barplot(data=outliers, y='Zone', x=column, estimator=sum)\n",
    "        plt.title(f'Bar Plot for Outliers - {column}')\n",
    "        plt.xlabel(column)\n",
    "        plt.ylabel('Zone')\n",
    "        plt.show()\n",
    "    else:\n",
    "        print('Pas des outliers pour cette colonne')"
   ]
  },
  {
   "cell_type": "code",
   "execution_count": 113,
   "id": "eff50e3d",
   "metadata": {},
   "outputs": [],
   "source": [
    "#Créez des fichiers csv's\n",
    "analyse.to_csv('analyse.csv', index=False)\n",
    "population.to_csv('analyse_population.csv', index=False)"
   ]
  }
 ],
 "metadata": {
  "kernelspec": {
   "display_name": "Python 3 (ipykernel)",
   "language": "python",
   "name": "python3"
  },
  "language_info": {
   "codemirror_mode": {
    "name": "ipython",
    "version": 3
   },
   "file_extension": ".py",
   "mimetype": "text/x-python",
   "name": "python",
   "nbconvert_exporter": "python",
   "pygments_lexer": "ipython3",
   "version": "3.11.3"
  }
 },
 "nbformat": 4,
 "nbformat_minor": 5
}
